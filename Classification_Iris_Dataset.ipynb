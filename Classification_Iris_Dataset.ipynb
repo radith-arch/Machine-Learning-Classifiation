{
  "nbformat": 4,
  "nbformat_minor": 0,
  "metadata": {
    "colab": {
      "name": "Classification Iris Dataset.ipynb",
      "provenance": [],
      "collapsed_sections": []
    },
    "kernelspec": {
      "name": "python3",
      "display_name": "Python 3"
    }
  },
  "cells": [
    {
      "cell_type": "code",
      "metadata": {
        "id": "xp1WGmK_vS-i"
      },
      "source": [
        "import os\n",
        "import pandas as pd\n",
        "import numpy as np\n",
        "import matplotlib.pyplot as plt\n",
        "import seaborn as sb"
      ],
      "execution_count": null,
      "outputs": []
    },
    {
      "cell_type": "code",
      "metadata": {
        "id": "ETzUhtLnwDmi",
        "outputId": "41ee99be-16fc-4f09-d198-45593a96fd48",
        "colab": {
          "base_uri": "https://localhost:8080/",
          "height": 34
        }
      },
      "source": [
        "#os.chdir('/content/drive/My Drive/Datasets')\n",
        "os.listdir('.')"
      ],
      "execution_count": null,
      "outputs": [
        {
          "output_type": "execute_result",
          "data": {
            "text/plain": [
              "['iris.csv']"
            ]
          },
          "metadata": {
            "tags": []
          },
          "execution_count": 83
        }
      ]
    },
    {
      "cell_type": "code",
      "metadata": {
        "id": "pKAAlEAwDhn3"
      },
      "source": [
        "filename = 'iris.csv'\n",
        "\n",
        "dataset = pd.read_csv(filename)"
      ],
      "execution_count": null,
      "outputs": []
    },
    {
      "cell_type": "markdown",
      "metadata": {
        "id": "l2585DdeLrtE"
      },
      "source": [
        "1."
      ]
    },
    {
      "cell_type": "code",
      "metadata": {
        "id": "r9r4FvAPB8zp"
      },
      "source": [
        "from sklearn import preprocessing\n",
        "scaler = preprocessing.StandardScaler()\n",
        "\n",
        "Y = dataset['Species'] # Target prediksi\n",
        "x = dataset.drop(['Id', 'Species'], axis=1) # Data Id tidak diperlukan"
      ],
      "execution_count": null,
      "outputs": []
    },
    {
      "cell_type": "code",
      "metadata": {
        "id": "_ODtxZIsCqrz"
      },
      "source": [
        "from sklearn.preprocessing import StandardScaler\n",
        "scaler = StandardScaler()\n",
        "X = scaler.fit_transform(x)\n",
        "data_x = pd.DataFrame(X, columns=x.columns)"
      ],
      "execution_count": null,
      "outputs": []
    },
    {
      "cell_type": "code",
      "metadata": {
        "id": "GLayXJDrC0fP"
      },
      "source": [
        "from sklearn.model_selection import train_test_split\n",
        "x_train, x_test, y_train, y_test = train_test_split(data_x, Y, test_size=0.15)"
      ],
      "execution_count": null,
      "outputs": []
    },
    {
      "cell_type": "code",
      "metadata": {
        "id": "OVXqwucGEYFe",
        "outputId": "74b9b0e8-b1af-45db-b787-53633183cbe5",
        "colab": {
          "base_uri": "https://localhost:8080/",
          "height": 85
        }
      },
      "source": [
        "from sklearn.metrics import f1_score, precision_score, recall_score\n",
        "from sklearn.ensemble import RandomForestClassifier\n",
        "\n",
        "rf_model50 = RandomForestClassifier(n_estimators=50, bootstrap=True, max_features = \"sqrt\")\n",
        "rf_model50.fit(x_train, y_train)\n",
        "y_pred50 = rf_model50.predict(x_test)\n",
        "\n",
        "print('Accuracy of Random Forest estimator=50 on test set: {:.2f}'.format(rf_model50.score(x_test, y_test)))\n",
        "print(f1_score(y_test, y_pred50, average=\"macro\"))\n",
        "print(precision_score(y_test, y_pred50, average=\"macro\"))\n",
        "print(recall_score(y_test, y_pred50, average=\"macro\"))"
      ],
      "execution_count": null,
      "outputs": [
        {
          "output_type": "stream",
          "text": [
            "Accuracy of Random Forest estimator=50 on test set: 0.96\n",
            "0.9199999999999999\n",
            "0.9743589743589745\n",
            "0.8888888888888888\n"
          ],
          "name": "stdout"
        }
      ]
    },
    {
      "cell_type": "code",
      "metadata": {
        "id": "rcTfx9kuHTNE",
        "outputId": "9adf8edc-7850-4656-db27-d830d5f6a1c3",
        "colab": {
          "base_uri": "https://localhost:8080/",
          "height": 85
        }
      },
      "source": [
        "rf_model100 = RandomForestClassifier(n_estimators=100, bootstrap=True, max_features = \"sqrt\")\n",
        "rf_model100.fit(x_train, y_train)\n",
        "y_pred100 = rf_model100.predict(x_test)\n",
        "\n",
        "print('Accuracy of Random Forest estimator=100 on test set: {:.2f}'.format(rf_model100.score(x_test, y_test)))\n",
        "print(f1_score(y_test, y_pred100, average=\"macro\"))\n",
        "print(precision_score(y_test, y_pred100, average=\"macro\"))\n",
        "print(recall_score(y_test, y_pred100, average=\"macro\"))"
      ],
      "execution_count": null,
      "outputs": [
        {
          "output_type": "stream",
          "text": [
            "Accuracy of Random Forest estimator=100 on test set: 1.00\n",
            "1.0\n",
            "1.0\n",
            "1.0\n"
          ],
          "name": "stdout"
        }
      ]
    },
    {
      "cell_type": "code",
      "metadata": {
        "id": "1lKa-WuFHU4O",
        "outputId": "d0c6fdab-5f08-40b2-fa9a-cee661130d22",
        "colab": {
          "base_uri": "https://localhost:8080/",
          "height": 85
        }
      },
      "source": [
        "rf_model200 = RandomForestClassifier(n_estimators=200, bootstrap=True, max_features = \"sqrt\")\n",
        "rf_model200.fit(x_train, y_train)\n",
        "y_pred200 = rf_model200.predict(x_test)\n",
        "\n",
        "print('Accuracy of Random Forest estimator=200 on test set: {:.2f}'.format(rf_model200.score(x_test, y_test)))\n",
        "print(f1_score(y_test, y_pred200, average=\"macro\"))\n",
        "print(precision_score(y_test, y_pred200, average=\"macro\"))\n",
        "print(recall_score(y_test, y_pred200, average=\"macro\"))"
      ],
      "execution_count": null,
      "outputs": [
        {
          "output_type": "stream",
          "text": [
            "Accuracy of Random Forest estimator=200 on test set: 1.00\n",
            "1.0\n",
            "1.0\n",
            "1.0\n"
          ],
          "name": "stdout"
        }
      ]
    },
    {
      "cell_type": "markdown",
      "metadata": {
        "id": "oy7-7JXNLys-"
      },
      "source": [
        "Hasil accuracy random forest berubah setiap dilakukan running program. Hal ini di karena algoritma berupa random. Nilai estimator berfungsi mempengaruhi nilai accuracy, namun dalam data ini pada estimator 50, equivalence sudah tercapai sehingga hasil pada estimator 100 dan 200 tidak berbanding jauh dengan estimasi 50."
      ]
    },
    {
      "cell_type": "markdown",
      "metadata": {
        "id": "qsi6VrsFMHDl"
      },
      "source": [
        "2."
      ]
    },
    {
      "cell_type": "code",
      "metadata": {
        "id": "tzXrwpwgMJER",
        "outputId": "da32f1c1-9881-4c14-c86d-f342464d2d77",
        "colab": {
          "base_uri": "https://localhost:8080/",
          "height": 85
        }
      },
      "source": [
        "from sklearn.svm import SVC\n",
        "classifier_rbf = SVC(kernel = \"linear\")\n",
        "classifier_rbf.fit(x_train, y_train)\n",
        "y_pred = classifier_rbf.predict(x_test)\n",
        "print('Accuracy of SVC (linear) classifier on test set: {:.2f}'.format(classifier_rbf.score(x_test, y_test)))\n",
        "print(f1_score(y_test, y_pred, average=\"macro\"))\n",
        "print(precision_score(y_test, y_pred, average=\"macro\"))\n",
        "print(recall_score(y_test, y_pred, average=\"macro\"))"
      ],
      "execution_count": null,
      "outputs": [
        {
          "output_type": "stream",
          "text": [
            "Accuracy of SVC (linear) classifier on test set: 1.00\n",
            "1.0\n",
            "1.0\n",
            "1.0\n"
          ],
          "name": "stdout"
        }
      ]
    },
    {
      "cell_type": "code",
      "metadata": {
        "id": "Fg5sceFbNIyv",
        "outputId": "667165a5-207f-41de-9d76-1c7f123e206e",
        "colab": {
          "base_uri": "https://localhost:8080/",
          "height": 85
        }
      },
      "source": [
        "from sklearn.svm import SVC\n",
        "classifier_rbf = SVC(kernel = \"poly\")\n",
        "classifier_rbf.fit(x_train, y_train)\n",
        "y_pred = classifier_rbf.predict(x_test)\n",
        "print('Accuracy of SVC (poly) classifier on test set: {:.2f}'.format(classifier_rbf.score(x_test, y_test)))\n",
        "print(f1_score(y_test, y_pred, average=\"macro\"))\n",
        "print(precision_score(y_test, y_pred, average=\"macro\"))\n",
        "print(recall_score(y_test, y_pred, average=\"macro\"))"
      ],
      "execution_count": null,
      "outputs": [
        {
          "output_type": "stream",
          "text": [
            "Accuracy of SVC (poly) classifier on test set: 0.96\n",
            "0.9199999999999999\n",
            "0.9743589743589745\n",
            "0.8888888888888888\n"
          ],
          "name": "stdout"
        }
      ]
    },
    {
      "cell_type": "code",
      "metadata": {
        "id": "1TSUkj_WNSeJ",
        "outputId": "32536cb0-6443-44b6-99f7-84b9dba51aa0",
        "colab": {
          "base_uri": "https://localhost:8080/",
          "height": 85
        }
      },
      "source": [
        "from sklearn.svm import LinearSVC\n",
        "classifier_rbf = LinearSVC()\n",
        "classifier_rbf.fit(x_train, y_train)\n",
        "y_pred = classifier_rbf.predict(x_test)\n",
        "print('Accuracy of LinearSVC classifier on test set: {:.2f}'.format(classifier_rbf.score(x_test, y_test)))\n",
        "print(f1_score(y_test, y_pred, average=\"macro\"))\n",
        "print(precision_score(y_test, y_pred, average=\"macro\"))\n",
        "print(recall_score(y_test, y_pred, average=\"macro\"))"
      ],
      "execution_count": null,
      "outputs": [
        {
          "output_type": "stream",
          "text": [
            "Accuracy of LinearSVC classifier on test set: 0.91\n",
            "0.861111111111111\n",
            "0.861111111111111\n",
            "0.861111111111111\n"
          ],
          "name": "stdout"
        }
      ]
    },
    {
      "cell_type": "markdown",
      "metadata": {
        "id": "1sNKJ0PkOIFW"
      },
      "source": [
        "Perbandingan accuracy SVC(Linear) > SVC(Polynomial > LinearSVC. SVC(linear) "
      ]
    },
    {
      "cell_type": "markdown",
      "metadata": {
        "id": "QpfP5fISelj7"
      },
      "source": [
        "3."
      ]
    },
    {
      "cell_type": "code",
      "metadata": {
        "id": "eVciW80uembl",
        "outputId": "66ef390f-017c-4478-ea3f-3950f7f84529",
        "colab": {
          "base_uri": "https://localhost:8080/",
          "height": 969
        }
      },
      "source": [
        "from sklearn.neighbors import KNeighborsClassifier\n",
        "\n",
        "k = [1,3,5,7,9,11,13,15]\n",
        "\n",
        "for i in k:\n",
        "  knn = KNeighborsClassifier(n_neighbors=i)\n",
        "  knn.fit(x_train, y_train)\n",
        "  print(\"KNN Test Score (k =\", i , \") adalah\", knn.score(x_test, y_test))\n",
        "\n",
        "  y_pred = knn.predict(x_test)\n",
        "  print('Accuracy of KNN on test set: {:.2f}'.format(knn.score(x_test, y_test)))\n",
        "  print(\"Nilai F1 Score: \",  f1_score(y_test, y_pred, average=\"macro\"))\n",
        "  print(\"Nilai Precision Score: \",  precision_score(y_test, y_pred, average=\"macro\"))\n",
        "  print(\"Nilai Recall Score: \",  recall_score(y_test, y_pred, average=\"macro\"))\n",
        "  print(\"\\n\")"
      ],
      "execution_count": null,
      "outputs": [
        {
          "output_type": "stream",
          "text": [
            "KNN Test Score (k = 1 ) adalah 0.9565217391304348\n",
            "Accuracy of KNN on test set: 0.96\n",
            "Nilai F1 Score:  0.9199999999999999\n",
            "Nilai Precision Score:  0.9743589743589745\n",
            "Nilai Recall Score:  0.8888888888888888\n",
            "\n",
            "\n",
            "KNN Test Score (k = 3 ) adalah 0.9565217391304348\n",
            "Accuracy of KNN on test set: 0.96\n",
            "Nilai F1 Score:  0.9199999999999999\n",
            "Nilai Precision Score:  0.9743589743589745\n",
            "Nilai Recall Score:  0.8888888888888888\n",
            "\n",
            "\n",
            "KNN Test Score (k = 5 ) adalah 0.9565217391304348\n",
            "Accuracy of KNN on test set: 0.96\n",
            "Nilai F1 Score:  0.9199999999999999\n",
            "Nilai Precision Score:  0.9743589743589745\n",
            "Nilai Recall Score:  0.8888888888888888\n",
            "\n",
            "\n",
            "KNN Test Score (k = 7 ) adalah 1.0\n",
            "Accuracy of KNN on test set: 1.00\n",
            "Nilai F1 Score:  1.0\n",
            "Nilai Precision Score:  1.0\n",
            "Nilai Recall Score:  1.0\n",
            "\n",
            "\n",
            "KNN Test Score (k = 9 ) adalah 1.0\n",
            "Accuracy of KNN on test set: 1.00\n",
            "Nilai F1 Score:  1.0\n",
            "Nilai Precision Score:  1.0\n",
            "Nilai Recall Score:  1.0\n",
            "\n",
            "\n",
            "KNN Test Score (k = 11 ) adalah 1.0\n",
            "Accuracy of KNN on test set: 1.00\n",
            "Nilai F1 Score:  1.0\n",
            "Nilai Precision Score:  1.0\n",
            "Nilai Recall Score:  1.0\n",
            "\n",
            "\n",
            "KNN Test Score (k = 13 ) adalah 1.0\n",
            "Accuracy of KNN on test set: 1.00\n",
            "Nilai F1 Score:  1.0\n",
            "Nilai Precision Score:  1.0\n",
            "Nilai Recall Score:  1.0\n",
            "\n",
            "\n",
            "KNN Test Score (k = 15 ) adalah 1.0\n",
            "Accuracy of KNN on test set: 1.00\n",
            "Nilai F1 Score:  1.0\n",
            "Nilai Precision Score:  1.0\n",
            "Nilai Recall Score:  1.0\n",
            "\n",
            "\n"
          ],
          "name": "stdout"
        }
      ]
    },
    {
      "cell_type": "markdown",
      "metadata": {
        "id": "rzz_Xpuxl7p_"
      },
      "source": [
        "K terbaik pada nilai 7, 9, 11, 13,dan 15, menghasilkan F1 score 1.0 menunjukan nilai k mempengaruhi nilai akurasi"
      ]
    }
  ]
}