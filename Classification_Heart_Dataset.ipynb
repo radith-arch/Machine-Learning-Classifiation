{
  "nbformat": 4,
  "nbformat_minor": 0,
  "metadata": {
    "language_info": {
      "codemirror_mode": {
        "name": "ipython",
        "version": 3
      },
      "file_extension": ".py",
      "mimetype": "text/x-python",
      "name": "python",
      "nbconvert_exporter": "python",
      "pygments_lexer": "ipython3",
      "version": "3.7.7-final"
    },
    "orig_nbformat": 2,
    "kernelspec": {
      "name": "python_defaultSpec_1599807513990",
      "display_name": "Python 3.7.7 64-bit"
    },
    "colab": {
      "name": "Classification Heart Dataset.ipynb",
      "provenance": [],
      "collapsed_sections": []
    }
  },
  "cells": [
    {
      "cell_type": "code",
      "metadata": {
        "id": "fcq9y0LK8o0V",
        "outputId": "89a6f27d-03cc-4157-cba3-2d46f422dc87"
      },
      "source": [
        "import os\n",
        "\n",
        "os.listdir('.')\n",
        "\n",
        "# os.chdir('C:/Users/0974/Documents/Google Colab/Datasets')"
      ],
      "execution_count": null,
      "outputs": [
        {
          "output_type": "execute_result",
          "data": {
            "text/plain": [
              "['california_housing_train.csv',\n",
              " 'heart.csv',\n",
              " 'iris.csv',\n",
              " 'pima-indians-diabetes.csv',\n",
              " 'sonar.csv']"
            ]
          },
          "metadata": {
            "tags": []
          },
          "execution_count": 2
        }
      ]
    },
    {
      "cell_type": "code",
      "metadata": {
        "id": "MOo21-ZF8o0a"
      },
      "source": [
        "import pandas as pd\n",
        "import numpy as np\n",
        "import matplotlib.pyplot as plt\n",
        "import seaborn as sb"
      ],
      "execution_count": null,
      "outputs": []
    },
    {
      "cell_type": "code",
      "metadata": {
        "id": "I5Mr4Q3u8o0c"
      },
      "source": [
        "filename = 'heart.csv'\n",
        "\n",
        "dataset = pd.read_csv(filename)"
      ],
      "execution_count": null,
      "outputs": []
    },
    {
      "cell_type": "code",
      "metadata": {
        "tags": [],
        "id": "eU1S9nzw8o0f",
        "outputId": "76848b89-4fb4-43d6-8229-03f501d6fc10"
      },
      "source": [
        "dataset.info()"
      ],
      "execution_count": null,
      "outputs": [
        {
          "output_type": "stream",
          "text": [
            "<class 'pandas.core.frame.DataFrame'>\n",
            "RangeIndex: 303 entries, 0 to 302\n",
            "Data columns (total 14 columns):\n",
            " #   Column    Non-Null Count  Dtype  \n",
            "---  ------    --------------  -----  \n",
            " 0   age       303 non-null    int64  \n",
            " 1   sex       303 non-null    int64  \n",
            " 2   cp        303 non-null    int64  \n",
            " 3   trestbps  303 non-null    int64  \n",
            " 4   chol      303 non-null    int64  \n",
            " 5   fbs       303 non-null    int64  \n",
            " 6   restecg   303 non-null    int64  \n",
            " 7   thalach   303 non-null    int64  \n",
            " 8   exang     303 non-null    int64  \n",
            " 9   oldpeak   303 non-null    float64\n",
            " 10  slope     303 non-null    int64  \n",
            " 11  ca        303 non-null    int64  \n",
            " 12  thal      303 non-null    int64  \n",
            " 13  target    303 non-null    int64  \n",
            "dtypes: float64(1), int64(13)\n",
            "memory usage: 33.3 KB\n"
          ],
          "name": "stdout"
        }
      ]
    },
    {
      "cell_type": "code",
      "metadata": {
        "id": "wQ4oc1Kq8o0j",
        "outputId": "952f625e-380a-4268-a4b9-bb04533ca812"
      },
      "source": [
        "dataset.describe()"
      ],
      "execution_count": null,
      "outputs": [
        {
          "output_type": "execute_result",
          "data": {
            "text/plain": [
              "              age         sex          cp    trestbps        chol         fbs  \\\n",
              "count  303.000000  303.000000  303.000000  303.000000  303.000000  303.000000   \n",
              "mean    54.366337    0.683168    0.966997  131.623762  246.264026    0.148515   \n",
              "std      9.082101    0.466011    1.032052   17.538143   51.830751    0.356198   \n",
              "min     29.000000    0.000000    0.000000   94.000000  126.000000    0.000000   \n",
              "25%     47.500000    0.000000    0.000000  120.000000  211.000000    0.000000   \n",
              "50%     55.000000    1.000000    1.000000  130.000000  240.000000    0.000000   \n",
              "75%     61.000000    1.000000    2.000000  140.000000  274.500000    0.000000   \n",
              "max     77.000000    1.000000    3.000000  200.000000  564.000000    1.000000   \n",
              "\n",
              "          restecg     thalach       exang     oldpeak       slope          ca  \\\n",
              "count  303.000000  303.000000  303.000000  303.000000  303.000000  303.000000   \n",
              "mean     0.528053  149.646865    0.326733    1.039604    1.399340    0.729373   \n",
              "std      0.525860   22.905161    0.469794    1.161075    0.616226    1.022606   \n",
              "min      0.000000   71.000000    0.000000    0.000000    0.000000    0.000000   \n",
              "25%      0.000000  133.500000    0.000000    0.000000    1.000000    0.000000   \n",
              "50%      1.000000  153.000000    0.000000    0.800000    1.000000    0.000000   \n",
              "75%      1.000000  166.000000    1.000000    1.600000    2.000000    1.000000   \n",
              "max      2.000000  202.000000    1.000000    6.200000    2.000000    4.000000   \n",
              "\n",
              "             thal      target  \n",
              "count  303.000000  303.000000  \n",
              "mean     2.313531    0.544554  \n",
              "std      0.612277    0.498835  \n",
              "min      0.000000    0.000000  \n",
              "25%      2.000000    0.000000  \n",
              "50%      2.000000    1.000000  \n",
              "75%      3.000000    1.000000  \n",
              "max      3.000000    1.000000  "
            ],
            "text/html": [
              "<div>\n",
              "<style scoped>\n",
              "    .dataframe tbody tr th:only-of-type {\n",
              "        vertical-align: middle;\n",
              "    }\n",
              "\n",
              "    .dataframe tbody tr th {\n",
              "        vertical-align: top;\n",
              "    }\n",
              "\n",
              "    .dataframe thead th {\n",
              "        text-align: right;\n",
              "    }\n",
              "</style>\n",
              "<table border=\"1\" class=\"dataframe\">\n",
              "  <thead>\n",
              "    <tr style=\"text-align: right;\">\n",
              "      <th></th>\n",
              "      <th>age</th>\n",
              "      <th>sex</th>\n",
              "      <th>cp</th>\n",
              "      <th>trestbps</th>\n",
              "      <th>chol</th>\n",
              "      <th>fbs</th>\n",
              "      <th>restecg</th>\n",
              "      <th>thalach</th>\n",
              "      <th>exang</th>\n",
              "      <th>oldpeak</th>\n",
              "      <th>slope</th>\n",
              "      <th>ca</th>\n",
              "      <th>thal</th>\n",
              "      <th>target</th>\n",
              "    </tr>\n",
              "  </thead>\n",
              "  <tbody>\n",
              "    <tr>\n",
              "      <th>count</th>\n",
              "      <td>303.000000</td>\n",
              "      <td>303.000000</td>\n",
              "      <td>303.000000</td>\n",
              "      <td>303.000000</td>\n",
              "      <td>303.000000</td>\n",
              "      <td>303.000000</td>\n",
              "      <td>303.000000</td>\n",
              "      <td>303.000000</td>\n",
              "      <td>303.000000</td>\n",
              "      <td>303.000000</td>\n",
              "      <td>303.000000</td>\n",
              "      <td>303.000000</td>\n",
              "      <td>303.000000</td>\n",
              "      <td>303.000000</td>\n",
              "    </tr>\n",
              "    <tr>\n",
              "      <th>mean</th>\n",
              "      <td>54.366337</td>\n",
              "      <td>0.683168</td>\n",
              "      <td>0.966997</td>\n",
              "      <td>131.623762</td>\n",
              "      <td>246.264026</td>\n",
              "      <td>0.148515</td>\n",
              "      <td>0.528053</td>\n",
              "      <td>149.646865</td>\n",
              "      <td>0.326733</td>\n",
              "      <td>1.039604</td>\n",
              "      <td>1.399340</td>\n",
              "      <td>0.729373</td>\n",
              "      <td>2.313531</td>\n",
              "      <td>0.544554</td>\n",
              "    </tr>\n",
              "    <tr>\n",
              "      <th>std</th>\n",
              "      <td>9.082101</td>\n",
              "      <td>0.466011</td>\n",
              "      <td>1.032052</td>\n",
              "      <td>17.538143</td>\n",
              "      <td>51.830751</td>\n",
              "      <td>0.356198</td>\n",
              "      <td>0.525860</td>\n",
              "      <td>22.905161</td>\n",
              "      <td>0.469794</td>\n",
              "      <td>1.161075</td>\n",
              "      <td>0.616226</td>\n",
              "      <td>1.022606</td>\n",
              "      <td>0.612277</td>\n",
              "      <td>0.498835</td>\n",
              "    </tr>\n",
              "    <tr>\n",
              "      <th>min</th>\n",
              "      <td>29.000000</td>\n",
              "      <td>0.000000</td>\n",
              "      <td>0.000000</td>\n",
              "      <td>94.000000</td>\n",
              "      <td>126.000000</td>\n",
              "      <td>0.000000</td>\n",
              "      <td>0.000000</td>\n",
              "      <td>71.000000</td>\n",
              "      <td>0.000000</td>\n",
              "      <td>0.000000</td>\n",
              "      <td>0.000000</td>\n",
              "      <td>0.000000</td>\n",
              "      <td>0.000000</td>\n",
              "      <td>0.000000</td>\n",
              "    </tr>\n",
              "    <tr>\n",
              "      <th>25%</th>\n",
              "      <td>47.500000</td>\n",
              "      <td>0.000000</td>\n",
              "      <td>0.000000</td>\n",
              "      <td>120.000000</td>\n",
              "      <td>211.000000</td>\n",
              "      <td>0.000000</td>\n",
              "      <td>0.000000</td>\n",
              "      <td>133.500000</td>\n",
              "      <td>0.000000</td>\n",
              "      <td>0.000000</td>\n",
              "      <td>1.000000</td>\n",
              "      <td>0.000000</td>\n",
              "      <td>2.000000</td>\n",
              "      <td>0.000000</td>\n",
              "    </tr>\n",
              "    <tr>\n",
              "      <th>50%</th>\n",
              "      <td>55.000000</td>\n",
              "      <td>1.000000</td>\n",
              "      <td>1.000000</td>\n",
              "      <td>130.000000</td>\n",
              "      <td>240.000000</td>\n",
              "      <td>0.000000</td>\n",
              "      <td>1.000000</td>\n",
              "      <td>153.000000</td>\n",
              "      <td>0.000000</td>\n",
              "      <td>0.800000</td>\n",
              "      <td>1.000000</td>\n",
              "      <td>0.000000</td>\n",
              "      <td>2.000000</td>\n",
              "      <td>1.000000</td>\n",
              "    </tr>\n",
              "    <tr>\n",
              "      <th>75%</th>\n",
              "      <td>61.000000</td>\n",
              "      <td>1.000000</td>\n",
              "      <td>2.000000</td>\n",
              "      <td>140.000000</td>\n",
              "      <td>274.500000</td>\n",
              "      <td>0.000000</td>\n",
              "      <td>1.000000</td>\n",
              "      <td>166.000000</td>\n",
              "      <td>1.000000</td>\n",
              "      <td>1.600000</td>\n",
              "      <td>2.000000</td>\n",
              "      <td>1.000000</td>\n",
              "      <td>3.000000</td>\n",
              "      <td>1.000000</td>\n",
              "    </tr>\n",
              "    <tr>\n",
              "      <th>max</th>\n",
              "      <td>77.000000</td>\n",
              "      <td>1.000000</td>\n",
              "      <td>3.000000</td>\n",
              "      <td>200.000000</td>\n",
              "      <td>564.000000</td>\n",
              "      <td>1.000000</td>\n",
              "      <td>2.000000</td>\n",
              "      <td>202.000000</td>\n",
              "      <td>1.000000</td>\n",
              "      <td>6.200000</td>\n",
              "      <td>2.000000</td>\n",
              "      <td>4.000000</td>\n",
              "      <td>3.000000</td>\n",
              "      <td>1.000000</td>\n",
              "    </tr>\n",
              "  </tbody>\n",
              "</table>\n",
              "</div>"
            ]
          },
          "metadata": {
            "tags": []
          },
          "execution_count": 7
        }
      ]
    },
    {
      "cell_type": "code",
      "metadata": {
        "id": "TBuKc4Ur8o0l",
        "outputId": "ebf2a0ba-1f83-4ee9-fdce-df9d6c35cb1d"
      },
      "source": [
        "dataset.columns "
      ],
      "execution_count": null,
      "outputs": [
        {
          "output_type": "execute_result",
          "data": {
            "text/plain": [
              "Index(['age', 'sex', 'cp', 'trestbps', 'chol', 'fbs', 'restecg', 'thalach',\n",
              "       'exang', 'oldpeak', 'slope', 'ca', 'thal', 'target'],\n",
              "      dtype='object')"
            ]
          },
          "metadata": {
            "tags": []
          },
          "execution_count": 9
        }
      ]
    },
    {
      "cell_type": "code",
      "metadata": {
        "tags": [],
        "id": "cdZU3dea8o0o",
        "outputId": "28487331-9143-4d96-987e-40d9f0eed951"
      },
      "source": [
        "print(dataset['target'].value_counts())"
      ],
      "execution_count": null,
      "outputs": [
        {
          "output_type": "stream",
          "text": [
            "1    165\n",
            "0    138\n",
            "Name: target, dtype: int64\n"
          ],
          "name": "stdout"
        }
      ]
    },
    {
      "cell_type": "markdown",
      "metadata": {
        "id": "hVA4zv5p8o0r"
      },
      "source": [
        "Exploratory Data Analysis (EDA)"
      ]
    },
    {
      "cell_type": "code",
      "metadata": {
        "id": "ug9Mz3IU8o0r",
        "outputId": "a97b66e8-ae0e-40fe-e0fb-6890a43ecdc1"
      },
      "source": [
        "zero = dataset.loc[dataset[\"target\"] == 0]\n",
        "one = dataset.loc[dataset[\"target\"] == 1]\n",
        "plt.plot(zero[\"age\"], np.zeros_like(zero[\"age\"]), 'o')\n",
        "plt.plot(one[\"age\"], np.zeros_like(one[\"age\"]), 'o')\n",
        "\n",
        "plt.grid()\n",
        "plt.show()"
      ],
      "execution_count": null,
      "outputs": [
        {
          "output_type": "display_data",
          "data": {
            "text/plain": [
              "<Figure size 432x288 with 1 Axes>"
            ],
            "image/svg+xml": "<?xml version=\"1.0\" encoding=\"utf-8\" standalone=\"no\"?>\r\n<!DOCTYPE svg PUBLIC \"-//W3C//DTD SVG 1.1//EN\"\r\n  \"http://www.w3.org/Graphics/SVG/1.1/DTD/svg11.dtd\">\r\n<!-- Created with matplotlib (https://matplotlib.org/) -->\r\n<svg height=\"248.518125pt\" version=\"1.1\" viewBox=\"0 0 386.845312 248.518125\" width=\"386.845312pt\" xmlns=\"http://www.w3.org/2000/svg\" xmlns:xlink=\"http://www.w3.org/1999/xlink\">\r\n <metadata>\r\n  <rdf:RDF xmlns:cc=\"http://creativecommons.org/ns#\" xmlns:dc=\"http://purl.org/dc/elements/1.1/\" xmlns:rdf=\"http://www.w3.org/1999/02/22-rdf-syntax-ns#\">\r\n   <cc:Work>\r\n    <dc:type rdf:resource=\"http://purl.org/dc/dcmitype/StillImage\"/>\r\n    <dc:date>2020-09-11T13:53:32.168330</dc:date>\r\n    <dc:format>image/svg+xml</dc:format>\r\n    <dc:creator>\r\n     <cc:Agent>\r\n      <dc:title>Matplotlib v3.3.1, https://matplotlib.org/</dc:title>\r\n     </cc:Agent>\r\n    </dc:creator>\r\n   </cc:Work>\r\n  </rdf:RDF>\r\n </metadata>\r\n <defs>\r\n  <style type=\"text/css\">*{stroke-linecap:butt;stroke-linejoin:round;}</style>\r\n </defs>\r\n <g id=\"figure_1\">\r\n  <g id=\"patch_1\">\r\n   <path d=\"M 0 248.518125 \r\nL 386.845312 248.518125 \r\nL 386.845312 0 \r\nL 0 0 \r\nz\r\n\" style=\"fill:none;\"/>\r\n  </g>\r\n  <g id=\"axes_1\">\r\n   <g id=\"patch_2\">\r\n    <path d=\"M 44.845313 224.64 \r\nL 379.645313 224.64 \r\nL 379.645313 7.2 \r\nL 44.845313 7.2 \r\nz\r\n\" style=\"fill:#ffffff;\"/>\r\n   </g>\r\n   <g id=\"matplotlib.axis_1\">\r\n    <g id=\"xtick_1\">\r\n     <g id=\"line2d_1\">\r\n      <path clip-path=\"url(#p69091de9ed)\" d=\"M 66.404403 224.64 \r\nL 66.404403 7.2 \r\n\" style=\"fill:none;stroke:#b0b0b0;stroke-linecap:square;stroke-width:0.8;\"/>\r\n     </g>\r\n     <g id=\"line2d_2\">\r\n      <defs>\r\n       <path d=\"M 0 0 \r\nL 0 3.5 \r\n\" id=\"m2f2a9265d7\" style=\"stroke:#000000;stroke-width:0.8;\"/>\r\n      </defs>\r\n      <g>\r\n       <use style=\"stroke:#000000;stroke-width:0.8;\" x=\"66.404403\" xlink:href=\"#m2f2a9265d7\" y=\"224.64\"/>\r\n      </g>\r\n     </g>\r\n     <g id=\"text_1\">\r\n      <!-- 30 -->\r\n      <g transform=\"translate(60.041903 239.238437)scale(0.1 -0.1)\">\r\n       <defs>\r\n        <path d=\"M 40.578125 39.3125 \r\nQ 47.65625 37.796875 51.625 33 \r\nQ 55.609375 28.21875 55.609375 21.1875 \r\nQ 55.609375 10.40625 48.1875 4.484375 \r\nQ 40.765625 -1.421875 27.09375 -1.421875 \r\nQ 22.515625 -1.421875 17.65625 -0.515625 \r\nQ 12.796875 0.390625 7.625 2.203125 \r\nL 7.625 11.71875 \r\nQ 11.71875 9.328125 16.59375 8.109375 \r\nQ 21.484375 6.890625 26.8125 6.890625 \r\nQ 36.078125 6.890625 40.9375 10.546875 \r\nQ 45.796875 14.203125 45.796875 21.1875 \r\nQ 45.796875 27.640625 41.28125 31.265625 \r\nQ 36.765625 34.90625 28.71875 34.90625 \r\nL 20.21875 34.90625 \r\nL 20.21875 43.015625 \r\nL 29.109375 43.015625 \r\nQ 36.375 43.015625 40.234375 45.921875 \r\nQ 44.09375 48.828125 44.09375 54.296875 \r\nQ 44.09375 59.90625 40.109375 62.90625 \r\nQ 36.140625 65.921875 28.71875 65.921875 \r\nQ 24.65625 65.921875 20.015625 65.03125 \r\nQ 15.375 64.15625 9.8125 62.3125 \r\nL 9.8125 71.09375 \r\nQ 15.4375 72.65625 20.34375 73.4375 \r\nQ 25.25 74.21875 29.59375 74.21875 \r\nQ 40.828125 74.21875 47.359375 69.109375 \r\nQ 53.90625 64.015625 53.90625 55.328125 \r\nQ 53.90625 49.265625 50.4375 45.09375 \r\nQ 46.96875 40.921875 40.578125 39.3125 \r\nz\r\n\" id=\"DejaVuSans-51\"/>\r\n        <path d=\"M 31.78125 66.40625 \r\nQ 24.171875 66.40625 20.328125 58.90625 \r\nQ 16.5 51.421875 16.5 36.375 \r\nQ 16.5 21.390625 20.328125 13.890625 \r\nQ 24.171875 6.390625 31.78125 6.390625 \r\nQ 39.453125 6.390625 43.28125 13.890625 \r\nQ 47.125 21.390625 47.125 36.375 \r\nQ 47.125 51.421875 43.28125 58.90625 \r\nQ 39.453125 66.40625 31.78125 66.40625 \r\nz\r\nM 31.78125 74.21875 \r\nQ 44.046875 74.21875 50.515625 64.515625 \r\nQ 56.984375 54.828125 56.984375 36.375 \r\nQ 56.984375 17.96875 50.515625 8.265625 \r\nQ 44.046875 -1.421875 31.78125 -1.421875 \r\nQ 19.53125 -1.421875 13.0625 8.265625 \r\nQ 6.59375 17.96875 6.59375 36.375 \r\nQ 6.59375 54.828125 13.0625 64.515625 \r\nQ 19.53125 74.21875 31.78125 74.21875 \r\nz\r\n\" id=\"DejaVuSans-48\"/>\r\n       </defs>\r\n       <use xlink:href=\"#DejaVuSans-51\"/>\r\n       <use x=\"63.623047\" xlink:href=\"#DejaVuSans-48\"/>\r\n      </g>\r\n     </g>\r\n    </g>\r\n    <g id=\"xtick_2\">\r\n     <g id=\"line2d_3\">\r\n      <path clip-path=\"url(#p69091de9ed)\" d=\"M 129.813494 224.64 \r\nL 129.813494 7.2 \r\n\" style=\"fill:none;stroke:#b0b0b0;stroke-linecap:square;stroke-width:0.8;\"/>\r\n     </g>\r\n     <g id=\"line2d_4\">\r\n      <g>\r\n       <use style=\"stroke:#000000;stroke-width:0.8;\" x=\"129.813494\" xlink:href=\"#m2f2a9265d7\" y=\"224.64\"/>\r\n      </g>\r\n     </g>\r\n     <g id=\"text_2\">\r\n      <!-- 40 -->\r\n      <g transform=\"translate(123.450994 239.238437)scale(0.1 -0.1)\">\r\n       <defs>\r\n        <path d=\"M 37.796875 64.3125 \r\nL 12.890625 25.390625 \r\nL 37.796875 25.390625 \r\nz\r\nM 35.203125 72.90625 \r\nL 47.609375 72.90625 \r\nL 47.609375 25.390625 \r\nL 58.015625 25.390625 \r\nL 58.015625 17.1875 \r\nL 47.609375 17.1875 \r\nL 47.609375 0 \r\nL 37.796875 0 \r\nL 37.796875 17.1875 \r\nL 4.890625 17.1875 \r\nL 4.890625 26.703125 \r\nz\r\n\" id=\"DejaVuSans-52\"/>\r\n       </defs>\r\n       <use xlink:href=\"#DejaVuSans-52\"/>\r\n       <use x=\"63.623047\" xlink:href=\"#DejaVuSans-48\"/>\r\n      </g>\r\n     </g>\r\n    </g>\r\n    <g id=\"xtick_3\">\r\n     <g id=\"line2d_5\">\r\n      <path clip-path=\"url(#p69091de9ed)\" d=\"M 193.222585 224.64 \r\nL 193.222585 7.2 \r\n\" style=\"fill:none;stroke:#b0b0b0;stroke-linecap:square;stroke-width:0.8;\"/>\r\n     </g>\r\n     <g id=\"line2d_6\">\r\n      <g>\r\n       <use style=\"stroke:#000000;stroke-width:0.8;\" x=\"193.222585\" xlink:href=\"#m2f2a9265d7\" y=\"224.64\"/>\r\n      </g>\r\n     </g>\r\n     <g id=\"text_3\">\r\n      <!-- 50 -->\r\n      <g transform=\"translate(186.860085 239.238437)scale(0.1 -0.1)\">\r\n       <defs>\r\n        <path d=\"M 10.796875 72.90625 \r\nL 49.515625 72.90625 \r\nL 49.515625 64.59375 \r\nL 19.828125 64.59375 \r\nL 19.828125 46.734375 \r\nQ 21.96875 47.46875 24.109375 47.828125 \r\nQ 26.265625 48.1875 28.421875 48.1875 \r\nQ 40.625 48.1875 47.75 41.5 \r\nQ 54.890625 34.8125 54.890625 23.390625 \r\nQ 54.890625 11.625 47.5625 5.09375 \r\nQ 40.234375 -1.421875 26.90625 -1.421875 \r\nQ 22.3125 -1.421875 17.546875 -0.640625 \r\nQ 12.796875 0.140625 7.71875 1.703125 \r\nL 7.71875 11.625 \r\nQ 12.109375 9.234375 16.796875 8.0625 \r\nQ 21.484375 6.890625 26.703125 6.890625 \r\nQ 35.15625 6.890625 40.078125 11.328125 \r\nQ 45.015625 15.765625 45.015625 23.390625 \r\nQ 45.015625 31 40.078125 35.4375 \r\nQ 35.15625 39.890625 26.703125 39.890625 \r\nQ 22.75 39.890625 18.8125 39.015625 \r\nQ 14.890625 38.140625 10.796875 36.28125 \r\nz\r\n\" id=\"DejaVuSans-53\"/>\r\n       </defs>\r\n       <use xlink:href=\"#DejaVuSans-53\"/>\r\n       <use x=\"63.623047\" xlink:href=\"#DejaVuSans-48\"/>\r\n      </g>\r\n     </g>\r\n    </g>\r\n    <g id=\"xtick_4\">\r\n     <g id=\"line2d_7\">\r\n      <path clip-path=\"url(#p69091de9ed)\" d=\"M 256.631676 224.64 \r\nL 256.631676 7.2 \r\n\" style=\"fill:none;stroke:#b0b0b0;stroke-linecap:square;stroke-width:0.8;\"/>\r\n     </g>\r\n     <g id=\"line2d_8\">\r\n      <g>\r\n       <use style=\"stroke:#000000;stroke-width:0.8;\" x=\"256.631676\" xlink:href=\"#m2f2a9265d7\" y=\"224.64\"/>\r\n      </g>\r\n     </g>\r\n     <g id=\"text_4\">\r\n      <!-- 60 -->\r\n      <g transform=\"translate(250.269176 239.238437)scale(0.1 -0.1)\">\r\n       <defs>\r\n        <path d=\"M 33.015625 40.375 \r\nQ 26.375 40.375 22.484375 35.828125 \r\nQ 18.609375 31.296875 18.609375 23.390625 \r\nQ 18.609375 15.53125 22.484375 10.953125 \r\nQ 26.375 6.390625 33.015625 6.390625 \r\nQ 39.65625 6.390625 43.53125 10.953125 \r\nQ 47.40625 15.53125 47.40625 23.390625 \r\nQ 47.40625 31.296875 43.53125 35.828125 \r\nQ 39.65625 40.375 33.015625 40.375 \r\nz\r\nM 52.59375 71.296875 \r\nL 52.59375 62.3125 \r\nQ 48.875 64.0625 45.09375 64.984375 \r\nQ 41.3125 65.921875 37.59375 65.921875 \r\nQ 27.828125 65.921875 22.671875 59.328125 \r\nQ 17.53125 52.734375 16.796875 39.40625 \r\nQ 19.671875 43.65625 24.015625 45.921875 \r\nQ 28.375 48.1875 33.59375 48.1875 \r\nQ 44.578125 48.1875 50.953125 41.515625 \r\nQ 57.328125 34.859375 57.328125 23.390625 \r\nQ 57.328125 12.15625 50.6875 5.359375 \r\nQ 44.046875 -1.421875 33.015625 -1.421875 \r\nQ 20.359375 -1.421875 13.671875 8.265625 \r\nQ 6.984375 17.96875 6.984375 36.375 \r\nQ 6.984375 53.65625 15.1875 63.9375 \r\nQ 23.390625 74.21875 37.203125 74.21875 \r\nQ 40.921875 74.21875 44.703125 73.484375 \r\nQ 48.484375 72.75 52.59375 71.296875 \r\nz\r\n\" id=\"DejaVuSans-54\"/>\r\n       </defs>\r\n       <use xlink:href=\"#DejaVuSans-54\"/>\r\n       <use x=\"63.623047\" xlink:href=\"#DejaVuSans-48\"/>\r\n      </g>\r\n     </g>\r\n    </g>\r\n    <g id=\"xtick_5\">\r\n     <g id=\"line2d_9\">\r\n      <path clip-path=\"url(#p69091de9ed)\" d=\"M 320.040767 224.64 \r\nL 320.040767 7.2 \r\n\" style=\"fill:none;stroke:#b0b0b0;stroke-linecap:square;stroke-width:0.8;\"/>\r\n     </g>\r\n     <g id=\"line2d_10\">\r\n      <g>\r\n       <use style=\"stroke:#000000;stroke-width:0.8;\" x=\"320.040767\" xlink:href=\"#m2f2a9265d7\" y=\"224.64\"/>\r\n      </g>\r\n     </g>\r\n     <g id=\"text_5\">\r\n      <!-- 70 -->\r\n      <g transform=\"translate(313.678267 239.238437)scale(0.1 -0.1)\">\r\n       <defs>\r\n        <path d=\"M 8.203125 72.90625 \r\nL 55.078125 72.90625 \r\nL 55.078125 68.703125 \r\nL 28.609375 0 \r\nL 18.3125 0 \r\nL 43.21875 64.59375 \r\nL 8.203125 64.59375 \r\nz\r\n\" id=\"DejaVuSans-55\"/>\r\n       </defs>\r\n       <use xlink:href=\"#DejaVuSans-55\"/>\r\n       <use x=\"63.623047\" xlink:href=\"#DejaVuSans-48\"/>\r\n      </g>\r\n     </g>\r\n    </g>\r\n   </g>\r\n   <g id=\"matplotlib.axis_2\">\r\n    <g id=\"ytick_1\">\r\n     <g id=\"line2d_11\">\r\n      <path clip-path=\"url(#p69091de9ed)\" d=\"M 44.845313 194.989091 \r\nL 379.645313 194.989091 \r\n\" style=\"fill:none;stroke:#b0b0b0;stroke-linecap:square;stroke-width:0.8;\"/>\r\n     </g>\r\n     <g id=\"line2d_12\">\r\n      <defs>\r\n       <path d=\"M 0 0 \r\nL -3.5 0 \r\n\" id=\"m9faaa7c5fc\" style=\"stroke:#000000;stroke-width:0.8;\"/>\r\n      </defs>\r\n      <g>\r\n       <use style=\"stroke:#000000;stroke-width:0.8;\" x=\"44.845313\" xlink:href=\"#m9faaa7c5fc\" y=\"194.989091\"/>\r\n      </g>\r\n     </g>\r\n     <g id=\"text_6\">\r\n      <!-- −0.04 -->\r\n      <g transform=\"translate(7.2 198.78831)scale(0.1 -0.1)\">\r\n       <defs>\r\n        <path d=\"M 10.59375 35.5 \r\nL 73.1875 35.5 \r\nL 73.1875 27.203125 \r\nL 10.59375 27.203125 \r\nz\r\n\" id=\"DejaVuSans-8722\"/>\r\n        <path d=\"M 10.6875 12.40625 \r\nL 21 12.40625 \r\nL 21 0 \r\nL 10.6875 0 \r\nz\r\n\" id=\"DejaVuSans-46\"/>\r\n       </defs>\r\n       <use xlink:href=\"#DejaVuSans-8722\"/>\r\n       <use x=\"83.789062\" xlink:href=\"#DejaVuSans-48\"/>\r\n       <use x=\"147.412109\" xlink:href=\"#DejaVuSans-46\"/>\r\n       <use x=\"179.199219\" xlink:href=\"#DejaVuSans-48\"/>\r\n       <use x=\"242.822266\" xlink:href=\"#DejaVuSans-52\"/>\r\n      </g>\r\n     </g>\r\n    </g>\r\n    <g id=\"ytick_2\">\r\n     <g id=\"line2d_13\">\r\n      <path clip-path=\"url(#p69091de9ed)\" d=\"M 44.845313 155.454545 \r\nL 379.645313 155.454545 \r\n\" style=\"fill:none;stroke:#b0b0b0;stroke-linecap:square;stroke-width:0.8;\"/>\r\n     </g>\r\n     <g id=\"line2d_14\">\r\n      <g>\r\n       <use style=\"stroke:#000000;stroke-width:0.8;\" x=\"44.845313\" xlink:href=\"#m9faaa7c5fc\" y=\"155.454545\"/>\r\n      </g>\r\n     </g>\r\n     <g id=\"text_7\">\r\n      <!-- −0.02 -->\r\n      <g transform=\"translate(7.2 159.253764)scale(0.1 -0.1)\">\r\n       <defs>\r\n        <path d=\"M 19.1875 8.296875 \r\nL 53.609375 8.296875 \r\nL 53.609375 0 \r\nL 7.328125 0 \r\nL 7.328125 8.296875 \r\nQ 12.9375 14.109375 22.625 23.890625 \r\nQ 32.328125 33.6875 34.8125 36.53125 \r\nQ 39.546875 41.84375 41.421875 45.53125 \r\nQ 43.3125 49.21875 43.3125 52.78125 \r\nQ 43.3125 58.59375 39.234375 62.25 \r\nQ 35.15625 65.921875 28.609375 65.921875 \r\nQ 23.96875 65.921875 18.8125 64.3125 \r\nQ 13.671875 62.703125 7.8125 59.421875 \r\nL 7.8125 69.390625 \r\nQ 13.765625 71.78125 18.9375 73 \r\nQ 24.125 74.21875 28.421875 74.21875 \r\nQ 39.75 74.21875 46.484375 68.546875 \r\nQ 53.21875 62.890625 53.21875 53.421875 \r\nQ 53.21875 48.921875 51.53125 44.890625 \r\nQ 49.859375 40.875 45.40625 35.40625 \r\nQ 44.1875 33.984375 37.640625 27.21875 \r\nQ 31.109375 20.453125 19.1875 8.296875 \r\nz\r\n\" id=\"DejaVuSans-50\"/>\r\n       </defs>\r\n       <use xlink:href=\"#DejaVuSans-8722\"/>\r\n       <use x=\"83.789062\" xlink:href=\"#DejaVuSans-48\"/>\r\n       <use x=\"147.412109\" xlink:href=\"#DejaVuSans-46\"/>\r\n       <use x=\"179.199219\" xlink:href=\"#DejaVuSans-48\"/>\r\n       <use x=\"242.822266\" xlink:href=\"#DejaVuSans-50\"/>\r\n      </g>\r\n     </g>\r\n    </g>\r\n    <g id=\"ytick_3\">\r\n     <g id=\"line2d_15\">\r\n      <path clip-path=\"url(#p69091de9ed)\" d=\"M 44.845313 115.92 \r\nL 379.645313 115.92 \r\n\" style=\"fill:none;stroke:#b0b0b0;stroke-linecap:square;stroke-width:0.8;\"/>\r\n     </g>\r\n     <g id=\"line2d_16\">\r\n      <g>\r\n       <use style=\"stroke:#000000;stroke-width:0.8;\" x=\"44.845313\" xlink:href=\"#m9faaa7c5fc\" y=\"115.92\"/>\r\n      </g>\r\n     </g>\r\n     <g id=\"text_8\">\r\n      <!-- 0.00 -->\r\n      <g transform=\"translate(15.579688 119.719219)scale(0.1 -0.1)\">\r\n       <use xlink:href=\"#DejaVuSans-48\"/>\r\n       <use x=\"63.623047\" xlink:href=\"#DejaVuSans-46\"/>\r\n       <use x=\"95.410156\" xlink:href=\"#DejaVuSans-48\"/>\r\n       <use x=\"159.033203\" xlink:href=\"#DejaVuSans-48\"/>\r\n      </g>\r\n     </g>\r\n    </g>\r\n    <g id=\"ytick_4\">\r\n     <g id=\"line2d_17\">\r\n      <path clip-path=\"url(#p69091de9ed)\" d=\"M 44.845313 76.385455 \r\nL 379.645313 76.385455 \r\n\" style=\"fill:none;stroke:#b0b0b0;stroke-linecap:square;stroke-width:0.8;\"/>\r\n     </g>\r\n     <g id=\"line2d_18\">\r\n      <g>\r\n       <use style=\"stroke:#000000;stroke-width:0.8;\" x=\"44.845313\" xlink:href=\"#m9faaa7c5fc\" y=\"76.385455\"/>\r\n      </g>\r\n     </g>\r\n     <g id=\"text_9\">\r\n      <!-- 0.02 -->\r\n      <g transform=\"translate(15.579688 80.184673)scale(0.1 -0.1)\">\r\n       <use xlink:href=\"#DejaVuSans-48\"/>\r\n       <use x=\"63.623047\" xlink:href=\"#DejaVuSans-46\"/>\r\n       <use x=\"95.410156\" xlink:href=\"#DejaVuSans-48\"/>\r\n       <use x=\"159.033203\" xlink:href=\"#DejaVuSans-50\"/>\r\n      </g>\r\n     </g>\r\n    </g>\r\n    <g id=\"ytick_5\">\r\n     <g id=\"line2d_19\">\r\n      <path clip-path=\"url(#p69091de9ed)\" d=\"M 44.845313 36.850909 \r\nL 379.645313 36.850909 \r\n\" style=\"fill:none;stroke:#b0b0b0;stroke-linecap:square;stroke-width:0.8;\"/>\r\n     </g>\r\n     <g id=\"line2d_20\">\r\n      <g>\r\n       <use style=\"stroke:#000000;stroke-width:0.8;\" x=\"44.845313\" xlink:href=\"#m9faaa7c5fc\" y=\"36.850909\"/>\r\n      </g>\r\n     </g>\r\n     <g id=\"text_10\">\r\n      <!-- 0.04 -->\r\n      <g transform=\"translate(15.579688 40.650128)scale(0.1 -0.1)\">\r\n       <use xlink:href=\"#DejaVuSans-48\"/>\r\n       <use x=\"63.623047\" xlink:href=\"#DejaVuSans-46\"/>\r\n       <use x=\"95.410156\" xlink:href=\"#DejaVuSans-48\"/>\r\n       <use x=\"159.033203\" xlink:href=\"#DejaVuSans-52\"/>\r\n      </g>\r\n     </g>\r\n    </g>\r\n   </g>\r\n   <g id=\"line2d_21\">\r\n    <defs>\r\n     <path d=\"M 0 3 \r\nC 0.795609 3 1.55874 2.683901 2.12132 2.12132 \r\nC 2.683901 1.55874 3 0.795609 3 0 \r\nC 3 -0.795609 2.683901 -1.55874 2.12132 -2.12132 \r\nC 1.55874 -2.683901 0.795609 -3 0 -3 \r\nC -0.795609 -3 -1.55874 -2.683901 -2.12132 -2.12132 \r\nC -2.683901 -1.55874 -3 -0.795609 -3 0 \r\nC -3 0.795609 -2.683901 1.55874 -2.12132 2.12132 \r\nC -1.55874 2.683901 -0.795609 3 0 3 \r\nz\r\n\" id=\"m18ded87f93\" style=\"stroke:#1f77b4;\"/>\r\n    </defs>\r\n    <g clip-path=\"url(#p69091de9ed)\">\r\n     <use style=\"fill:#1f77b4;stroke:#1f77b4;\" x=\"301.01804\" xlink:href=\"#m18ded87f93\" y=\"115.92\"/>\r\n     <use style=\"fill:#1f77b4;stroke:#1f77b4;\" x=\"301.01804\" xlink:href=\"#m18ded87f93\" y=\"115.92\"/>\r\n     <use style=\"fill:#1f77b4;stroke:#1f77b4;\" x=\"269.313494\" xlink:href=\"#m18ded87f93\" y=\"115.92\"/>\r\n     <use style=\"fill:#1f77b4;stroke:#1f77b4;\" x=\"275.654403\" xlink:href=\"#m18ded87f93\" y=\"115.92\"/>\r\n     <use style=\"fill:#1f77b4;stroke:#1f77b4;\" x=\"212.245312\" xlink:href=\"#m18ded87f93\" y=\"115.92\"/>\r\n     <use style=\"fill:#1f77b4;stroke:#1f77b4;\" x=\"231.26804\" xlink:href=\"#m18ded87f93\" y=\"115.92\"/>\r\n     <use style=\"fill:#1f77b4;stroke:#1f77b4;\" x=\"180.540767\" xlink:href=\"#m18ded87f93\" y=\"115.92\"/>\r\n     <use style=\"fill:#1f77b4;stroke:#1f77b4;\" x=\"243.949858\" xlink:href=\"#m18ded87f93\" y=\"115.92\"/>\r\n     <use style=\"fill:#1f77b4;stroke:#1f77b4;\" x=\"243.949858\" xlink:href=\"#m18ded87f93\" y=\"115.92\"/>\r\n     <use style=\"fill:#1f77b4;stroke:#1f77b4;\" x=\"256.631676\" xlink:href=\"#m18ded87f93\" y=\"115.92\"/>\r\n     <use style=\"fill:#1f77b4;stroke:#1f77b4;\" x=\"129.813494\" xlink:href=\"#m18ded87f93\" y=\"115.92\"/>\r\n     <use style=\"fill:#1f77b4;stroke:#1f77b4;\" x=\"256.631676\" xlink:href=\"#m18ded87f93\" y=\"115.92\"/>\r\n     <use style=\"fill:#1f77b4;stroke:#1f77b4;\" x=\"281.995312\" xlink:href=\"#m18ded87f93\" y=\"115.92\"/>\r\n     <use style=\"fill:#1f77b4;stroke:#1f77b4;\" x=\"148.836222\" xlink:href=\"#m18ded87f93\" y=\"115.92\"/>\r\n     <use style=\"fill:#1f77b4;stroke:#1f77b4;\" x=\"237.608949\" xlink:href=\"#m18ded87f93\" y=\"115.92\"/>\r\n     <use style=\"fill:#1f77b4;stroke:#1f77b4;\" x=\"224.927131\" xlink:href=\"#m18ded87f93\" y=\"115.92\"/>\r\n     <use style=\"fill:#1f77b4;stroke:#1f77b4;\" x=\"288.336222\" xlink:href=\"#m18ded87f93\" y=\"115.92\"/>\r\n     <use style=\"fill:#1f77b4;stroke:#1f77b4;\" x=\"262.972585\" xlink:href=\"#m18ded87f93\" y=\"115.92\"/>\r\n     <use style=\"fill:#1f77b4;stroke:#1f77b4;\" x=\"243.949858\" xlink:href=\"#m18ded87f93\" y=\"115.92\"/>\r\n     <use style=\"fill:#1f77b4;stroke:#1f77b4;\" x=\"193.222585\" xlink:href=\"#m18ded87f93\" y=\"115.92\"/>\r\n     <use style=\"fill:#1f77b4;stroke:#1f77b4;\" x=\"155.177131\" xlink:href=\"#m18ded87f93\" y=\"115.92\"/>\r\n     <use style=\"fill:#1f77b4;stroke:#1f77b4;\" x=\"256.631676\" xlink:href=\"#m18ded87f93\" y=\"115.92\"/>\r\n     <use style=\"fill:#1f77b4;stroke:#1f77b4;\" x=\"218.586222\" xlink:href=\"#m18ded87f93\" y=\"115.92\"/>\r\n     <use style=\"fill:#1f77b4;stroke:#1f77b4;\" x=\"193.222585\" xlink:href=\"#m18ded87f93\" y=\"115.92\"/>\r\n     <use style=\"fill:#1f77b4;stroke:#1f77b4;\" x=\"136.154403\" xlink:href=\"#m18ded87f93\" y=\"115.92\"/>\r\n     <use style=\"fill:#1f77b4;stroke:#1f77b4;\" x=\"199.563494\" xlink:href=\"#m18ded87f93\" y=\"115.92\"/>\r\n     <use style=\"fill:#1f77b4;stroke:#1f77b4;\" x=\"243.949858\" xlink:href=\"#m18ded87f93\" y=\"115.92\"/>\r\n     <use style=\"fill:#1f77b4;stroke:#1f77b4;\" x=\"218.586222\" xlink:href=\"#m18ded87f93\" y=\"115.92\"/>\r\n     <use style=\"fill:#1f77b4;stroke:#1f77b4;\" x=\"256.631676\" xlink:href=\"#m18ded87f93\" y=\"115.92\"/>\r\n     <use style=\"fill:#1f77b4;stroke:#1f77b4;\" x=\"256.631676\" xlink:href=\"#m18ded87f93\" y=\"115.92\"/>\r\n     <use style=\"fill:#1f77b4;stroke:#1f77b4;\" x=\"250.290767\" xlink:href=\"#m18ded87f93\" y=\"115.92\"/>\r\n     <use style=\"fill:#1f77b4;stroke:#1f77b4;\" x=\"167.858949\" xlink:href=\"#m18ded87f93\" y=\"115.92\"/>\r\n     <use style=\"fill:#1f77b4;stroke:#1f77b4;\" x=\"301.01804\" xlink:href=\"#m18ded87f93\" y=\"115.92\"/>\r\n     <use style=\"fill:#1f77b4;stroke:#1f77b4;\" x=\"269.313494\" xlink:href=\"#m18ded87f93\" y=\"115.92\"/>\r\n     <use style=\"fill:#1f77b4;stroke:#1f77b4;\" x=\"288.336222\" xlink:href=\"#m18ded87f93\" y=\"115.92\"/>\r\n     <use style=\"fill:#1f77b4;stroke:#1f77b4;\" x=\"155.177131\" xlink:href=\"#m18ded87f93\" y=\"115.92\"/>\r\n     <use style=\"fill:#1f77b4;stroke:#1f77b4;\" x=\"256.631676\" xlink:href=\"#m18ded87f93\" y=\"115.92\"/>\r\n     <use style=\"fill:#1f77b4;stroke:#1f77b4;\" x=\"243.949858\" xlink:href=\"#m18ded87f93\" y=\"115.92\"/>\r\n     <use style=\"fill:#1f77b4;stroke:#1f77b4;\" x=\"307.358949\" xlink:href=\"#m18ded87f93\" y=\"115.92\"/>\r\n     <use style=\"fill:#1f77b4;stroke:#1f77b4;\" x=\"269.313494\" xlink:href=\"#m18ded87f93\" y=\"115.92\"/>\r\n     <use style=\"fill:#1f77b4;stroke:#1f77b4;\" x=\"205.904403\" xlink:href=\"#m18ded87f93\" y=\"115.92\"/>\r\n     <use style=\"fill:#1f77b4;stroke:#1f77b4;\" x=\"250.290767\" xlink:href=\"#m18ded87f93\" y=\"115.92\"/>\r\n     <use style=\"fill:#1f77b4;stroke:#1f77b4;\" x=\"256.631676\" xlink:href=\"#m18ded87f93\" y=\"115.92\"/>\r\n     <use style=\"fill:#1f77b4;stroke:#1f77b4;\" x=\"186.881676\" xlink:href=\"#m18ded87f93\" y=\"115.92\"/>\r\n     <use style=\"fill:#1f77b4;stroke:#1f77b4;\" x=\"250.290767\" xlink:href=\"#m18ded87f93\" y=\"115.92\"/>\r\n     <use style=\"fill:#1f77b4;stroke:#1f77b4;\" x=\"237.608949\" xlink:href=\"#m18ded87f93\" y=\"115.92\"/>\r\n     <use style=\"fill:#1f77b4;stroke:#1f77b4;\" x=\"262.972585\" xlink:href=\"#m18ded87f93\" y=\"115.92\"/>\r\n     <use style=\"fill:#1f77b4;stroke:#1f77b4;\" x=\"123.472585\" xlink:href=\"#m18ded87f93\" y=\"115.92\"/>\r\n     <use style=\"fill:#1f77b4;stroke:#1f77b4;\" x=\"262.972585\" xlink:href=\"#m18ded87f93\" y=\"115.92\"/>\r\n     <use style=\"fill:#1f77b4;stroke:#1f77b4;\" x=\"231.26804\" xlink:href=\"#m18ded87f93\" y=\"115.92\"/>\r\n     <use style=\"fill:#1f77b4;stroke:#1f77b4;\" x=\"148.836222\" xlink:href=\"#m18ded87f93\" y=\"115.92\"/>\r\n     <use style=\"fill:#1f77b4;stroke:#1f77b4;\" x=\"269.313494\" xlink:href=\"#m18ded87f93\" y=\"115.92\"/>\r\n     <use style=\"fill:#1f77b4;stroke:#1f77b4;\" x=\"275.654403\" xlink:href=\"#m18ded87f93\" y=\"115.92\"/>\r\n     <use style=\"fill:#1f77b4;stroke:#1f77b4;\" x=\"288.336222\" xlink:href=\"#m18ded87f93\" y=\"115.92\"/>\r\n     <use style=\"fill:#1f77b4;stroke:#1f77b4;\" x=\"180.540767\" xlink:href=\"#m18ded87f93\" y=\"115.92\"/>\r\n     <use style=\"fill:#1f77b4;stroke:#1f77b4;\" x=\"275.654403\" xlink:href=\"#m18ded87f93\" y=\"115.92\"/>\r\n     <use style=\"fill:#1f77b4;stroke:#1f77b4;\" x=\"224.927131\" xlink:href=\"#m18ded87f93\" y=\"115.92\"/>\r\n     <use style=\"fill:#1f77b4;stroke:#1f77b4;\" x=\"288.336222\" xlink:href=\"#m18ded87f93\" y=\"115.92\"/>\r\n     <use style=\"fill:#1f77b4;stroke:#1f77b4;\" x=\"231.26804\" xlink:href=\"#m18ded87f93\" y=\"115.92\"/>\r\n     <use style=\"fill:#1f77b4;stroke:#1f77b4;\" x=\"218.586222\" xlink:href=\"#m18ded87f93\" y=\"115.92\"/>\r\n     <use style=\"fill:#1f77b4;stroke:#1f77b4;\" x=\"320.040767\" xlink:href=\"#m18ded87f93\" y=\"115.92\"/>\r\n     <use style=\"fill:#1f77b4;stroke:#1f77b4;\" x=\"269.313494\" xlink:href=\"#m18ded87f93\" y=\"115.92\"/>\r\n     <use style=\"fill:#1f77b4;stroke:#1f77b4;\" x=\"98.108949\" xlink:href=\"#m18ded87f93\" y=\"115.92\"/>\r\n     <use style=\"fill:#1f77b4;stroke:#1f77b4;\" x=\"250.290767\" xlink:href=\"#m18ded87f93\" y=\"115.92\"/>\r\n     <use style=\"fill:#1f77b4;stroke:#1f77b4;\" x=\"281.995312\" xlink:href=\"#m18ded87f93\" y=\"115.92\"/>\r\n     <use style=\"fill:#1f77b4;stroke:#1f77b4;\" x=\"174.199858\" xlink:href=\"#m18ded87f93\" y=\"115.92\"/>\r\n     <use style=\"fill:#1f77b4;stroke:#1f77b4;\" x=\"237.608949\" xlink:href=\"#m18ded87f93\" y=\"115.92\"/>\r\n     <use style=\"fill:#1f77b4;stroke:#1f77b4;\" x=\"224.927131\" xlink:href=\"#m18ded87f93\" y=\"115.92\"/>\r\n     <use style=\"fill:#1f77b4;stroke:#1f77b4;\" x=\"281.995312\" xlink:href=\"#m18ded87f93\" y=\"115.92\"/>\r\n     <use style=\"fill:#1f77b4;stroke:#1f77b4;\" x=\"320.040767\" xlink:href=\"#m18ded87f93\" y=\"115.92\"/>\r\n     <use style=\"fill:#1f77b4;stroke:#1f77b4;\" x=\"199.563494\" xlink:href=\"#m18ded87f93\" y=\"115.92\"/>\r\n     <use style=\"fill:#1f77b4;stroke:#1f77b4;\" x=\"243.949858\" xlink:href=\"#m18ded87f93\" y=\"115.92\"/>\r\n     <use style=\"fill:#1f77b4;stroke:#1f77b4;\" x=\"256.631676\" xlink:href=\"#m18ded87f93\" y=\"115.92\"/>\r\n     <use style=\"fill:#1f77b4;stroke:#1f77b4;\" x=\"364.427131\" xlink:href=\"#m18ded87f93\" y=\"115.92\"/>\r\n     <use style=\"fill:#1f77b4;stroke:#1f77b4;\" x=\"98.108949\" xlink:href=\"#m18ded87f93\" y=\"115.92\"/>\r\n     <use style=\"fill:#1f77b4;stroke:#1f77b4;\" x=\"320.040767\" xlink:href=\"#m18ded87f93\" y=\"115.92\"/>\r\n     <use style=\"fill:#1f77b4;stroke:#1f77b4;\" x=\"250.290767\" xlink:href=\"#m18ded87f93\" y=\"115.92\"/>\r\n     <use style=\"fill:#1f77b4;stroke:#1f77b4;\" x=\"281.995312\" xlink:href=\"#m18ded87f93\" y=\"115.92\"/>\r\n     <use style=\"fill:#1f77b4;stroke:#1f77b4;\" x=\"237.608949\" xlink:href=\"#m18ded87f93\" y=\"115.92\"/>\r\n     <use style=\"fill:#1f77b4;stroke:#1f77b4;\" x=\"231.26804\" xlink:href=\"#m18ded87f93\" y=\"115.92\"/>\r\n     <use style=\"fill:#1f77b4;stroke:#1f77b4;\" x=\"180.540767\" xlink:href=\"#m18ded87f93\" y=\"115.92\"/>\r\n     <use style=\"fill:#1f77b4;stroke:#1f77b4;\" x=\"231.26804\" xlink:href=\"#m18ded87f93\" y=\"115.92\"/>\r\n     <use style=\"fill:#1f77b4;stroke:#1f77b4;\" x=\"294.677131\" xlink:href=\"#m18ded87f93\" y=\"115.92\"/>\r\n     <use style=\"fill:#1f77b4;stroke:#1f77b4;\" x=\"218.586222\" xlink:href=\"#m18ded87f93\" y=\"115.92\"/>\r\n     <use style=\"fill:#1f77b4;stroke:#1f77b4;\" x=\"313.699858\" xlink:href=\"#m18ded87f93\" y=\"115.92\"/>\r\n     <use style=\"fill:#1f77b4;stroke:#1f77b4;\" x=\"199.563494\" xlink:href=\"#m18ded87f93\" y=\"115.92\"/>\r\n     <use style=\"fill:#1f77b4;stroke:#1f77b4;\" x=\"148.836222\" xlink:href=\"#m18ded87f93\" y=\"115.92\"/>\r\n     <use style=\"fill:#1f77b4;stroke:#1f77b4;\" x=\"269.313494\" xlink:href=\"#m18ded87f93\" y=\"115.92\"/>\r\n     <use style=\"fill:#1f77b4;stroke:#1f77b4;\" x=\"301.01804\" xlink:href=\"#m18ded87f93\" y=\"115.92\"/>\r\n     <use style=\"fill:#1f77b4;stroke:#1f77b4;\" x=\"250.290767\" xlink:href=\"#m18ded87f93\" y=\"115.92\"/>\r\n     <use style=\"fill:#1f77b4;stroke:#1f77b4;\" x=\"161.51804\" xlink:href=\"#m18ded87f93\" y=\"115.92\"/>\r\n     <use style=\"fill:#1f77b4;stroke:#1f77b4;\" x=\"243.949858\" xlink:href=\"#m18ded87f93\" y=\"115.92\"/>\r\n     <use style=\"fill:#1f77b4;stroke:#1f77b4;\" x=\"193.222585\" xlink:href=\"#m18ded87f93\" y=\"115.92\"/>\r\n     <use style=\"fill:#1f77b4;stroke:#1f77b4;\" x=\"269.313494\" xlink:href=\"#m18ded87f93\" y=\"115.92\"/>\r\n     <use style=\"fill:#1f77b4;stroke:#1f77b4;\" x=\"117.131676\" xlink:href=\"#m18ded87f93\" y=\"115.92\"/>\r\n     <use style=\"fill:#1f77b4;stroke:#1f77b4;\" x=\"294.677131\" xlink:href=\"#m18ded87f93\" y=\"115.92\"/>\r\n     <use style=\"fill:#1f77b4;stroke:#1f77b4;\" x=\"205.904403\" xlink:href=\"#m18ded87f93\" y=\"115.92\"/>\r\n     <use style=\"fill:#1f77b4;stroke:#1f77b4;\" x=\"212.245312\" xlink:href=\"#m18ded87f93\" y=\"115.92\"/>\r\n     <use style=\"fill:#1f77b4;stroke:#1f77b4;\" x=\"275.654403\" xlink:href=\"#m18ded87f93\" y=\"115.92\"/>\r\n     <use style=\"fill:#1f77b4;stroke:#1f77b4;\" x=\"218.586222\" xlink:href=\"#m18ded87f93\" y=\"115.92\"/>\r\n     <use style=\"fill:#1f77b4;stroke:#1f77b4;\" x=\"294.677131\" xlink:href=\"#m18ded87f93\" y=\"115.92\"/>\r\n     <use style=\"fill:#1f77b4;stroke:#1f77b4;\" x=\"224.927131\" xlink:href=\"#m18ded87f93\" y=\"115.92\"/>\r\n     <use style=\"fill:#1f77b4;stroke:#1f77b4;\" x=\"186.881676\" xlink:href=\"#m18ded87f93\" y=\"115.92\"/>\r\n     <use style=\"fill:#1f77b4;stroke:#1f77b4;\" x=\"218.586222\" xlink:href=\"#m18ded87f93\" y=\"115.92\"/>\r\n     <use style=\"fill:#1f77b4;stroke:#1f77b4;\" x=\"231.26804\" xlink:href=\"#m18ded87f93\" y=\"115.92\"/>\r\n     <use style=\"fill:#1f77b4;stroke:#1f77b4;\" x=\"167.858949\" xlink:href=\"#m18ded87f93\" y=\"115.92\"/>\r\n     <use style=\"fill:#1f77b4;stroke:#1f77b4;\" x=\"262.972585\" xlink:href=\"#m18ded87f93\" y=\"115.92\"/>\r\n     <use style=\"fill:#1f77b4;stroke:#1f77b4;\" x=\"301.01804\" xlink:href=\"#m18ded87f93\" y=\"115.92\"/>\r\n     <use style=\"fill:#1f77b4;stroke:#1f77b4;\" x=\"243.949858\" xlink:href=\"#m18ded87f93\" y=\"115.92\"/>\r\n     <use style=\"fill:#1f77b4;stroke:#1f77b4;\" x=\"174.199858\" xlink:href=\"#m18ded87f93\" y=\"115.92\"/>\r\n     <use style=\"fill:#1f77b4;stroke:#1f77b4;\" x=\"205.904403\" xlink:href=\"#m18ded87f93\" y=\"115.92\"/>\r\n     <use style=\"fill:#1f77b4;stroke:#1f77b4;\" x=\"243.949858\" xlink:href=\"#m18ded87f93\" y=\"115.92\"/>\r\n     <use style=\"fill:#1f77b4;stroke:#1f77b4;\" x=\"237.608949\" xlink:href=\"#m18ded87f93\" y=\"115.92\"/>\r\n     <use style=\"fill:#1f77b4;stroke:#1f77b4;\" x=\"243.949858\" xlink:href=\"#m18ded87f93\" y=\"115.92\"/>\r\n     <use style=\"fill:#1f77b4;stroke:#1f77b4;\" x=\"262.972585\" xlink:href=\"#m18ded87f93\" y=\"115.92\"/>\r\n     <use style=\"fill:#1f77b4;stroke:#1f77b4;\" x=\"142.495312\" xlink:href=\"#m18ded87f93\" y=\"115.92\"/>\r\n     <use style=\"fill:#1f77b4;stroke:#1f77b4;\" x=\"205.904403\" xlink:href=\"#m18ded87f93\" y=\"115.92\"/>\r\n     <use style=\"fill:#1f77b4;stroke:#1f77b4;\" x=\"250.290767\" xlink:href=\"#m18ded87f93\" y=\"115.92\"/>\r\n     <use style=\"fill:#1f77b4;stroke:#1f77b4;\" x=\"129.813494\" xlink:href=\"#m18ded87f93\" y=\"115.92\"/>\r\n     <use style=\"fill:#1f77b4;stroke:#1f77b4;\" x=\"262.972585\" xlink:href=\"#m18ded87f93\" y=\"115.92\"/>\r\n     <use style=\"fill:#1f77b4;stroke:#1f77b4;\" x=\"167.858949\" xlink:href=\"#m18ded87f93\" y=\"115.92\"/>\r\n     <use style=\"fill:#1f77b4;stroke:#1f77b4;\" x=\"250.290767\" xlink:href=\"#m18ded87f93\" y=\"115.92\"/>\r\n     <use style=\"fill:#1f77b4;stroke:#1f77b4;\" x=\"237.608949\" xlink:href=\"#m18ded87f93\" y=\"115.92\"/>\r\n     <use style=\"fill:#1f77b4;stroke:#1f77b4;\" x=\"237.608949\" xlink:href=\"#m18ded87f93\" y=\"115.92\"/>\r\n     <use style=\"fill:#1f77b4;stroke:#1f77b4;\" x=\"224.927131\" xlink:href=\"#m18ded87f93\" y=\"115.92\"/>\r\n     <use style=\"fill:#1f77b4;stroke:#1f77b4;\" x=\"262.972585\" xlink:href=\"#m18ded87f93\" y=\"115.92\"/>\r\n     <use style=\"fill:#1f77b4;stroke:#1f77b4;\" x=\"243.949858\" xlink:href=\"#m18ded87f93\" y=\"115.92\"/>\r\n     <use style=\"fill:#1f77b4;stroke:#1f77b4;\" x=\"243.949858\" xlink:href=\"#m18ded87f93\" y=\"115.92\"/>\r\n     <use style=\"fill:#1f77b4;stroke:#1f77b4;\" x=\"301.01804\" xlink:href=\"#m18ded87f93\" y=\"115.92\"/>\r\n     <use style=\"fill:#1f77b4;stroke:#1f77b4;\" x=\"155.177131\" xlink:href=\"#m18ded87f93\" y=\"115.92\"/>\r\n     <use style=\"fill:#1f77b4;stroke:#1f77b4;\" x=\"275.654403\" xlink:href=\"#m18ded87f93\" y=\"115.92\"/>\r\n     <use style=\"fill:#1f77b4;stroke:#1f77b4;\" x=\"275.654403\" xlink:href=\"#m18ded87f93\" y=\"115.92\"/>\r\n     <use style=\"fill:#1f77b4;stroke:#1f77b4;\" x=\"250.290767\" xlink:href=\"#m18ded87f93\" y=\"115.92\"/>\r\n     <use style=\"fill:#1f77b4;stroke:#1f77b4;\" x=\"237.608949\" xlink:href=\"#m18ded87f93\" y=\"115.92\"/>\r\n     <use style=\"fill:#1f77b4;stroke:#1f77b4;\" x=\"161.51804\" xlink:href=\"#m18ded87f93\" y=\"115.92\"/>\r\n     <use style=\"fill:#1f77b4;stroke:#1f77b4;\" x=\"307.358949\" xlink:href=\"#m18ded87f93\" y=\"115.92\"/>\r\n     <use style=\"fill:#1f77b4;stroke:#1f77b4;\" x=\"237.608949\" xlink:href=\"#m18ded87f93\" y=\"115.92\"/>\r\n     <use style=\"fill:#1f77b4;stroke:#1f77b4;\" x=\"237.608949\" xlink:href=\"#m18ded87f93\" y=\"115.92\"/>\r\n    </g>\r\n   </g>\r\n   <g id=\"line2d_22\">\r\n    <defs>\r\n     <path d=\"M 0 3 \r\nC 0.795609 3 1.55874 2.683901 2.12132 2.12132 \r\nC 2.683901 1.55874 3 0.795609 3 0 \r\nC 3 -0.795609 2.683901 -1.55874 2.12132 -2.12132 \r\nC 1.55874 -2.683901 0.795609 -3 0 -3 \r\nC -0.795609 -3 -1.55874 -2.683901 -2.12132 -2.12132 \r\nC -2.683901 -1.55874 -3 -0.795609 -3 0 \r\nC -3 0.795609 -2.683901 1.55874 -2.12132 2.12132 \r\nC -1.55874 2.683901 -0.795609 3 0 3 \r\nz\r\n\" id=\"maceb26a135\" style=\"stroke:#ff7f0e;\"/>\r\n    </defs>\r\n    <g clip-path=\"url(#p69091de9ed)\">\r\n     <use style=\"fill:#ff7f0e;stroke:#ff7f0e;\" x=\"275.654403\" xlink:href=\"#maceb26a135\" y=\"115.92\"/>\r\n     <use style=\"fill:#ff7f0e;stroke:#ff7f0e;\" x=\"110.790767\" xlink:href=\"#maceb26a135\" y=\"115.92\"/>\r\n     <use style=\"fill:#ff7f0e;stroke:#ff7f0e;\" x=\"136.154403\" xlink:href=\"#maceb26a135\" y=\"115.92\"/>\r\n     <use style=\"fill:#ff7f0e;stroke:#ff7f0e;\" x=\"231.26804\" xlink:href=\"#maceb26a135\" y=\"115.92\"/>\r\n     <use style=\"fill:#ff7f0e;stroke:#ff7f0e;\" x=\"237.608949\" xlink:href=\"#maceb26a135\" y=\"115.92\"/>\r\n     <use style=\"fill:#ff7f0e;stroke:#ff7f0e;\" x=\"237.608949\" xlink:href=\"#maceb26a135\" y=\"115.92\"/>\r\n     <use style=\"fill:#ff7f0e;stroke:#ff7f0e;\" x=\"231.26804\" xlink:href=\"#maceb26a135\" y=\"115.92\"/>\r\n     <use style=\"fill:#ff7f0e;stroke:#ff7f0e;\" x=\"155.177131\" xlink:href=\"#maceb26a135\" y=\"115.92\"/>\r\n     <use style=\"fill:#ff7f0e;stroke:#ff7f0e;\" x=\"205.904403\" xlink:href=\"#maceb26a135\" y=\"115.92\"/>\r\n     <use style=\"fill:#ff7f0e;stroke:#ff7f0e;\" x=\"237.608949\" xlink:href=\"#maceb26a135\" y=\"115.92\"/>\r\n     <use style=\"fill:#ff7f0e;stroke:#ff7f0e;\" x=\"218.586222\" xlink:href=\"#maceb26a135\" y=\"115.92\"/>\r\n     <use style=\"fill:#ff7f0e;stroke:#ff7f0e;\" x=\"180.540767\" xlink:href=\"#maceb26a135\" y=\"115.92\"/>\r\n     <use style=\"fill:#ff7f0e;stroke:#ff7f0e;\" x=\"186.881676\" xlink:href=\"#maceb26a135\" y=\"115.92\"/>\r\n     <use style=\"fill:#ff7f0e;stroke:#ff7f0e;\" x=\"281.995312\" xlink:href=\"#maceb26a135\" y=\"115.92\"/>\r\n     <use style=\"fill:#ff7f0e;stroke:#ff7f0e;\" x=\"243.949858\" xlink:href=\"#maceb26a135\" y=\"115.92\"/>\r\n     <use style=\"fill:#ff7f0e;stroke:#ff7f0e;\" x=\"193.222585\" xlink:href=\"#maceb26a135\" y=\"115.92\"/>\r\n     <use style=\"fill:#ff7f0e;stroke:#ff7f0e;\" x=\"243.949858\" xlink:href=\"#maceb26a135\" y=\"115.92\"/>\r\n     <use style=\"fill:#ff7f0e;stroke:#ff7f0e;\" x=\"294.677131\" xlink:href=\"#maceb26a135\" y=\"115.92\"/>\r\n     <use style=\"fill:#ff7f0e;stroke:#ff7f0e;\" x=\"148.836222\" xlink:href=\"#maceb26a135\" y=\"115.92\"/>\r\n     <use style=\"fill:#ff7f0e;stroke:#ff7f0e;\" x=\"313.699858\" xlink:href=\"#maceb26a135\" y=\"115.92\"/>\r\n     <use style=\"fill:#ff7f0e;stroke:#ff7f0e;\" x=\"250.290767\" xlink:href=\"#maceb26a135\" y=\"115.92\"/>\r\n     <use style=\"fill:#ff7f0e;stroke:#ff7f0e;\" x=\"155.177131\" xlink:href=\"#maceb26a135\" y=\"115.92\"/>\r\n     <use style=\"fill:#ff7f0e;stroke:#ff7f0e;\" x=\"142.495312\" xlink:href=\"#maceb26a135\" y=\"115.92\"/>\r\n     <use style=\"fill:#ff7f0e;stroke:#ff7f0e;\" x=\"262.972585\" xlink:href=\"#maceb26a135\" y=\"115.92\"/>\r\n     <use style=\"fill:#ff7f0e;stroke:#ff7f0e;\" x=\"129.813494\" xlink:href=\"#maceb26a135\" y=\"115.92\"/>\r\n     <use style=\"fill:#ff7f0e;stroke:#ff7f0e;\" x=\"326.381676\" xlink:href=\"#maceb26a135\" y=\"115.92\"/>\r\n     <use style=\"fill:#ff7f0e;stroke:#ff7f0e;\" x=\"250.290767\" xlink:href=\"#maceb26a135\" y=\"115.92\"/>\r\n     <use style=\"fill:#ff7f0e;stroke:#ff7f0e;\" x=\"199.563494\" xlink:href=\"#maceb26a135\" y=\"115.92\"/>\r\n     <use style=\"fill:#ff7f0e;stroke:#ff7f0e;\" x=\"288.336222\" xlink:href=\"#maceb26a135\" y=\"115.92\"/>\r\n     <use style=\"fill:#ff7f0e;stroke:#ff7f0e;\" x=\"212.245312\" xlink:href=\"#maceb26a135\" y=\"115.92\"/>\r\n     <use style=\"fill:#ff7f0e;stroke:#ff7f0e;\" x=\"136.154403\" xlink:href=\"#maceb26a135\" y=\"115.92\"/>\r\n     <use style=\"fill:#ff7f0e;stroke:#ff7f0e;\" x=\"288.336222\" xlink:href=\"#maceb26a135\" y=\"115.92\"/>\r\n     <use style=\"fill:#ff7f0e;stroke:#ff7f0e;\" x=\"155.177131\" xlink:href=\"#maceb26a135\" y=\"115.92\"/>\r\n     <use style=\"fill:#ff7f0e;stroke:#ff7f0e;\" x=\"218.586222\" xlink:href=\"#maceb26a135\" y=\"115.92\"/>\r\n     <use style=\"fill:#ff7f0e;stroke:#ff7f0e;\" x=\"199.563494\" xlink:href=\"#maceb26a135\" y=\"115.92\"/>\r\n     <use style=\"fill:#ff7f0e;stroke:#ff7f0e;\" x=\"167.858949\" xlink:href=\"#maceb26a135\" y=\"115.92\"/>\r\n     <use style=\"fill:#ff7f0e;stroke:#ff7f0e;\" x=\"218.586222\" xlink:href=\"#maceb26a135\" y=\"115.92\"/>\r\n     <use style=\"fill:#ff7f0e;stroke:#ff7f0e;\" x=\"218.586222\" xlink:href=\"#maceb26a135\" y=\"115.92\"/>\r\n     <use style=\"fill:#ff7f0e;stroke:#ff7f0e;\" x=\"288.336222\" xlink:href=\"#maceb26a135\" y=\"115.92\"/>\r\n     <use style=\"fill:#ff7f0e;stroke:#ff7f0e;\" x=\"288.336222\" xlink:href=\"#maceb26a135\" y=\"115.92\"/>\r\n     <use style=\"fill:#ff7f0e;stroke:#ff7f0e;\" x=\"199.563494\" xlink:href=\"#maceb26a135\" y=\"115.92\"/>\r\n     <use style=\"fill:#ff7f0e;stroke:#ff7f0e;\" x=\"180.540767\" xlink:href=\"#maceb26a135\" y=\"115.92\"/>\r\n     <use style=\"fill:#ff7f0e;stroke:#ff7f0e;\" x=\"161.51804\" xlink:href=\"#maceb26a135\" y=\"115.92\"/>\r\n     <use style=\"fill:#ff7f0e;stroke:#ff7f0e;\" x=\"212.245312\" xlink:href=\"#maceb26a135\" y=\"115.92\"/>\r\n     <use style=\"fill:#ff7f0e;stroke:#ff7f0e;\" x=\"123.472585\" xlink:href=\"#maceb26a135\" y=\"115.92\"/>\r\n     <use style=\"fill:#ff7f0e;stroke:#ff7f0e;\" x=\"205.904403\" xlink:href=\"#maceb26a135\" y=\"115.92\"/>\r\n     <use style=\"fill:#ff7f0e;stroke:#ff7f0e;\" x=\"155.177131\" xlink:href=\"#maceb26a135\" y=\"115.92\"/>\r\n     <use style=\"fill:#ff7f0e;stroke:#ff7f0e;\" x=\"174.199858\" xlink:href=\"#maceb26a135\" y=\"115.92\"/>\r\n     <use style=\"fill:#ff7f0e;stroke:#ff7f0e;\" x=\"212.245312\" xlink:href=\"#maceb26a135\" y=\"115.92\"/>\r\n     <use style=\"fill:#ff7f0e;stroke:#ff7f0e;\" x=\"212.245312\" xlink:href=\"#maceb26a135\" y=\"115.92\"/>\r\n     <use style=\"fill:#ff7f0e;stroke:#ff7f0e;\" x=\"199.563494\" xlink:href=\"#maceb26a135\" y=\"115.92\"/>\r\n     <use style=\"fill:#ff7f0e;stroke:#ff7f0e;\" x=\"294.677131\" xlink:href=\"#maceb26a135\" y=\"115.92\"/>\r\n     <use style=\"fill:#ff7f0e;stroke:#ff7f0e;\" x=\"269.313494\" xlink:href=\"#maceb26a135\" y=\"115.92\"/>\r\n     <use style=\"fill:#ff7f0e;stroke:#ff7f0e;\" x=\"155.177131\" xlink:href=\"#maceb26a135\" y=\"115.92\"/>\r\n     <use style=\"fill:#ff7f0e;stroke:#ff7f0e;\" x=\"275.654403\" xlink:href=\"#maceb26a135\" y=\"115.92\"/>\r\n     <use style=\"fill:#ff7f0e;stroke:#ff7f0e;\" x=\"205.904403\" xlink:href=\"#maceb26a135\" y=\"115.92\"/>\r\n     <use style=\"fill:#ff7f0e;stroke:#ff7f0e;\" x=\"180.540767\" xlink:href=\"#maceb26a135\" y=\"115.92\"/>\r\n     <use style=\"fill:#ff7f0e;stroke:#ff7f0e;\" x=\"161.51804\" xlink:href=\"#maceb26a135\" y=\"115.92\"/>\r\n     <use style=\"fill:#ff7f0e;stroke:#ff7f0e;\" x=\"91.76804\" xlink:href=\"#maceb26a135\" y=\"115.92\"/>\r\n     <use style=\"fill:#ff7f0e;stroke:#ff7f0e;\" x=\"237.608949\" xlink:href=\"#maceb26a135\" y=\"115.92\"/>\r\n     <use style=\"fill:#ff7f0e;stroke:#ff7f0e;\" x=\"326.381676\" xlink:href=\"#maceb26a135\" y=\"115.92\"/>\r\n     <use style=\"fill:#ff7f0e;stroke:#ff7f0e;\" x=\"218.586222\" xlink:href=\"#maceb26a135\" y=\"115.92\"/>\r\n     <use style=\"fill:#ff7f0e;stroke:#ff7f0e;\" x=\"205.904403\" xlink:href=\"#maceb26a135\" y=\"115.92\"/>\r\n     <use style=\"fill:#ff7f0e;stroke:#ff7f0e;\" x=\"136.154403\" xlink:href=\"#maceb26a135\" y=\"115.92\"/>\r\n     <use style=\"fill:#ff7f0e;stroke:#ff7f0e;\" x=\"243.949858\" xlink:href=\"#maceb26a135\" y=\"115.92\"/>\r\n     <use style=\"fill:#ff7f0e;stroke:#ff7f0e;\" x=\"98.108949\" xlink:href=\"#maceb26a135\" y=\"115.92\"/>\r\n     <use style=\"fill:#ff7f0e;stroke:#ff7f0e;\" x=\"199.563494\" xlink:href=\"#maceb26a135\" y=\"115.92\"/>\r\n     <use style=\"fill:#ff7f0e;stroke:#ff7f0e;\" x=\"161.51804\" xlink:href=\"#maceb26a135\" y=\"115.92\"/>\r\n     <use style=\"fill:#ff7f0e;stroke:#ff7f0e;\" x=\"155.177131\" xlink:href=\"#maceb26a135\" y=\"115.92\"/>\r\n     <use style=\"fill:#ff7f0e;stroke:#ff7f0e;\" x=\"269.313494\" xlink:href=\"#maceb26a135\" y=\"115.92\"/>\r\n     <use style=\"fill:#ff7f0e;stroke:#ff7f0e;\" x=\"218.586222\" xlink:href=\"#maceb26a135\" y=\"115.92\"/>\r\n     <use style=\"fill:#ff7f0e;stroke:#ff7f0e;\" x=\"199.563494\" xlink:href=\"#maceb26a135\" y=\"115.92\"/>\r\n     <use style=\"fill:#ff7f0e;stroke:#ff7f0e;\" x=\"60.063494\" xlink:href=\"#maceb26a135\" y=\"115.92\"/>\r\n     <use style=\"fill:#ff7f0e;stroke:#ff7f0e;\" x=\"199.563494\" xlink:href=\"#maceb26a135\" y=\"115.92\"/>\r\n     <use style=\"fill:#ff7f0e;stroke:#ff7f0e;\" x=\"148.836222\" xlink:href=\"#maceb26a135\" y=\"115.92\"/>\r\n     <use style=\"fill:#ff7f0e;stroke:#ff7f0e;\" x=\"224.927131\" xlink:href=\"#maceb26a135\" y=\"115.92\"/>\r\n     <use style=\"fill:#ff7f0e;stroke:#ff7f0e;\" x=\"199.563494\" xlink:href=\"#maceb26a135\" y=\"115.92\"/>\r\n     <use style=\"fill:#ff7f0e;stroke:#ff7f0e;\" x=\"250.290767\" xlink:href=\"#maceb26a135\" y=\"115.92\"/>\r\n     <use style=\"fill:#ff7f0e;stroke:#ff7f0e;\" x=\"205.904403\" xlink:href=\"#maceb26a135\" y=\"115.92\"/>\r\n     <use style=\"fill:#ff7f0e;stroke:#ff7f0e;\" x=\"243.949858\" xlink:href=\"#maceb26a135\" y=\"115.92\"/>\r\n     <use style=\"fill:#ff7f0e;stroke:#ff7f0e;\" x=\"136.154403\" xlink:href=\"#maceb26a135\" y=\"115.92\"/>\r\n     <use style=\"fill:#ff7f0e;stroke:#ff7f0e;\" x=\"161.51804\" xlink:href=\"#maceb26a135\" y=\"115.92\"/>\r\n     <use style=\"fill:#ff7f0e;stroke:#ff7f0e;\" x=\"256.631676\" xlink:href=\"#maceb26a135\" y=\"115.92\"/>\r\n     <use style=\"fill:#ff7f0e;stroke:#ff7f0e;\" x=\"205.904403\" xlink:href=\"#maceb26a135\" y=\"115.92\"/>\r\n     <use style=\"fill:#ff7f0e;stroke:#ff7f0e;\" x=\"142.495312\" xlink:href=\"#maceb26a135\" y=\"115.92\"/>\r\n     <use style=\"fill:#ff7f0e;stroke:#ff7f0e;\" x=\"301.01804\" xlink:href=\"#maceb26a135\" y=\"115.92\"/>\r\n     <use style=\"fill:#ff7f0e;stroke:#ff7f0e;\" x=\"307.358949\" xlink:href=\"#maceb26a135\" y=\"115.92\"/>\r\n     <use style=\"fill:#ff7f0e;stroke:#ff7f0e;\" x=\"167.858949\" xlink:href=\"#maceb26a135\" y=\"115.92\"/>\r\n     <use style=\"fill:#ff7f0e;stroke:#ff7f0e;\" x=\"218.586222\" xlink:href=\"#maceb26a135\" y=\"115.92\"/>\r\n     <use style=\"fill:#ff7f0e;stroke:#ff7f0e;\" x=\"243.949858\" xlink:href=\"#maceb26a135\" y=\"115.92\"/>\r\n     <use style=\"fill:#ff7f0e;stroke:#ff7f0e;\" x=\"180.540767\" xlink:href=\"#maceb26a135\" y=\"115.92\"/>\r\n     <use style=\"fill:#ff7f0e;stroke:#ff7f0e;\" x=\"237.608949\" xlink:href=\"#maceb26a135\" y=\"115.92\"/>\r\n     <use style=\"fill:#ff7f0e;stroke:#ff7f0e;\" x=\"205.904403\" xlink:href=\"#maceb26a135\" y=\"115.92\"/>\r\n     <use style=\"fill:#ff7f0e;stroke:#ff7f0e;\" x=\"218.586222\" xlink:href=\"#maceb26a135\" y=\"115.92\"/>\r\n     <use style=\"fill:#ff7f0e;stroke:#ff7f0e;\" x=\"161.51804\" xlink:href=\"#maceb26a135\" y=\"115.92\"/>\r\n     <use style=\"fill:#ff7f0e;stroke:#ff7f0e;\" x=\"212.245312\" xlink:href=\"#maceb26a135\" y=\"115.92\"/>\r\n     <use style=\"fill:#ff7f0e;stroke:#ff7f0e;\" x=\"269.313494\" xlink:href=\"#maceb26a135\" y=\"115.92\"/>\r\n     <use style=\"fill:#ff7f0e;stroke:#ff7f0e;\" x=\"205.904403\" xlink:href=\"#maceb26a135\" y=\"115.92\"/>\r\n     <use style=\"fill:#ff7f0e;stroke:#ff7f0e;\" x=\"148.836222\" xlink:href=\"#maceb26a135\" y=\"115.92\"/>\r\n     <use style=\"fill:#ff7f0e;stroke:#ff7f0e;\" x=\"212.245312\" xlink:href=\"#maceb26a135\" y=\"115.92\"/>\r\n     <use style=\"fill:#ff7f0e;stroke:#ff7f0e;\" x=\"142.495312\" xlink:href=\"#maceb26a135\" y=\"115.92\"/>\r\n     <use style=\"fill:#ff7f0e;stroke:#ff7f0e;\" x=\"250.290767\" xlink:href=\"#maceb26a135\" y=\"115.92\"/>\r\n     <use style=\"fill:#ff7f0e;stroke:#ff7f0e;\" x=\"275.654403\" xlink:href=\"#maceb26a135\" y=\"115.92\"/>\r\n     <use style=\"fill:#ff7f0e;stroke:#ff7f0e;\" x=\"142.495312\" xlink:href=\"#maceb26a135\" y=\"115.92\"/>\r\n     <use style=\"fill:#ff7f0e;stroke:#ff7f0e;\" x=\"193.222585\" xlink:href=\"#maceb26a135\" y=\"115.92\"/>\r\n     <use style=\"fill:#ff7f0e;stroke:#ff7f0e;\" x=\"307.358949\" xlink:href=\"#maceb26a135\" y=\"115.92\"/>\r\n     <use style=\"fill:#ff7f0e;stroke:#ff7f0e;\" x=\"313.699858\" xlink:href=\"#maceb26a135\" y=\"115.92\"/>\r\n     <use style=\"fill:#ff7f0e;stroke:#ff7f0e;\" x=\"161.51804\" xlink:href=\"#maceb26a135\" y=\"115.92\"/>\r\n     <use style=\"fill:#ff7f0e;stroke:#ff7f0e;\" x=\"193.222585\" xlink:href=\"#maceb26a135\" y=\"115.92\"/>\r\n     <use style=\"fill:#ff7f0e;stroke:#ff7f0e;\" x=\"193.222585\" xlink:href=\"#maceb26a135\" y=\"115.92\"/>\r\n     <use style=\"fill:#ff7f0e;stroke:#ff7f0e;\" x=\"281.995312\" xlink:href=\"#maceb26a135\" y=\"115.92\"/>\r\n     <use style=\"fill:#ff7f0e;stroke:#ff7f0e;\" x=\"237.608949\" xlink:href=\"#maceb26a135\" y=\"115.92\"/>\r\n     <use style=\"fill:#ff7f0e;stroke:#ff7f0e;\" x=\"281.995312\" xlink:href=\"#maceb26a135\" y=\"115.92\"/>\r\n     <use style=\"fill:#ff7f0e;stroke:#ff7f0e;\" x=\"148.836222\" xlink:href=\"#maceb26a135\" y=\"115.92\"/>\r\n     <use style=\"fill:#ff7f0e;stroke:#ff7f0e;\" x=\"224.927131\" xlink:href=\"#maceb26a135\" y=\"115.92\"/>\r\n     <use style=\"fill:#ff7f0e;stroke:#ff7f0e;\" x=\"110.790767\" xlink:href=\"#maceb26a135\" y=\"115.92\"/>\r\n     <use style=\"fill:#ff7f0e;stroke:#ff7f0e;\" x=\"136.154403\" xlink:href=\"#maceb26a135\" y=\"115.92\"/>\r\n     <use style=\"fill:#ff7f0e;stroke:#ff7f0e;\" x=\"231.26804\" xlink:href=\"#maceb26a135\" y=\"115.92\"/>\r\n     <use style=\"fill:#ff7f0e;stroke:#ff7f0e;\" x=\"167.858949\" xlink:href=\"#maceb26a135\" y=\"115.92\"/>\r\n     <use style=\"fill:#ff7f0e;stroke:#ff7f0e;\" x=\"167.858949\" xlink:href=\"#maceb26a135\" y=\"115.92\"/>\r\n     <use style=\"fill:#ff7f0e;stroke:#ff7f0e;\" x=\"281.995312\" xlink:href=\"#maceb26a135\" y=\"115.92\"/>\r\n     <use style=\"fill:#ff7f0e;stroke:#ff7f0e;\" x=\"250.290767\" xlink:href=\"#maceb26a135\" y=\"115.92\"/>\r\n     <use style=\"fill:#ff7f0e;stroke:#ff7f0e;\" x=\"136.154403\" xlink:href=\"#maceb26a135\" y=\"115.92\"/>\r\n     <use style=\"fill:#ff7f0e;stroke:#ff7f0e;\" x=\"218.586222\" xlink:href=\"#maceb26a135\" y=\"115.92\"/>\r\n     <use style=\"fill:#ff7f0e;stroke:#ff7f0e;\" x=\"123.472585\" xlink:href=\"#maceb26a135\" y=\"115.92\"/>\r\n     <use style=\"fill:#ff7f0e;stroke:#ff7f0e;\" x=\"91.76804\" xlink:href=\"#maceb26a135\" y=\"115.92\"/>\r\n     <use style=\"fill:#ff7f0e;stroke:#ff7f0e;\" x=\"174.199858\" xlink:href=\"#maceb26a135\" y=\"115.92\"/>\r\n     <use style=\"fill:#ff7f0e;stroke:#ff7f0e;\" x=\"301.01804\" xlink:href=\"#maceb26a135\" y=\"115.92\"/>\r\n     <use style=\"fill:#ff7f0e;stroke:#ff7f0e;\" x=\"205.904403\" xlink:href=\"#maceb26a135\" y=\"115.92\"/>\r\n     <use style=\"fill:#ff7f0e;stroke:#ff7f0e;\" x=\"345.404403\" xlink:href=\"#maceb26a135\" y=\"115.92\"/>\r\n     <use style=\"fill:#ff7f0e;stroke:#ff7f0e;\" x=\"218.586222\" xlink:href=\"#maceb26a135\" y=\"115.92\"/>\r\n     <use style=\"fill:#ff7f0e;stroke:#ff7f0e;\" x=\"186.881676\" xlink:href=\"#maceb26a135\" y=\"115.92\"/>\r\n     <use style=\"fill:#ff7f0e;stroke:#ff7f0e;\" x=\"142.495312\" xlink:href=\"#maceb26a135\" y=\"115.92\"/>\r\n     <use style=\"fill:#ff7f0e;stroke:#ff7f0e;\" x=\"136.154403\" xlink:href=\"#maceb26a135\" y=\"115.92\"/>\r\n     <use style=\"fill:#ff7f0e;stroke:#ff7f0e;\" x=\"136.154403\" xlink:href=\"#maceb26a135\" y=\"115.92\"/>\r\n     <use style=\"fill:#ff7f0e;stroke:#ff7f0e;\" x=\"186.881676\" xlink:href=\"#maceb26a135\" y=\"115.92\"/>\r\n     <use style=\"fill:#ff7f0e;stroke:#ff7f0e;\" x=\"256.631676\" xlink:href=\"#maceb26a135\" y=\"115.92\"/>\r\n     <use style=\"fill:#ff7f0e;stroke:#ff7f0e;\" x=\"269.313494\" xlink:href=\"#maceb26a135\" y=\"115.92\"/>\r\n     <use style=\"fill:#ff7f0e;stroke:#ff7f0e;\" x=\"237.608949\" xlink:href=\"#maceb26a135\" y=\"115.92\"/>\r\n     <use style=\"fill:#ff7f0e;stroke:#ff7f0e;\" x=\"281.995312\" xlink:href=\"#maceb26a135\" y=\"115.92\"/>\r\n     <use style=\"fill:#ff7f0e;stroke:#ff7f0e;\" x=\"199.563494\" xlink:href=\"#maceb26a135\" y=\"115.92\"/>\r\n     <use style=\"fill:#ff7f0e;stroke:#ff7f0e;\" x=\"148.836222\" xlink:href=\"#maceb26a135\" y=\"115.92\"/>\r\n     <use style=\"fill:#ff7f0e;stroke:#ff7f0e;\" x=\"142.495312\" xlink:href=\"#maceb26a135\" y=\"115.92\"/>\r\n     <use style=\"fill:#ff7f0e;stroke:#ff7f0e;\" x=\"301.01804\" xlink:href=\"#maceb26a135\" y=\"115.92\"/>\r\n     <use style=\"fill:#ff7f0e;stroke:#ff7f0e;\" x=\"358.086222\" xlink:href=\"#maceb26a135\" y=\"115.92\"/>\r\n     <use style=\"fill:#ff7f0e;stroke:#ff7f0e;\" x=\"320.040767\" xlink:href=\"#maceb26a135\" y=\"115.92\"/>\r\n     <use style=\"fill:#ff7f0e;stroke:#ff7f0e;\" x=\"155.177131\" xlink:href=\"#maceb26a135\" y=\"115.92\"/>\r\n     <use style=\"fill:#ff7f0e;stroke:#ff7f0e;\" x=\"256.631676\" xlink:href=\"#maceb26a135\" y=\"115.92\"/>\r\n     <use style=\"fill:#ff7f0e;stroke:#ff7f0e;\" x=\"155.177131\" xlink:href=\"#maceb26a135\" y=\"115.92\"/>\r\n     <use style=\"fill:#ff7f0e;stroke:#ff7f0e;\" x=\"142.495312\" xlink:href=\"#maceb26a135\" y=\"115.92\"/>\r\n     <use style=\"fill:#ff7f0e;stroke:#ff7f0e;\" x=\"294.677131\" xlink:href=\"#maceb26a135\" y=\"115.92\"/>\r\n     <use style=\"fill:#ff7f0e;stroke:#ff7f0e;\" x=\"326.381676\" xlink:href=\"#maceb26a135\" y=\"115.92\"/>\r\n     <use style=\"fill:#ff7f0e;stroke:#ff7f0e;\" x=\"281.995312\" xlink:href=\"#maceb26a135\" y=\"115.92\"/>\r\n     <use style=\"fill:#ff7f0e;stroke:#ff7f0e;\" x=\"294.677131\" xlink:href=\"#maceb26a135\" y=\"115.92\"/>\r\n     <use style=\"fill:#ff7f0e;stroke:#ff7f0e;\" x=\"123.472585\" xlink:href=\"#maceb26a135\" y=\"115.92\"/>\r\n     <use style=\"fill:#ff7f0e;stroke:#ff7f0e;\" x=\"243.949858\" xlink:href=\"#maceb26a135\" y=\"115.92\"/>\r\n     <use style=\"fill:#ff7f0e;stroke:#ff7f0e;\" x=\"174.199858\" xlink:href=\"#maceb26a135\" y=\"115.92\"/>\r\n     <use style=\"fill:#ff7f0e;stroke:#ff7f0e;\" x=\"98.108949\" xlink:href=\"#maceb26a135\" y=\"115.92\"/>\r\n     <use style=\"fill:#ff7f0e;stroke:#ff7f0e;\" x=\"243.949858\" xlink:href=\"#maceb26a135\" y=\"115.92\"/>\r\n     <use style=\"fill:#ff7f0e;stroke:#ff7f0e;\" x=\"231.26804\" xlink:href=\"#maceb26a135\" y=\"115.92\"/>\r\n     <use style=\"fill:#ff7f0e;stroke:#ff7f0e;\" x=\"231.26804\" xlink:href=\"#maceb26a135\" y=\"115.92\"/>\r\n     <use style=\"fill:#ff7f0e;stroke:#ff7f0e;\" x=\"224.927131\" xlink:href=\"#maceb26a135\" y=\"115.92\"/>\r\n     <use style=\"fill:#ff7f0e;stroke:#ff7f0e;\" x=\"136.154403\" xlink:href=\"#maceb26a135\" y=\"115.92\"/>\r\n     <use style=\"fill:#ff7f0e;stroke:#ff7f0e;\" x=\"117.131676\" xlink:href=\"#maceb26a135\" y=\"115.92\"/>\r\n     <use style=\"fill:#ff7f0e;stroke:#ff7f0e;\" x=\"117.131676\" xlink:href=\"#maceb26a135\" y=\"115.92\"/>\r\n    </g>\r\n   </g>\r\n   <g id=\"patch_3\">\r\n    <path d=\"M 44.845313 224.64 \r\nL 44.845313 7.2 \r\n\" style=\"fill:none;stroke:#000000;stroke-linecap:square;stroke-linejoin:miter;stroke-width:0.8;\"/>\r\n   </g>\r\n   <g id=\"patch_4\">\r\n    <path d=\"M 379.645313 224.64 \r\nL 379.645313 7.2 \r\n\" style=\"fill:none;stroke:#000000;stroke-linecap:square;stroke-linejoin:miter;stroke-width:0.8;\"/>\r\n   </g>\r\n   <g id=\"patch_5\">\r\n    <path d=\"M 44.845312 224.64 \r\nL 379.645312 224.64 \r\n\" style=\"fill:none;stroke:#000000;stroke-linecap:square;stroke-linejoin:miter;stroke-width:0.8;\"/>\r\n   </g>\r\n   <g id=\"patch_6\">\r\n    <path d=\"M 44.845312 7.2 \r\nL 379.645312 7.2 \r\n\" style=\"fill:none;stroke:#000000;stroke-linecap:square;stroke-linejoin:miter;stroke-width:0.8;\"/>\r\n   </g>\r\n  </g>\r\n </g>\r\n <defs>\r\n  <clipPath id=\"p69091de9ed\">\r\n   <rect height=\"217.44\" width=\"334.8\" x=\"44.845313\" y=\"7.2\"/>\r\n  </clipPath>\r\n </defs>\r\n</svg>\r\n",
            "image/png": "[encoded data removed]"
          },
          "metadata": {
            "tags": [],
            "needs_background": "light"
          }
        }
      ]
    },
    {
      "cell_type": "code",
      "metadata": {
        "id": "zC1uoQiV8o0u"
      },
      "source": [
        "# sb.set_style(\"whitegrid\");\n",
        "# sb.pairplot(dataset, hue=\"target\", size=3);\n",
        "# plt.show()"
      ],
      "execution_count": null,
      "outputs": []
    },
    {
      "cell_type": "code",
      "metadata": {
        "tags": [],
        "id": "2nE3Nmil8o0w",
        "outputId": "7d2dbf1a-ec55-4441-be48-1e8155bc3994"
      },
      "source": [
        "# Mengecek apa ada data yang kosong\n",
        "for i in dataset.columns:\n",
        "    print(i, ': ', len(dataset[dataset[i].isnull()][i]))"
      ],
      "execution_count": null,
      "outputs": [
        {
          "output_type": "stream",
          "text": [
            "age :  0\n",
            "sex :  0\n",
            "cp :  0\n",
            "trestbps :  0\n",
            "chol :  0\n",
            "fbs :  0\n",
            "restecg :  0\n",
            "thalach :  0\n",
            "exang :  0\n",
            "oldpeak :  0\n",
            "slope :  0\n",
            "ca :  0\n",
            "thal :  0\n",
            "target :  0\n"
          ],
          "name": "stdout"
        }
      ]
    },
    {
      "cell_type": "code",
      "metadata": {
        "id": "_58y6pPe8o0y"
      },
      "source": [
        "from sklearn.preprocessing import StandardScaler\n",
        "\n",
        "scaler = StandardScaler()\n",
        "\n",
        "feature = dataset.drop(['target'], axis=1)\n",
        "label = dataset['target']\n",
        "\n",
        "feature_scaled = scaler.fit_transform(feature.values)\n",
        "\n",
        "data_feature = pd.DataFrame(feature_scaled, columns=feature.columns)"
      ],
      "execution_count": null,
      "outputs": []
    },
    {
      "cell_type": "code",
      "metadata": {
        "id": "5AIs_wI78o01"
      },
      "source": [
        "from sklearn.model_selection import train_test_split\n",
        "\n",
        "feature_train, feature_test, label_train, label_test = train_test_split(data_feature, label, test_size=0.25, random_state=4)"
      ],
      "execution_count": null,
      "outputs": []
    },
    {
      "cell_type": "code",
      "metadata": {
        "id": "F8btgfXq8o03"
      },
      "source": [
        "from sklearn.metrics import f1_score, precision_score, recall_score\n",
        "from sklearn.ensemble import RandomForestClassifier\n",
        "from sklearn.svm import SVC\n",
        "from sklearn.svm import LinearSVC\n",
        "from sklearn.neighbors import KNeighborsClassifier\n",
        "from sklearn.tree import DecisionTreeClassifier\n",
        "from sklearn.neural_network import MLPClassifier\n",
        "from sklearn.ensemble import AdaBoostClassifier\n",
        "from sklearn.naive_bayes import GaussianNB\n",
        "from sklearn.discriminant_analysis import QuadraticDiscriminantAnalysis\n",
        "import xgboost"
      ],
      "execution_count": null,
      "outputs": []
    },
    {
      "cell_type": "code",
      "metadata": {
        "id": "StgkAeRP8o06"
      },
      "source": [
        "names = [\"Random Forest Classifier estimator 20\", \"Random Forest Classifier estimator 40\",\"Random Forest Classifier estimator 60\",\"Random Forest Classifier estimator 80\",\"SVM RBF\",\"SVM Linear\",\"SVM Polynomial\", \"Linear SVC\", \"K-Nearest Neighbors k=1\", \"K-Nearest Neighbors k=3\", \"K-Nearest Neighbors k=5\", \"K-Nearest Neighbors k=7\", \"K-Nearest Neighbors k=9\", \"K-Nearest Neighbors k=11\", \"K-Nearest Neighbors k=13\", \"K-Nearest Neighbors k=15\", \"Decision Tree Classifier\", \"Neural Network Classifier\", \"Ada Boost Classifier\", \"Naive Bayes\", \"QDA\"]\n",
        "\n",
        "classifiers = [RandomForestClassifier(n_estimators=20 , bootstrap=True, max_features=\"sqrt\"),\n",
        "RandomForestClassifier(n_estimators =40 , bootstrap=True, max_features=\"sqrt\"),\n",
        "RandomForestClassifier(n_estimators =60 , bootstrap=True, max_features=\"sqrt\"),\n",
        "RandomForestClassifier(n_estimators =80 , bootstrap=True, max_features=\"sqrt\"),\n",
        "SVC(kernel='rbf'),\n",
        "SVC(kernel='linear'),\n",
        "SVC(kernel='poly'),\n",
        "LinearSVC(),\n",
        "KNeighborsClassifier(n_neighbors=1),\n",
        "KNeighborsClassifier(n_neighbors=3),\n",
        "KNeighborsClassifier(n_neighbors=5),\n",
        "KNeighborsClassifier(n_neighbors=7),\n",
        "KNeighborsClassifier(n_neighbors=9),\n",
        "KNeighborsClassifier(n_neighbors=11),\n",
        "KNeighborsClassifier(n_neighbors=13),\n",
        "KNeighborsClassifier(n_neighbors=15),\n",
        "DecisionTreeClassifier(max_depth=5),\n",
        "MLPClassifier(alpha=1, max_iter=1000),\n",
        "AdaBoostClassifier(n_estimators=50, learning_rate=1),\n",
        "GaussianNB(),\n",
        "QuadraticDiscriminantAnalysis()\n",
        " ]"
      ],
      "execution_count": null,
      "outputs": []
    },
    {
      "cell_type": "code",
      "metadata": {
        "id": "0UM-E6fG8o08"
      },
      "source": [
        "def nClassifier(name, classifier):\n",
        "    for n in range(len(name)):\n",
        "        classifier[n].fit(feature_train, label_train)\n",
        "        label_pred = classifier[n].predict(feature_test)\n",
        "        print('Accuracy of', name[n], 'on test set: {:.3f}'.format(classifier[n].score(feature_test, label_test)))\n",
        "        print('F1 Score: {:.3f}'.format(f1_score(label_test, label_pred, average=\"macro\")))\n",
        "        print('Precision Score: {:.3f}'.format(precision_score(label_test, label_pred, average=\"macro\")))\n",
        "        print('Recall Score: {:.3f}'.format(recall_score(label_test, label_pred, average=\"macro\")))\n",
        "        print(\" \")\n",
        "    return"
      ],
      "execution_count": null,
      "outputs": []
    },
    {
      "cell_type": "code",
      "metadata": {
        "tags": [],
        "id": "DxnfJ3kS8o0-",
        "outputId": "b67cde5d-f0b1-4f1d-daf6-0f4b3ca6f3e9"
      },
      "source": [
        "nClassifier(names, classifiers)"
      ],
      "execution_count": null,
      "outputs": [
        {
          "output_type": "stream",
          "text": [
            "Accuracy of Random Forest Classifier estimator 20 on test set: 0.829\n",
            "F1 Score: 0.822\n",
            "Precision Score: 0.835\n",
            "Recall Score: 0.817\n",
            " \n",
            "Accuracy of Random Forest Classifier estimator 40 on test set: 0.829\n",
            "F1 Score: 0.822\n",
            "Precision Score: 0.835\n",
            "Recall Score: 0.817\n",
            " \n",
            "Accuracy of Random Forest Classifier estimator 60 on test set: 0.789\n",
            "F1 Score: 0.780\n",
            "Precision Score: 0.795\n",
            "Recall Score: 0.775\n",
            " \n",
            "Accuracy of Random Forest Classifier estimator 80 on test set: 0.829\n",
            "F1 Score: 0.822\n",
            "Precision Score: 0.835\n",
            "Recall Score: 0.817\n",
            " \n",
            "Accuracy of SVM RBF on test set: 0.803\n",
            "F1 Score: 0.798\n",
            "Precision Score: 0.800\n",
            "Recall Score: 0.797\n",
            " \n",
            "Accuracy of SVM Linear on test set: 0.803\n",
            "F1 Score: 0.797\n",
            "Precision Score: 0.802\n",
            "Recall Score: 0.794\n",
            " \n",
            "Accuracy of SVM Polynomial on test set: 0.763\n",
            "F1 Score: 0.749\n",
            "Precision Score: 0.773\n",
            "Recall Score: 0.745\n",
            " \n",
            "Accuracy of Linear SVC on test set: 0.842\n",
            "F1 Score: 0.835\n",
            "Precision Score: 0.853\n",
            "Recall Score: 0.829\n",
            " \n",
            "Accuracy of K-Nearest Neighbors k=1 on test set: 0.763\n",
            "F1 Score: 0.759\n",
            "Precision Score: 0.759\n",
            "Recall Score: 0.759\n",
            " \n",
            "Accuracy of K-Nearest Neighbors k=3 on test set: 0.750\n",
            "F1 Score: 0.742\n",
            "Precision Score: 0.747\n",
            "Recall Score: 0.740\n",
            " \n",
            "Accuracy of K-Nearest Neighbors k=5 on test set: 0.737\n",
            "F1 Score: 0.728\n",
            "Precision Score: 0.734\n",
            "Recall Score: 0.725\n",
            " \n",
            "Accuracy of K-Nearest Neighbors k=7 on test set: 0.776\n",
            "F1 Score: 0.767\n",
            "Precision Score: 0.778\n",
            "Recall Score: 0.764\n",
            " \n",
            "Accuracy of K-Nearest Neighbors k=9 on test set: 0.750\n",
            "F1 Score: 0.740\n",
            "Precision Score: 0.750\n",
            "Recall Score: 0.737\n",
            " \n",
            "Accuracy of K-Nearest Neighbors k=11 on test set: 0.776\n",
            "F1 Score: 0.767\n",
            "Precision Score: 0.778\n",
            "Recall Score: 0.764\n",
            " \n",
            "Accuracy of K-Nearest Neighbors k=13 on test set: 0.763\n",
            "F1 Score: 0.752\n",
            "Precision Score: 0.766\n",
            "Recall Score: 0.748\n",
            " \n",
            "Accuracy of K-Nearest Neighbors k=15 on test set: 0.737\n",
            "F1 Score: 0.721\n",
            "Precision Score: 0.743\n",
            "Recall Score: 0.718\n",
            " \n",
            "Accuracy of Decision Tree Classifier on test set: 0.789\n",
            "F1 Score: 0.780\n",
            "Precision Score: 0.795\n",
            "Recall Score: 0.775\n",
            " \n",
            "Accuracy of Neural Network Classifier on test set: 0.842\n",
            "F1 Score: 0.837\n",
            "Precision Score: 0.846\n",
            "Recall Score: 0.832\n",
            " \n",
            "Accuracy of Ada Boost Classifier on test set: 0.789\n",
            "F1 Score: 0.780\n",
            "Precision Score: 0.795\n",
            "Recall Score: 0.775\n",
            " \n",
            "Accuracy of Naive Bayes on test set: 0.776\n",
            "F1 Score: 0.767\n",
            "Precision Score: 0.778\n",
            "Recall Score: 0.764\n",
            " \n",
            "Accuracy of QDA on test set: 0.776\n",
            "F1 Score: 0.773\n",
            "Precision Score: 0.772\n",
            "Recall Score: 0.774\n",
            " \n"
          ],
          "name": "stdout"
        }
      ]
    },
    {
      "cell_type": "markdown",
      "metadata": {
        "id": "QyENJaQp8o1A"
      },
      "source": [
        "Dari data diatas, nilai akurasi tertinggi ditemukan pada Neural Network Classifier on test set: 0.842"
      ]
    }
  ]
}