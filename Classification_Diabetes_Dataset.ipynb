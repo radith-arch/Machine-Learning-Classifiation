{
  "nbformat": 4,
  "nbformat_minor": 0,
  "metadata": {
    "language_info": {
      "codemirror_mode": {
        "name": "ipython",
        "version": 3
      },
      "file_extension": ".py",
      "mimetype": "text/x-python",
      "name": "python",
      "nbconvert_exporter": "python",
      "pygments_lexer": "ipython3",
      "version": "3.7.7-final"
    },
    "orig_nbformat": 2,
    "kernelspec": {
      "name": "python_defaultSpec_1599807572861",
      "display_name": "Python 3.7.7 64-bit"
    },
    "colab": {
      "name": "Classification Diabetes Dataset.ipynb",
      "provenance": [],
      "collapsed_sections": []
    }
  },
  "cells": [
    {
      "cell_type": "code",
      "metadata": {
        "id": "3W3dKquP8nwj",
        "outputId": "acab58a8-ea01-496a-d5f3-634b14ab86c8"
      },
      "source": [
        "import os\n",
        "\n",
        "os.listdir('.')\n",
        "\n",
        "# os.chdir('C:/Users/0974/Documents/Google Colab/Datasets')"
      ],
      "execution_count": null,
      "outputs": [
        {
          "output_type": "execute_result",
          "data": {
            "text/plain": [
              "['california_housing_train.csv',\n",
              " 'heart.csv',\n",
              " 'iris.csv',\n",
              " 'pima-indians-diabetes.csv',\n",
              " 'sonar.csv']"
            ]
          },
          "metadata": {
            "tags": []
          },
          "execution_count": 3
        }
      ]
    },
    {
      "cell_type": "code",
      "metadata": {
        "id": "lOsLWBJc8nwo"
      },
      "source": [
        "import pandas as pd\n",
        "import numpy as np\n",
        "import matplotlib.pyplot as plt\n",
        "import seaborn as sb"
      ],
      "execution_count": null,
      "outputs": []
    },
    {
      "cell_type": "code",
      "metadata": {
        "id": "ytqWvunZ8nwq"
      },
      "source": [
        "filename = 'pima-indians-diabetes.csv'\n",
        "\n",
        "dataset = pd.read_csv(filename)"
      ],
      "execution_count": null,
      "outputs": []
    },
    {
      "cell_type": "code",
      "metadata": {
        "tags": [],
        "id": "BTxyNhJ88nwt",
        "outputId": "15832778-7a0b-4d0c-f5fb-382aafb91f8c"
      },
      "source": [
        "dataset.info()"
      ],
      "execution_count": null,
      "outputs": [
        {
          "output_type": "stream",
          "text": [
            "<class 'pandas.core.frame.DataFrame'>\n",
            "RangeIndex: 768 entries, 0 to 767\n",
            "Data columns (total 9 columns):\n",
            " #   Column                    Non-Null Count  Dtype  \n",
            "---  ------                    --------------  -----  \n",
            " 0   Pregnancies               768 non-null    int64  \n",
            " 1   Glucose                   768 non-null    int64  \n",
            " 2   BloodPressure             768 non-null    int64  \n",
            " 3   SkinThickness             768 non-null    int64  \n",
            " 4   Insulin                   768 non-null    int64  \n",
            " 5   BMI                       768 non-null    float64\n",
            " 6   DiabetesPedigreeFunction  768 non-null    float64\n",
            " 7   Age                       768 non-null    int64  \n",
            " 8   Outcome                   768 non-null    int64  \n",
            "dtypes: float64(2), int64(7)\n",
            "memory usage: 54.1 KB\n"
          ],
          "name": "stdout"
        }
      ]
    },
    {
      "cell_type": "code",
      "metadata": {
        "id": "2RL_VNu38nwv",
        "outputId": "52d3a795-7113-49d5-9871-cb49807c82f9"
      },
      "source": [
        "dataset.describe()"
      ],
      "execution_count": null,
      "outputs": [
        {
          "output_type": "execute_result",
          "data": {
            "text/plain": [
              "       Pregnancies     Glucose  BloodPressure  SkinThickness     Insulin  \\\n",
              "count   768.000000  768.000000     768.000000     768.000000  768.000000   \n",
              "mean      3.845052  120.894531      69.105469      20.536458   79.799479   \n",
              "std       3.369578   31.972618      19.355807      15.952218  115.244002   \n",
              "min       0.000000    0.000000       0.000000       0.000000    0.000000   \n",
              "25%       1.000000   99.000000      62.000000       0.000000    0.000000   \n",
              "50%       3.000000  117.000000      72.000000      23.000000   30.500000   \n",
              "75%       6.000000  140.250000      80.000000      32.000000  127.250000   \n",
              "max      17.000000  199.000000     122.000000      99.000000  846.000000   \n",
              "\n",
              "              BMI  DiabetesPedigreeFunction         Age     Outcome  \n",
              "count  768.000000                768.000000  768.000000  768.000000  \n",
              "mean    31.992578                  0.471876   33.240885    0.348958  \n",
              "std      7.884160                  0.331329   11.760232    0.476951  \n",
              "min      0.000000                  0.078000   21.000000    0.000000  \n",
              "25%     27.300000                  0.243750   24.000000    0.000000  \n",
              "50%     32.000000                  0.372500   29.000000    0.000000  \n",
              "75%     36.600000                  0.626250   41.000000    1.000000  \n",
              "max     67.100000                  2.420000   81.000000    1.000000  "
            ],
            "text/html": [
              "<div>\n",
              "<style scoped>\n",
              "    .dataframe tbody tr th:only-of-type {\n",
              "        vertical-align: middle;\n",
              "    }\n",
              "\n",
              "    .dataframe tbody tr th {\n",
              "        vertical-align: top;\n",
              "    }\n",
              "\n",
              "    .dataframe thead th {\n",
              "        text-align: right;\n",
              "    }\n",
              "</style>\n",
              "<table border=\"1\" class=\"dataframe\">\n",
              "  <thead>\n",
              "    <tr style=\"text-align: right;\">\n",
              "      <th></th>\n",
              "      <th>Pregnancies</th>\n",
              "      <th>Glucose</th>\n",
              "      <th>BloodPressure</th>\n",
              "      <th>SkinThickness</th>\n",
              "      <th>Insulin</th>\n",
              "      <th>BMI</th>\n",
              "      <th>DiabetesPedigreeFunction</th>\n",
              "      <th>Age</th>\n",
              "      <th>Outcome</th>\n",
              "    </tr>\n",
              "  </thead>\n",
              "  <tbody>\n",
              "    <tr>\n",
              "      <th>count</th>\n",
              "      <td>768.000000</td>\n",
              "      <td>768.000000</td>\n",
              "      <td>768.000000</td>\n",
              "      <td>768.000000</td>\n",
              "      <td>768.000000</td>\n",
              "      <td>768.000000</td>\n",
              "      <td>768.000000</td>\n",
              "      <td>768.000000</td>\n",
              "      <td>768.000000</td>\n",
              "    </tr>\n",
              "    <tr>\n",
              "      <th>mean</th>\n",
              "      <td>3.845052</td>\n",
              "      <td>120.894531</td>\n",
              "      <td>69.105469</td>\n",
              "      <td>20.536458</td>\n",
              "      <td>79.799479</td>\n",
              "      <td>31.992578</td>\n",
              "      <td>0.471876</td>\n",
              "      <td>33.240885</td>\n",
              "      <td>0.348958</td>\n",
              "    </tr>\n",
              "    <tr>\n",
              "      <th>std</th>\n",
              "      <td>3.369578</td>\n",
              "      <td>31.972618</td>\n",
              "      <td>19.355807</td>\n",
              "      <td>15.952218</td>\n",
              "      <td>115.244002</td>\n",
              "      <td>7.884160</td>\n",
              "      <td>0.331329</td>\n",
              "      <td>11.760232</td>\n",
              "      <td>0.476951</td>\n",
              "    </tr>\n",
              "    <tr>\n",
              "      <th>min</th>\n",
              "      <td>0.000000</td>\n",
              "      <td>0.000000</td>\n",
              "      <td>0.000000</td>\n",
              "      <td>0.000000</td>\n",
              "      <td>0.000000</td>\n",
              "      <td>0.000000</td>\n",
              "      <td>0.078000</td>\n",
              "      <td>21.000000</td>\n",
              "      <td>0.000000</td>\n",
              "    </tr>\n",
              "    <tr>\n",
              "      <th>25%</th>\n",
              "      <td>1.000000</td>\n",
              "      <td>99.000000</td>\n",
              "      <td>62.000000</td>\n",
              "      <td>0.000000</td>\n",
              "      <td>0.000000</td>\n",
              "      <td>27.300000</td>\n",
              "      <td>0.243750</td>\n",
              "      <td>24.000000</td>\n",
              "      <td>0.000000</td>\n",
              "    </tr>\n",
              "    <tr>\n",
              "      <th>50%</th>\n",
              "      <td>3.000000</td>\n",
              "      <td>117.000000</td>\n",
              "      <td>72.000000</td>\n",
              "      <td>23.000000</td>\n",
              "      <td>30.500000</td>\n",
              "      <td>32.000000</td>\n",
              "      <td>0.372500</td>\n",
              "      <td>29.000000</td>\n",
              "      <td>0.000000</td>\n",
              "    </tr>\n",
              "    <tr>\n",
              "      <th>75%</th>\n",
              "      <td>6.000000</td>\n",
              "      <td>140.250000</td>\n",
              "      <td>80.000000</td>\n",
              "      <td>32.000000</td>\n",
              "      <td>127.250000</td>\n",
              "      <td>36.600000</td>\n",
              "      <td>0.626250</td>\n",
              "      <td>41.000000</td>\n",
              "      <td>1.000000</td>\n",
              "    </tr>\n",
              "    <tr>\n",
              "      <th>max</th>\n",
              "      <td>17.000000</td>\n",
              "      <td>199.000000</td>\n",
              "      <td>122.000000</td>\n",
              "      <td>99.000000</td>\n",
              "      <td>846.000000</td>\n",
              "      <td>67.100000</td>\n",
              "      <td>2.420000</td>\n",
              "      <td>81.000000</td>\n",
              "      <td>1.000000</td>\n",
              "    </tr>\n",
              "  </tbody>\n",
              "</table>\n",
              "</div>"
            ]
          },
          "metadata": {
            "tags": []
          },
          "execution_count": 7
        }
      ]
    },
    {
      "cell_type": "code",
      "metadata": {
        "tags": [],
        "id": "iYZ3gWXz8nwy"
      },
      "source": [
        "print(dataset['Outcome'].value_counts())"
      ],
      "execution_count": null,
      "outputs": []
    },
    {
      "cell_type": "code",
      "metadata": {
        "id": "gmgM_Y2y8nw1",
        "outputId": "5db2d5c3-9d32-412a-be6c-17e9c73a0778"
      },
      "source": [
        "dataset.columns"
      ],
      "execution_count": null,
      "outputs": [
        {
          "output_type": "execute_result",
          "data": {
            "text/plain": [
              "Index(['Pregnancies', 'Glucose', 'BloodPressure', 'SkinThickness', 'Insulin',\n",
              "       'BMI', 'DiabetesPedigreeFunction', 'Age', 'Outcome'],\n",
              "      dtype='object')"
            ]
          },
          "metadata": {
            "tags": []
          },
          "execution_count": 20
        }
      ]
    },
    {
      "cell_type": "markdown",
      "metadata": {
        "id": "pDIitnbB8nw4"
      },
      "source": [
        "Exploratory Data Analysis (EDA)"
      ]
    },
    {
      "cell_type": "code",
      "metadata": {
        "tags": [],
        "id": "1gQD2SsS8nw5",
        "outputId": "11f44875-6949-4558-e868-236b854240c2"
      },
      "source": [
        "# Mengambil sample perbandingan kadar glukosa pada penderita diabetes dan non-perderita\n",
        "zero = dataset.loc[dataset[\"Outcome\"] == 0]\n",
        "one = dataset.loc[dataset[\"Outcome\"] == 1]\n",
        "plt.plot(zero[\"Glucose\"], np.zeros_like(zero[\"Glucose\"]), 'o')\n",
        "plt.plot(one[\"Glucose\"], np.zeros_like(one[\"Glucose\"]), 'o')\n",
        "\n",
        "plt.grid()\n",
        "plt.show()"
      ],
      "execution_count": null,
      "outputs": [
        {
          "output_type": "display_data",
          "data": {
            "text/plain": [
              "<Figure size 432x288 with 1 Axes>"
            ],
            "image/svg+xml": "<?xml version=\"1.0\" encoding=\"utf-8\" standalone=\"no\"?>\r\n<!DOCTYPE svg PUBLIC \"-//W3C//DTD SVG 1.1//EN\"\r\n  \"http://www.w3.org/Graphics/SVG/1.1/DTD/svg11.dtd\">\r\n<!-- Created with matplotlib (https://matplotlib.org/) -->\r\n<svg height=\"247.985312pt\" version=\"1.1\" viewBox=\"0 0 381.501563 247.985312\" width=\"381.501563pt\" xmlns=\"http://www.w3.org/2000/svg\" xmlns:xlink=\"http://www.w3.org/1999/xlink\">\r\n <metadata>\r\n  <rdf:RDF xmlns:cc=\"http://creativecommons.org/ns#\" xmlns:dc=\"http://purl.org/dc/elements/1.1/\" xmlns:rdf=\"http://www.w3.org/1999/02/22-rdf-syntax-ns#\">\r\n   <cc:Work>\r\n    <dc:type rdf:resource=\"http://purl.org/dc/dcmitype/StillImage\"/>\r\n    <dc:date>2020-09-11T14:02:57.483110</dc:date>\r\n    <dc:format>image/svg+xml</dc:format>\r\n    <dc:creator>\r\n     <cc:Agent>\r\n      <dc:title>Matplotlib v3.3.1, https://matplotlib.org/</dc:title>\r\n     </cc:Agent>\r\n    </dc:creator>\r\n   </cc:Work>\r\n  </rdf:RDF>\r\n </metadata>\r\n <defs>\r\n  <style type=\"text/css\">*{stroke-linecap:butt;stroke-linejoin:round;}</style>\r\n </defs>\r\n <g id=\"figure_1\">\r\n  <g id=\"patch_1\">\r\n   <path d=\"M 0 247.985312 \r\nL 381.501563 247.985312 \r\nL 381.501563 0 \r\nL 0 0 \r\nz\r\n\" style=\"fill:#ffffff;\"/>\r\n  </g>\r\n  <g id=\"axes_1\">\r\n   <g id=\"patch_2\">\r\n    <path d=\"M 39.501563 224.64 \r\nL 374.301562 224.64 \r\nL 374.301562 7.2 \r\nL 39.501563 7.2 \r\nz\r\n\" style=\"fill:#ffffff;\"/>\r\n   </g>\r\n   <g id=\"matplotlib.axis_1\">\r\n    <g id=\"xtick_1\">\r\n     <g id=\"text_1\">\r\n      <!-- 0 -->\r\n      <g style=\"fill:#262626;\" transform=\"translate(51.939276 238.797812)scale(0.1 -0.1)\">\r\n       <defs>\r\n        <path d=\"M 4.15625 35.296875 \r\nQ 4.15625 48 6.765625 55.734375 \r\nQ 9.375 63.484375 14.515625 67.671875 \r\nQ 19.671875 71.875 27.484375 71.875 \r\nQ 33.25 71.875 37.59375 69.546875 \r\nQ 41.9375 67.234375 44.765625 62.859375 \r\nQ 47.609375 58.5 49.21875 52.21875 \r\nQ 50.828125 45.953125 50.828125 35.296875 \r\nQ 50.828125 22.703125 48.234375 14.96875 \r\nQ 45.65625 7.234375 40.5 3 \r\nQ 35.359375 -1.21875 27.484375 -1.21875 \r\nQ 17.140625 -1.21875 11.234375 6.203125 \r\nQ 4.15625 15.140625 4.15625 35.296875 \r\nz\r\nM 13.1875 35.296875 \r\nQ 13.1875 17.671875 17.3125 11.828125 \r\nQ 21.4375 6 27.484375 6 \r\nQ 33.546875 6 37.671875 11.859375 \r\nQ 41.796875 17.71875 41.796875 35.296875 \r\nQ 41.796875 52.984375 37.671875 58.78125 \r\nQ 33.546875 64.59375 27.390625 64.59375 \r\nQ 21.34375 64.59375 17.71875 59.46875 \r\nQ 13.1875 52.9375 13.1875 35.296875 \r\nz\r\n\" id=\"ArialMT-48\"/>\r\n       </defs>\r\n       <use xlink:href=\"#ArialMT-48\"/>\r\n      </g>\r\n     </g>\r\n    </g>\r\n    <g id=\"xtick_2\">\r\n     <g id=\"text_2\">\r\n      <!-- 25 -->\r\n      <g style=\"fill:#262626;\" transform=\"translate(87.395445 238.797812)scale(0.1 -0.1)\">\r\n       <defs>\r\n        <path d=\"M 50.34375 8.453125 \r\nL 50.34375 0 \r\nL 3.03125 0 \r\nQ 2.9375 3.171875 4.046875 6.109375 \r\nQ 5.859375 10.9375 9.828125 15.625 \r\nQ 13.8125 20.3125 21.34375 26.46875 \r\nQ 33.015625 36.03125 37.109375 41.625 \r\nQ 41.21875 47.21875 41.21875 52.203125 \r\nQ 41.21875 57.421875 37.46875 61 \r\nQ 33.734375 64.59375 27.734375 64.59375 \r\nQ 21.390625 64.59375 17.578125 60.78125 \r\nQ 13.765625 56.984375 13.71875 50.25 \r\nL 4.6875 51.171875 \r\nQ 5.609375 61.28125 11.65625 66.578125 \r\nQ 17.71875 71.875 27.9375 71.875 \r\nQ 38.234375 71.875 44.234375 66.15625 \r\nQ 50.25 60.453125 50.25 52 \r\nQ 50.25 47.703125 48.484375 43.546875 \r\nQ 46.734375 39.40625 42.65625 34.8125 \r\nQ 38.578125 30.21875 29.109375 22.21875 \r\nQ 21.1875 15.578125 18.9375 13.203125 \r\nQ 16.703125 10.84375 15.234375 8.453125 \r\nz\r\n\" id=\"ArialMT-50\"/>\r\n        <path d=\"M 4.15625 18.75 \r\nL 13.375 19.53125 \r\nQ 14.40625 12.796875 18.140625 9.390625 \r\nQ 21.875 6 27.15625 6 \r\nQ 33.5 6 37.890625 10.78125 \r\nQ 42.28125 15.578125 42.28125 23.484375 \r\nQ 42.28125 31 38.0625 35.34375 \r\nQ 33.84375 39.703125 27 39.703125 \r\nQ 22.75 39.703125 19.328125 37.765625 \r\nQ 15.921875 35.84375 13.96875 32.765625 \r\nL 5.71875 33.84375 \r\nL 12.640625 70.609375 \r\nL 48.25 70.609375 \r\nL 48.25 62.203125 \r\nL 19.671875 62.203125 \r\nL 15.828125 42.96875 \r\nQ 22.265625 47.46875 29.34375 47.46875 \r\nQ 38.71875 47.46875 45.15625 40.96875 \r\nQ 51.609375 34.46875 51.609375 24.265625 \r\nQ 51.609375 14.546875 45.953125 7.46875 \r\nQ 39.0625 -1.21875 27.15625 -1.21875 \r\nQ 17.390625 -1.21875 11.203125 4.25 \r\nQ 5.03125 9.71875 4.15625 18.75 \r\nz\r\n\" id=\"ArialMT-53\"/>\r\n       </defs>\r\n       <use xlink:href=\"#ArialMT-50\"/>\r\n       <use x=\"55.615234\" xlink:href=\"#ArialMT-53\"/>\r\n      </g>\r\n     </g>\r\n    </g>\r\n    <g id=\"xtick_3\">\r\n     <g id=\"text_3\">\r\n      <!-- 50 -->\r\n      <g style=\"fill:#262626;\" transform=\"translate(125.632082 238.797812)scale(0.1 -0.1)\">\r\n       <use xlink:href=\"#ArialMT-53\"/>\r\n       <use x=\"55.615234\" xlink:href=\"#ArialMT-48\"/>\r\n      </g>\r\n     </g>\r\n    </g>\r\n    <g id=\"xtick_4\">\r\n     <g id=\"text_4\">\r\n      <!-- 75 -->\r\n      <g style=\"fill:#262626;\" transform=\"translate(163.86872 238.797812)scale(0.1 -0.1)\">\r\n       <defs>\r\n        <path d=\"M 4.734375 62.203125 \r\nL 4.734375 70.65625 \r\nL 51.078125 70.65625 \r\nL 51.078125 63.8125 \r\nQ 44.234375 56.546875 37.515625 44.484375 \r\nQ 30.8125 32.421875 27.15625 19.671875 \r\nQ 24.515625 10.6875 23.78125 0 \r\nL 14.75 0 \r\nQ 14.890625 8.453125 18.0625 20.40625 \r\nQ 21.234375 32.375 27.171875 43.484375 \r\nQ 33.109375 54.59375 39.796875 62.203125 \r\nz\r\n\" id=\"ArialMT-55\"/>\r\n       </defs>\r\n       <use xlink:href=\"#ArialMT-55\"/>\r\n       <use x=\"55.615234\" xlink:href=\"#ArialMT-53\"/>\r\n      </g>\r\n     </g>\r\n    </g>\r\n    <g id=\"xtick_5\">\r\n     <g id=\"text_5\">\r\n      <!-- 100 -->\r\n      <g style=\"fill:#262626;\" transform=\"translate(199.324889 238.797812)scale(0.1 -0.1)\">\r\n       <defs>\r\n        <path d=\"M 37.25 0 \r\nL 28.46875 0 \r\nL 28.46875 56 \r\nQ 25.296875 52.984375 20.140625 49.953125 \r\nQ 14.984375 46.921875 10.890625 45.40625 \r\nL 10.890625 53.90625 \r\nQ 18.265625 57.375 23.78125 62.296875 \r\nQ 29.296875 67.234375 31.59375 71.875 \r\nL 37.25 71.875 \r\nz\r\n\" id=\"ArialMT-49\"/>\r\n       </defs>\r\n       <use xlink:href=\"#ArialMT-49\"/>\r\n       <use x=\"55.615234\" xlink:href=\"#ArialMT-48\"/>\r\n       <use x=\"111.230469\" xlink:href=\"#ArialMT-48\"/>\r\n      </g>\r\n     </g>\r\n    </g>\r\n    <g id=\"xtick_6\">\r\n     <g id=\"text_6\">\r\n      <!-- 125 -->\r\n      <g style=\"fill:#262626;\" transform=\"translate(237.561527 238.797812)scale(0.1 -0.1)\">\r\n       <use xlink:href=\"#ArialMT-49\"/>\r\n       <use x=\"55.615234\" xlink:href=\"#ArialMT-50\"/>\r\n       <use x=\"111.230469\" xlink:href=\"#ArialMT-53\"/>\r\n      </g>\r\n     </g>\r\n    </g>\r\n    <g id=\"xtick_7\">\r\n     <g id=\"text_7\">\r\n      <!-- 150 -->\r\n      <g style=\"fill:#262626;\" transform=\"translate(275.798164 238.797812)scale(0.1 -0.1)\">\r\n       <use xlink:href=\"#ArialMT-49\"/>\r\n       <use x=\"55.615234\" xlink:href=\"#ArialMT-53\"/>\r\n       <use x=\"111.230469\" xlink:href=\"#ArialMT-48\"/>\r\n      </g>\r\n     </g>\r\n    </g>\r\n    <g id=\"xtick_8\">\r\n     <g id=\"text_8\">\r\n      <!-- 175 -->\r\n      <g style=\"fill:#262626;\" transform=\"translate(314.034802 238.797812)scale(0.1 -0.1)\">\r\n       <use xlink:href=\"#ArialMT-49\"/>\r\n       <use x=\"55.615234\" xlink:href=\"#ArialMT-55\"/>\r\n       <use x=\"111.230469\" xlink:href=\"#ArialMT-53\"/>\r\n      </g>\r\n     </g>\r\n    </g>\r\n    <g id=\"xtick_9\">\r\n     <g id=\"text_9\">\r\n      <!-- 200 -->\r\n      <g style=\"fill:#262626;\" transform=\"translate(352.27144 238.797812)scale(0.1 -0.1)\">\r\n       <use xlink:href=\"#ArialMT-50\"/>\r\n       <use x=\"55.615234\" xlink:href=\"#ArialMT-48\"/>\r\n       <use x=\"111.230469\" xlink:href=\"#ArialMT-48\"/>\r\n      </g>\r\n     </g>\r\n    </g>\r\n   </g>\r\n   <g id=\"matplotlib.axis_2\">\r\n    <g id=\"ytick_1\">\r\n     <g id=\"text_10\">\r\n      <!-- −0.04 -->\r\n      <g style=\"fill:#262626;\" transform=\"translate(7.2 198.567997)scale(0.1 -0.1)\">\r\n       <defs>\r\n        <path d=\"M 52.828125 31.203125 \r\nL 5.5625 31.203125 \r\nL 5.5625 39.40625 \r\nL 52.828125 39.40625 \r\nz\r\n\" id=\"ArialMT-8722\"/>\r\n        <path d=\"M 9.078125 0 \r\nL 9.078125 10.015625 \r\nL 19.09375 10.015625 \r\nL 19.09375 0 \r\nz\r\n\" id=\"ArialMT-46\"/>\r\n        <path d=\"M 32.328125 0 \r\nL 32.328125 17.140625 \r\nL 1.265625 17.140625 \r\nL 1.265625 25.203125 \r\nL 33.9375 71.578125 \r\nL 41.109375 71.578125 \r\nL 41.109375 25.203125 \r\nL 50.78125 25.203125 \r\nL 50.78125 17.140625 \r\nL 41.109375 17.140625 \r\nL 41.109375 0 \r\nz\r\nM 32.328125 25.203125 \r\nL 32.328125 57.46875 \r\nL 9.90625 25.203125 \r\nz\r\n\" id=\"ArialMT-52\"/>\r\n       </defs>\r\n       <use xlink:href=\"#ArialMT-8722\"/>\r\n       <use x=\"58.398438\" xlink:href=\"#ArialMT-48\"/>\r\n       <use x=\"114.013672\" xlink:href=\"#ArialMT-46\"/>\r\n       <use x=\"141.796875\" xlink:href=\"#ArialMT-48\"/>\r\n       <use x=\"197.412109\" xlink:href=\"#ArialMT-52\"/>\r\n      </g>\r\n     </g>\r\n    </g>\r\n    <g id=\"ytick_2\">\r\n     <g id=\"text_11\">\r\n      <!-- −0.02 -->\r\n      <g style=\"fill:#262626;\" transform=\"translate(7.2 159.033452)scale(0.1 -0.1)\">\r\n       <use xlink:href=\"#ArialMT-8722\"/>\r\n       <use x=\"58.398438\" xlink:href=\"#ArialMT-48\"/>\r\n       <use x=\"114.013672\" xlink:href=\"#ArialMT-46\"/>\r\n       <use x=\"141.796875\" xlink:href=\"#ArialMT-48\"/>\r\n       <use x=\"197.412109\" xlink:href=\"#ArialMT-50\"/>\r\n      </g>\r\n     </g>\r\n    </g>\r\n    <g id=\"ytick_3\">\r\n     <g id=\"text_12\">\r\n      <!-- 0.00 -->\r\n      <g style=\"fill:#262626;\" transform=\"translate(13.040625 119.498906)scale(0.1 -0.1)\">\r\n       <use xlink:href=\"#ArialMT-48\"/>\r\n       <use x=\"55.615234\" xlink:href=\"#ArialMT-46\"/>\r\n       <use x=\"83.398438\" xlink:href=\"#ArialMT-48\"/>\r\n       <use x=\"139.013672\" xlink:href=\"#ArialMT-48\"/>\r\n      </g>\r\n     </g>\r\n    </g>\r\n    <g id=\"ytick_4\">\r\n     <g id=\"text_13\">\r\n      <!-- 0.02 -->\r\n      <g style=\"fill:#262626;\" transform=\"translate(13.040625 79.964361)scale(0.1 -0.1)\">\r\n       <use xlink:href=\"#ArialMT-48\"/>\r\n       <use x=\"55.615234\" xlink:href=\"#ArialMT-46\"/>\r\n       <use x=\"83.398438\" xlink:href=\"#ArialMT-48\"/>\r\n       <use x=\"139.013672\" xlink:href=\"#ArialMT-50\"/>\r\n      </g>\r\n     </g>\r\n    </g>\r\n    <g id=\"ytick_5\">\r\n     <g id=\"text_14\">\r\n      <!-- 0.04 -->\r\n      <g style=\"fill:#262626;\" transform=\"translate(13.040625 40.429815)scale(0.1 -0.1)\">\r\n       <use xlink:href=\"#ArialMT-48\"/>\r\n       <use x=\"55.615234\" xlink:href=\"#ArialMT-46\"/>\r\n       <use x=\"83.398438\" xlink:href=\"#ArialMT-48\"/>\r\n       <use x=\"139.013672\" xlink:href=\"#ArialMT-52\"/>\r\n      </g>\r\n     </g>\r\n    </g>\r\n   </g>\r\n   <g id=\"line2d_1\">\r\n    <defs>\r\n     <path d=\"M 0 3 \r\nC 0.795609 3 1.55874 2.683901 2.12132 2.12132 \r\nC 2.683901 1.55874 3 0.795609 3 0 \r\nC 3 -0.795609 2.683901 -1.55874 2.12132 -2.12132 \r\nC 1.55874 -2.683901 0.795609 -3 0 -3 \r\nC -0.795609 -3 -1.55874 -2.683901 -2.12132 -2.12132 \r\nC -2.683901 -1.55874 -3 -0.795609 -3 0 \r\nC -3 0.795609 -2.683901 1.55874 -2.12132 2.12132 \r\nC -1.55874 2.683901 -0.795609 3 0 3 \r\nz\r\n\" id=\"mdd288db542\" style=\"stroke:#1f77b4;\"/>\r\n    </defs>\r\n    <g clip-path=\"url(#pd856596da4)\">\r\n     <use style=\"fill:#1f77b4;stroke:#1f77b4;\" x=\"184.724313\" xlink:href=\"#mdd288db542\" y=\"115.92\"/>\r\n     <use style=\"fill:#1f77b4;stroke:#1f77b4;\" x=\"190.842175\" xlink:href=\"#mdd288db542\" y=\"115.92\"/>\r\n     <use style=\"fill:#1f77b4;stroke:#1f77b4;\" x=\"232.137743\" xlink:href=\"#mdd288db542\" y=\"115.92\"/>\r\n     <use style=\"fill:#1f77b4;stroke:#1f77b4;\" x=\"230.608278\" xlink:href=\"#mdd288db542\" y=\"115.92\"/>\r\n     <use style=\"fill:#1f77b4;stroke:#1f77b4;\" x=\"222.96095\" xlink:href=\"#mdd288db542\" y=\"115.92\"/>\r\n     <use style=\"fill:#1f77b4;stroke:#1f77b4;\" x=\"267.31545\" xlink:href=\"#mdd288db542\" y=\"115.92\"/>\r\n     <use style=\"fill:#1f77b4;stroke:#1f77b4;\" x=\"212.254692\" xlink:href=\"#mdd288db542\" y=\"115.92\"/>\r\n     <use style=\"fill:#1f77b4;stroke:#1f77b4;\" x=\"247.432398\" xlink:href=\"#mdd288db542\" y=\"115.92\"/>\r\n     <use style=\"fill:#1f77b4;stroke:#1f77b4;\" x=\"206.13683\" xlink:href=\"#mdd288db542\" y=\"115.92\"/>\r\n     <use style=\"fill:#1f77b4;stroke:#1f77b4;\" x=\"203.077899\" xlink:href=\"#mdd288db542\" y=\"115.92\"/>\r\n     <use style=\"fill:#1f77b4;stroke:#1f77b4;\" x=\"276.492243\" xlink:href=\"#mdd288db542\" y=\"115.92\"/>\r\n     <use style=\"fill:#1f77b4;stroke:#1f77b4;\" x=\"233.667209\" xlink:href=\"#mdd288db542\" y=\"115.92\"/>\r\n     <use style=\"fill:#1f77b4;stroke:#1f77b4;\" x=\"221.431485\" xlink:href=\"#mdd288db542\" y=\"115.92\"/>\r\n     <use style=\"fill:#1f77b4;stroke:#1f77b4;\" x=\"189.312709\" xlink:href=\"#mdd288db542\" y=\"115.92\"/>\r\n     <use style=\"fill:#1f77b4;stroke:#1f77b4;\" x=\"195.430571\" xlink:href=\"#mdd288db542\" y=\"115.92\"/>\r\n     <use style=\"fill:#1f77b4;stroke:#1f77b4;\" x=\"241.314536\" xlink:href=\"#mdd288db542\" y=\"115.92\"/>\r\n     <use style=\"fill:#1f77b4;stroke:#1f77b4;\" x=\"212.254692\" xlink:href=\"#mdd288db542\" y=\"115.92\"/>\r\n     <use style=\"fill:#1f77b4;stroke:#1f77b4;\" x=\"265.785985\" xlink:href=\"#mdd288db542\" y=\"115.92\"/>\r\n     <use style=\"fill:#1f77b4;stroke:#1f77b4;\" x=\"330.023536\" xlink:href=\"#mdd288db542\" y=\"115.92\"/>\r\n     <use style=\"fill:#1f77b4;stroke:#1f77b4;\" x=\"258.138657\" xlink:href=\"#mdd288db542\" y=\"115.92\"/>\r\n     <use style=\"fill:#1f77b4;stroke:#1f77b4;\" x=\"216.843088\" xlink:href=\"#mdd288db542\" y=\"115.92\"/>\r\n     <use style=\"fill:#1f77b4;stroke:#1f77b4;\" x=\"297.90476\" xlink:href=\"#mdd288db542\" y=\"115.92\"/>\r\n     <use style=\"fill:#1f77b4;stroke:#1f77b4;\" x=\"278.021709\" xlink:href=\"#mdd288db542\" y=\"115.92\"/>\r\n     <use style=\"fill:#1f77b4;stroke:#1f77b4;\" x=\"163.311795\" xlink:href=\"#mdd288db542\" y=\"115.92\"/>\r\n     <use style=\"fill:#1f77b4;stroke:#1f77b4;\" x=\"215.313623\" xlink:href=\"#mdd288db542\" y=\"115.92\"/>\r\n     <use style=\"fill:#1f77b4;stroke:#1f77b4;\" x=\"212.254692\" xlink:href=\"#mdd288db542\" y=\"115.92\"/>\r\n     <use style=\"fill:#1f77b4;stroke:#1f77b4;\" x=\"209.195761\" xlink:href=\"#mdd288db542\" y=\"115.92\"/>\r\n     <use style=\"fill:#1f77b4;stroke:#1f77b4;\" x=\"189.312709\" xlink:href=\"#mdd288db542\" y=\"115.92\"/>\r\n     <use style=\"fill:#1f77b4;stroke:#1f77b4;\" x=\"284.139571\" xlink:href=\"#mdd288db542\" y=\"115.92\"/>\r\n     <use style=\"fill:#1f77b4;stroke:#1f77b4;\" x=\"166.370727\" xlink:href=\"#mdd288db542\" y=\"115.92\"/>\r\n     <use style=\"fill:#1f77b4;stroke:#1f77b4;\" x=\"207.666295\" xlink:href=\"#mdd288db542\" y=\"115.92\"/>\r\n     <use style=\"fill:#1f77b4;stroke:#1f77b4;\" x=\"278.021709\" xlink:href=\"#mdd288db542\" y=\"115.92\"/>\r\n     <use style=\"fill:#1f77b4;stroke:#1f77b4;\" x=\"215.313623\" xlink:href=\"#mdd288db542\" y=\"115.92\"/>\r\n     <use style=\"fill:#1f77b4;stroke:#1f77b4;\" x=\"183.194847\" xlink:href=\"#mdd288db542\" y=\"115.92\"/>\r\n     <use style=\"fill:#1f77b4;stroke:#1f77b4;\" x=\"122.016227\" xlink:href=\"#mdd288db542\" y=\"115.92\"/>\r\n     <use style=\"fill:#1f77b4;stroke:#1f77b4;\" x=\"270.374381\" xlink:href=\"#mdd288db542\" y=\"115.92\"/>\r\n     <use style=\"fill:#1f77b4;stroke:#1f77b4;\" x=\"206.13683\" xlink:href=\"#mdd288db542\" y=\"115.92\"/>\r\n     <use style=\"fill:#1f77b4;stroke:#1f77b4;\" x=\"221.431485\" xlink:href=\"#mdd288db542\" y=\"115.92\"/>\r\n     <use style=\"fill:#1f77b4;stroke:#1f77b4;\" x=\"200.018968\" xlink:href=\"#mdd288db542\" y=\"115.92\"/>\r\n     <use style=\"fill:#1f77b4;stroke:#1f77b4;\" x=\"278.021709\" xlink:href=\"#mdd288db542\" y=\"115.92\"/>\r\n     <use style=\"fill:#1f77b4;stroke:#1f77b4;\" x=\"267.31545\" xlink:href=\"#mdd288db542\" y=\"115.92\"/>\r\n     <use style=\"fill:#1f77b4;stroke:#1f77b4;\" x=\"252.020795\" xlink:href=\"#mdd288db542\" y=\"115.92\"/>\r\n     <use style=\"fill:#1f77b4;stroke:#1f77b4;\" x=\"175.54752\" xlink:href=\"#mdd288db542\" y=\"115.92\"/>\r\n     <use style=\"fill:#1f77b4;stroke:#1f77b4;\" x=\"54.719744\" xlink:href=\"#mdd288db542\" y=\"115.92\"/>\r\n     <use style=\"fill:#1f77b4;stroke:#1f77b4;\" x=\"149.546606\" xlink:href=\"#mdd288db542\" y=\"115.92\"/>\r\n     <use style=\"fill:#1f77b4;stroke:#1f77b4;\" x=\"200.018968\" xlink:href=\"#mdd288db542\" y=\"115.92\"/>\r\n     <use style=\"fill:#1f77b4;stroke:#1f77b4;\" x=\"226.019881\" xlink:href=\"#mdd288db542\" y=\"115.92\"/>\r\n     <use style=\"fill:#1f77b4;stroke:#1f77b4;\" x=\"227.549347\" xlink:href=\"#mdd288db542\" y=\"115.92\"/>\r\n     <use style=\"fill:#1f77b4;stroke:#1f77b4;\" x=\"167.900192\" xlink:href=\"#mdd288db542\" y=\"115.92\"/>\r\n     <use style=\"fill:#1f77b4;stroke:#1f77b4;\" x=\"181.665382\" xlink:href=\"#mdd288db542\" y=\"115.92\"/>\r\n     <use style=\"fill:#1f77b4;stroke:#1f77b4;\" x=\"209.195761\" xlink:href=\"#mdd288db542\" y=\"115.92\"/>\r\n     <use style=\"fill:#1f77b4;stroke:#1f77b4;\" x=\"222.96095\" xlink:href=\"#mdd288db542\" y=\"115.92\"/>\r\n     <use style=\"fill:#1f77b4;stroke:#1f77b4;\" x=\"216.843088\" xlink:href=\"#mdd288db542\" y=\"115.92\"/>\r\n     <use style=\"fill:#1f77b4;stroke:#1f77b4;\" x=\"207.666295\" xlink:href=\"#mdd288db542\" y=\"115.92\"/>\r\n     <use style=\"fill:#1f77b4;stroke:#1f77b4;\" x=\"218.372554\" xlink:href=\"#mdd288db542\" y=\"115.92\"/>\r\n     <use style=\"fill:#1f77b4;stroke:#1f77b4;\" x=\"177.076985\" xlink:href=\"#mdd288db542\" y=\"115.92\"/>\r\n     <use style=\"fill:#1f77b4;stroke:#1f77b4;\" x=\"242.844002\" xlink:href=\"#mdd288db542\" y=\"115.92\"/>\r\n     <use style=\"fill:#1f77b4;stroke:#1f77b4;\" x=\"178.606451\" xlink:href=\"#mdd288db542\" y=\"115.92\"/>\r\n     <use style=\"fill:#1f77b4;stroke:#1f77b4;\" x=\"271.903847\" xlink:href=\"#mdd288db542\" y=\"115.92\"/>\r\n     <use style=\"fill:#1f77b4;stroke:#1f77b4;\" x=\"274.962778\" xlink:href=\"#mdd288db542\" y=\"115.92\"/>\r\n     <use style=\"fill:#1f77b4;stroke:#1f77b4;\" x=\"195.430571\" xlink:href=\"#mdd288db542\" y=\"115.92\"/>\r\n     <use style=\"fill:#1f77b4;stroke:#1f77b4;\" x=\"163.311795\" xlink:href=\"#mdd288db542\" y=\"115.92\"/>\r\n     <use style=\"fill:#1f77b4;stroke:#1f77b4;\" x=\"196.960037\" xlink:href=\"#mdd288db542\" y=\"115.92\"/>\r\n     <use style=\"fill:#1f77b4;stroke:#1f77b4;\" x=\"285.669036\" xlink:href=\"#mdd288db542\" y=\"115.92\"/>\r\n     <use style=\"fill:#1f77b4;stroke:#1f77b4;\" x=\"245.902933\" xlink:href=\"#mdd288db542\" y=\"115.92\"/>\r\n     <use style=\"fill:#1f77b4;stroke:#1f77b4;\" x=\"178.606451\" xlink:href=\"#mdd288db542\" y=\"115.92\"/>\r\n     <use style=\"fill:#1f77b4;stroke:#1f77b4;\" x=\"184.724313\" xlink:href=\"#mdd288db542\" y=\"115.92\"/>\r\n     <use style=\"fill:#1f77b4;stroke:#1f77b4;\" x=\"247.432398\" xlink:href=\"#mdd288db542\" y=\"115.92\"/>\r\n     <use style=\"fill:#1f77b4;stroke:#1f77b4;\" x=\"201.548433\" xlink:href=\"#mdd288db542\" y=\"115.92\"/>\r\n     <use style=\"fill:#1f77b4;stroke:#1f77b4;\" x=\"274.962778\" xlink:href=\"#mdd288db542\" y=\"115.92\"/>\r\n     <use style=\"fill:#1f77b4;stroke:#1f77b4;\" x=\"181.665382\" xlink:href=\"#mdd288db542\" y=\"115.92\"/>\r\n     <use style=\"fill:#1f77b4;stroke:#1f77b4;\" x=\"190.842175\" xlink:href=\"#mdd288db542\" y=\"115.92\"/>\r\n     <use style=\"fill:#1f77b4;stroke:#1f77b4;\" x=\"170.959123\" xlink:href=\"#mdd288db542\" y=\"115.92\"/>\r\n     <use style=\"fill:#1f77b4;stroke:#1f77b4;\" x=\"174.018054\" xlink:href=\"#mdd288db542\" y=\"115.92\"/>\r\n     <use style=\"fill:#1f77b4;stroke:#1f77b4;\" x=\"203.077899\" xlink:href=\"#mdd288db542\" y=\"115.92\"/>\r\n     <use style=\"fill:#1f77b4;stroke:#1f77b4;\" x=\"206.13683\" xlink:href=\"#mdd288db542\" y=\"115.92\"/>\r\n     <use style=\"fill:#1f77b4;stroke:#1f77b4;\" x=\"224.490416\" xlink:href=\"#mdd288db542\" y=\"115.92\"/>\r\n     <use style=\"fill:#1f77b4;stroke:#1f77b4;\" x=\"218.372554\" xlink:href=\"#mdd288db542\" y=\"115.92\"/>\r\n     <use style=\"fill:#1f77b4;stroke:#1f77b4;\" x=\"256.609192\" xlink:href=\"#mdd288db542\" y=\"115.92\"/>\r\n     <use style=\"fill:#1f77b4;stroke:#1f77b4;\" x=\"238.255605\" xlink:href=\"#mdd288db542\" y=\"115.92\"/>\r\n     <use style=\"fill:#1f77b4;stroke:#1f77b4;\" x=\"235.196674\" xlink:href=\"#mdd288db542\" y=\"115.92\"/>\r\n     <use style=\"fill:#1f77b4;stroke:#1f77b4;\" x=\"183.194847\" xlink:href=\"#mdd288db542\" y=\"115.92\"/>\r\n     <use style=\"fill:#1f77b4;stroke:#1f77b4;\" x=\"201.548433\" xlink:href=\"#mdd288db542\" y=\"115.92\"/>\r\n     <use style=\"fill:#1f77b4;stroke:#1f77b4;\" x=\"245.902933\" xlink:href=\"#mdd288db542\" y=\"115.92\"/>\r\n     <use style=\"fill:#1f77b4;stroke:#1f77b4;\" x=\"207.666295\" xlink:href=\"#mdd288db542\" y=\"115.92\"/>\r\n     <use style=\"fill:#1f77b4;stroke:#1f77b4;\" x=\"196.960037\" xlink:href=\"#mdd288db542\" y=\"115.92\"/>\r\n     <use style=\"fill:#1f77b4;stroke:#1f77b4;\" x=\"252.020795\" xlink:href=\"#mdd288db542\" y=\"115.92\"/>\r\n     <use style=\"fill:#1f77b4;stroke:#1f77b4;\" x=\"215.313623\" xlink:href=\"#mdd288db542\" y=\"115.92\"/>\r\n     <use style=\"fill:#1f77b4;stroke:#1f77b4;\" x=\"250.49133\" xlink:href=\"#mdd288db542\" y=\"115.92\"/>\r\n     <use style=\"fill:#1f77b4;stroke:#1f77b4;\" x=\"216.843088\" xlink:href=\"#mdd288db542\" y=\"115.92\"/>\r\n     <use style=\"fill:#1f77b4;stroke:#1f77b4;\" x=\"219.902019\" xlink:href=\"#mdd288db542\" y=\"115.92\"/>\r\n     <use style=\"fill:#1f77b4;stroke:#1f77b4;\" x=\"290.257433\" xlink:href=\"#mdd288db542\" y=\"115.92\"/>\r\n     <use style=\"fill:#1f77b4;stroke:#1f77b4;\" x=\"210.725226\" xlink:href=\"#mdd288db542\" y=\"115.92\"/>\r\n     <use style=\"fill:#1f77b4;stroke:#1f77b4;\" x=\"141.899278\" xlink:href=\"#mdd288db542\" y=\"115.92\"/>\r\n     <use style=\"fill:#1f77b4;stroke:#1f77b4;\" x=\"216.843088\" xlink:href=\"#mdd288db542\" y=\"115.92\"/>\r\n     <use style=\"fill:#1f77b4;stroke:#1f77b4;\" x=\"279.551174\" xlink:href=\"#mdd288db542\" y=\"115.92\"/>\r\n     <use style=\"fill:#1f77b4;stroke:#1f77b4;\" x=\"192.37164\" xlink:href=\"#mdd288db542\" y=\"115.92\"/>\r\n     <use style=\"fill:#1f77b4;stroke:#1f77b4;\" x=\"262.727054\" xlink:href=\"#mdd288db542\" y=\"115.92\"/>\r\n     <use style=\"fill:#1f77b4;stroke:#1f77b4;\" x=\"229.078812\" xlink:href=\"#mdd288db542\" y=\"115.92\"/>\r\n     <use style=\"fill:#1f77b4;stroke:#1f77b4;\" x=\"288.727967\" xlink:href=\"#mdd288db542\" y=\"115.92\"/>\r\n     <use style=\"fill:#1f77b4;stroke:#1f77b4;\" x=\"206.13683\" xlink:href=\"#mdd288db542\" y=\"115.92\"/>\r\n     <use style=\"fill:#1f77b4;stroke:#1f77b4;\" x=\"221.431485\" xlink:href=\"#mdd288db542\" y=\"115.92\"/>\r\n     <use style=\"fill:#1f77b4;stroke:#1f77b4;\" x=\"189.312709\" xlink:href=\"#mdd288db542\" y=\"115.92\"/>\r\n     <use style=\"fill:#1f77b4;stroke:#1f77b4;\" x=\"285.669036\" xlink:href=\"#mdd288db542\" y=\"115.92\"/>\r\n     <use style=\"fill:#1f77b4;stroke:#1f77b4;\" x=\"210.725226\" xlink:href=\"#mdd288db542\" y=\"115.92\"/>\r\n     <use style=\"fill:#1f77b4;stroke:#1f77b4;\" x=\"229.078812\" xlink:href=\"#mdd288db542\" y=\"115.92\"/>\r\n     <use style=\"fill:#1f77b4;stroke:#1f77b4;\" x=\"207.666295\" xlink:href=\"#mdd288db542\" y=\"115.92\"/>\r\n     <use style=\"fill:#1f77b4;stroke:#1f77b4;\" x=\"281.08064\" xlink:href=\"#mdd288db542\" y=\"115.92\"/>\r\n     <use style=\"fill:#1f77b4;stroke:#1f77b4;\" x=\"238.255605\" xlink:href=\"#mdd288db542\" y=\"115.92\"/>\r\n     <use style=\"fill:#1f77b4;stroke:#1f77b4;\" x=\"222.96095\" xlink:href=\"#mdd288db542\" y=\"115.92\"/>\r\n     <use style=\"fill:#1f77b4;stroke:#1f77b4;\" x=\"224.490416\" xlink:href=\"#mdd288db542\" y=\"115.92\"/>\r\n     <use style=\"fill:#1f77b4;stroke:#1f77b4;\" x=\"187.783244\" xlink:href=\"#mdd288db542\" y=\"115.92\"/>\r\n     <use style=\"fill:#1f77b4;stroke:#1f77b4;\" x=\"175.54752\" xlink:href=\"#mdd288db542\" y=\"115.92\"/>\r\n     <use style=\"fill:#1f77b4;stroke:#1f77b4;\" x=\"169.429658\" xlink:href=\"#mdd288db542\" y=\"115.92\"/>\r\n     <use style=\"fill:#1f77b4;stroke:#1f77b4;\" x=\"184.724313\" xlink:href=\"#mdd288db542\" y=\"115.92\"/>\r\n     <use style=\"fill:#1f77b4;stroke:#1f77b4;\" x=\"273.433312\" xlink:href=\"#mdd288db542\" y=\"115.92\"/>\r\n     <use style=\"fill:#1f77b4;stroke:#1f77b4;\" x=\"187.783244\" xlink:href=\"#mdd288db542\" y=\"115.92\"/>\r\n     <use style=\"fill:#1f77b4;stroke:#1f77b4;\" x=\"236.72614\" xlink:href=\"#mdd288db542\" y=\"115.92\"/>\r\n     <use style=\"fill:#1f77b4;stroke:#1f77b4;\" x=\"54.719744\" xlink:href=\"#mdd288db542\" y=\"115.92\"/>\r\n     <use style=\"fill:#1f77b4;stroke:#1f77b4;\" x=\"166.370727\" xlink:href=\"#mdd288db542\" y=\"115.92\"/>\r\n     <use style=\"fill:#1f77b4;stroke:#1f77b4;\" x=\"270.374381\" xlink:href=\"#mdd288db542\" y=\"115.92\"/>\r\n     <use style=\"fill:#1f77b4;stroke:#1f77b4;\" x=\"224.490416\" xlink:href=\"#mdd288db542\" y=\"115.92\"/>\r\n     <use style=\"fill:#1f77b4;stroke:#1f77b4;\" x=\"242.844002\" xlink:href=\"#mdd288db542\" y=\"115.92\"/>\r\n     <use style=\"fill:#1f77b4;stroke:#1f77b4;\" x=\"184.724313\" xlink:href=\"#mdd288db542\" y=\"115.92\"/>\r\n     <use style=\"fill:#1f77b4;stroke:#1f77b4;\" x=\"215.313623\" xlink:href=\"#mdd288db542\" y=\"115.92\"/>\r\n     <use style=\"fill:#1f77b4;stroke:#1f77b4;\" x=\"227.549347\" xlink:href=\"#mdd288db542\" y=\"115.92\"/>\r\n     <use style=\"fill:#1f77b4;stroke:#1f77b4;\" x=\"265.785985\" xlink:href=\"#mdd288db542\" y=\"115.92\"/>\r\n     <use style=\"fill:#1f77b4;stroke:#1f77b4;\" x=\"219.902019\" xlink:href=\"#mdd288db542\" y=\"115.92\"/>\r\n     <use style=\"fill:#1f77b4;stroke:#1f77b4;\" x=\"206.13683\" xlink:href=\"#mdd288db542\" y=\"115.92\"/>\r\n     <use style=\"fill:#1f77b4;stroke:#1f77b4;\" x=\"212.254692\" xlink:href=\"#mdd288db542\" y=\"115.92\"/>\r\n     <use style=\"fill:#1f77b4;stroke:#1f77b4;\" x=\"224.490416\" xlink:href=\"#mdd288db542\" y=\"115.92\"/>\r\n     <use style=\"fill:#1f77b4;stroke:#1f77b4;\" x=\"201.548433\" xlink:href=\"#mdd288db542\" y=\"115.92\"/>\r\n     <use style=\"fill:#1f77b4;stroke:#1f77b4;\" x=\"178.606451\" xlink:href=\"#mdd288db542\" y=\"115.92\"/>\r\n     <use style=\"fill:#1f77b4;stroke:#1f77b4;\" x=\"279.551174\" xlink:href=\"#mdd288db542\" y=\"115.92\"/>\r\n     <use style=\"fill:#1f77b4;stroke:#1f77b4;\" x=\"328.49407\" xlink:href=\"#mdd288db542\" y=\"115.92\"/>\r\n     <use style=\"fill:#1f77b4;stroke:#1f77b4;\" x=\"245.902933\" xlink:href=\"#mdd288db542\" y=\"115.92\"/>\r\n     <use style=\"fill:#1f77b4;stroke:#1f77b4;\" x=\"236.72614\" xlink:href=\"#mdd288db542\" y=\"115.92\"/>\r\n     <use style=\"fill:#1f77b4;stroke:#1f77b4;\" x=\"271.903847\" xlink:href=\"#mdd288db542\" y=\"115.92\"/>\r\n     <use style=\"fill:#1f77b4;stroke:#1f77b4;\" x=\"207.666295\" xlink:href=\"#mdd288db542\" y=\"115.92\"/>\r\n     <use style=\"fill:#1f77b4;stroke:#1f77b4;\" x=\"187.783244\" xlink:href=\"#mdd288db542\" y=\"115.92\"/>\r\n     <use style=\"fill:#1f77b4;stroke:#1f77b4;\" x=\"209.195761\" xlink:href=\"#mdd288db542\" y=\"115.92\"/>\r\n     <use style=\"fill:#1f77b4;stroke:#1f77b4;\" x=\"356.02445\" xlink:href=\"#mdd288db542\" y=\"115.92\"/>\r\n     <use style=\"fill:#1f77b4;stroke:#1f77b4;\" x=\"233.667209\" xlink:href=\"#mdd288db542\" y=\"115.92\"/>\r\n     <use style=\"fill:#1f77b4;stroke:#1f77b4;\" x=\"175.54752\" xlink:href=\"#mdd288db542\" y=\"115.92\"/>\r\n     <use style=\"fill:#1f77b4;stroke:#1f77b4;\" x=\"241.314536\" xlink:href=\"#mdd288db542\" y=\"115.92\"/>\r\n     <use style=\"fill:#1f77b4;stroke:#1f77b4;\" x=\"167.900192\" xlink:href=\"#mdd288db542\" y=\"115.92\"/>\r\n     <use style=\"fill:#1f77b4;stroke:#1f77b4;\" x=\"213.784157\" xlink:href=\"#mdd288db542\" y=\"115.92\"/>\r\n     <use style=\"fill:#1f77b4;stroke:#1f77b4;\" x=\"193.901106\" xlink:href=\"#mdd288db542\" y=\"115.92\"/>\r\n     <use style=\"fill:#1f77b4;stroke:#1f77b4;\" x=\"193.901106\" xlink:href=\"#mdd288db542\" y=\"115.92\"/>\r\n     <use style=\"fill:#1f77b4;stroke:#1f77b4;\" x=\"278.021709\" xlink:href=\"#mdd288db542\" y=\"115.92\"/>\r\n     <use style=\"fill:#1f77b4;stroke:#1f77b4;\" x=\"241.314536\" xlink:href=\"#mdd288db542\" y=\"115.92\"/>\r\n     <use style=\"fill:#1f77b4;stroke:#1f77b4;\" x=\"307.081553\" xlink:href=\"#mdd288db542\" y=\"115.92\"/>\r\n     <use style=\"fill:#1f77b4;stroke:#1f77b4;\" x=\"244.373467\" xlink:href=\"#mdd288db542\" y=\"115.92\"/>\r\n     <use style=\"fill:#1f77b4;stroke:#1f77b4;\" x=\"224.490416\" xlink:href=\"#mdd288db542\" y=\"115.92\"/>\r\n     <use style=\"fill:#1f77b4;stroke:#1f77b4;\" x=\"216.843088\" xlink:href=\"#mdd288db542\" y=\"115.92\"/>\r\n     <use style=\"fill:#1f77b4;stroke:#1f77b4;\" x=\"252.020795\" xlink:href=\"#mdd288db542\" y=\"115.92\"/>\r\n     <use style=\"fill:#1f77b4;stroke:#1f77b4;\" x=\"192.37164\" xlink:href=\"#mdd288db542\" y=\"115.92\"/>\r\n     <use style=\"fill:#1f77b4;stroke:#1f77b4;\" x=\"186.253778\" xlink:href=\"#mdd288db542\" y=\"115.92\"/>\r\n     <use style=\"fill:#1f77b4;stroke:#1f77b4;\" x=\"224.490416\" xlink:href=\"#mdd288db542\" y=\"115.92\"/>\r\n     <use style=\"fill:#1f77b4;stroke:#1f77b4;\" x=\"229.078812\" xlink:href=\"#mdd288db542\" y=\"115.92\"/>\r\n     <use style=\"fill:#1f77b4;stroke:#1f77b4;\" x=\"349.906588\" xlink:href=\"#mdd288db542\" y=\"115.92\"/>\r\n     <use style=\"fill:#1f77b4;stroke:#1f77b4;\" x=\"346.847657\" xlink:href=\"#mdd288db542\" y=\"115.92\"/>\r\n     <use style=\"fill:#1f77b4;stroke:#1f77b4;\" x=\"200.018968\" xlink:href=\"#mdd288db542\" y=\"115.92\"/>\r\n     <use style=\"fill:#1f77b4;stroke:#1f77b4;\" x=\"271.903847\" xlink:href=\"#mdd288db542\" y=\"115.92\"/>\r\n     <use style=\"fill:#1f77b4;stroke:#1f77b4;\" x=\"201.548433\" xlink:href=\"#mdd288db542\" y=\"115.92\"/>\r\n     <use style=\"fill:#1f77b4;stroke:#1f77b4;\" x=\"250.49133\" xlink:href=\"#mdd288db542\" y=\"115.92\"/>\r\n     <use style=\"fill:#1f77b4;stroke:#1f77b4;\" x=\"210.725226\" xlink:href=\"#mdd288db542\" y=\"115.92\"/>\r\n     <use style=\"fill:#1f77b4;stroke:#1f77b4;\" x=\"219.902019\" xlink:href=\"#mdd288db542\" y=\"115.92\"/>\r\n     <use style=\"fill:#1f77b4;stroke:#1f77b4;\" x=\"241.314536\" xlink:href=\"#mdd288db542\" y=\"115.92\"/>\r\n     <use style=\"fill:#1f77b4;stroke:#1f77b4;\" x=\"163.311795\" xlink:href=\"#mdd288db542\" y=\"115.92\"/>\r\n     <use style=\"fill:#1f77b4;stroke:#1f77b4;\" x=\"216.843088\" xlink:href=\"#mdd288db542\" y=\"115.92\"/>\r\n     <use style=\"fill:#1f77b4;stroke:#1f77b4;\" x=\"207.666295\" xlink:href=\"#mdd288db542\" y=\"115.92\"/>\r\n     <use style=\"fill:#1f77b4;stroke:#1f77b4;\" x=\"213.784157\" xlink:href=\"#mdd288db542\" y=\"115.92\"/>\r\n     <use style=\"fill:#1f77b4;stroke:#1f77b4;\" x=\"229.078812\" xlink:href=\"#mdd288db542\" y=\"115.92\"/>\r\n     <use style=\"fill:#1f77b4;stroke:#1f77b4;\" x=\"219.902019\" xlink:href=\"#mdd288db542\" y=\"115.92\"/>\r\n     <use style=\"fill:#1f77b4;stroke:#1f77b4;\" x=\"252.020795\" xlink:href=\"#mdd288db542\" y=\"115.92\"/>\r\n     <use style=\"fill:#1f77b4;stroke:#1f77b4;\" x=\"258.138657\" xlink:href=\"#mdd288db542\" y=\"115.92\"/>\r\n     <use style=\"fill:#1f77b4;stroke:#1f77b4;\" x=\"262.727054\" xlink:href=\"#mdd288db542\" y=\"115.92\"/>\r\n     <use style=\"fill:#1f77b4;stroke:#1f77b4;\" x=\"291.786898\" xlink:href=\"#mdd288db542\" y=\"115.92\"/>\r\n     <use style=\"fill:#1f77b4;stroke:#1f77b4;\" x=\"201.548433\" xlink:href=\"#mdd288db542\" y=\"115.92\"/>\r\n     <use style=\"fill:#1f77b4;stroke:#1f77b4;\" x=\"219.902019\" xlink:href=\"#mdd288db542\" y=\"115.92\"/>\r\n     <use style=\"fill:#1f77b4;stroke:#1f77b4;\" x=\"174.018054\" xlink:href=\"#mdd288db542\" y=\"115.92\"/>\r\n     <use style=\"fill:#1f77b4;stroke:#1f77b4;\" x=\"300.963691\" xlink:href=\"#mdd288db542\" y=\"115.92\"/>\r\n     <use style=\"fill:#1f77b4;stroke:#1f77b4;\" x=\"285.669036\" xlink:href=\"#mdd288db542\" y=\"115.92\"/>\r\n     <use style=\"fill:#1f77b4;stroke:#1f77b4;\" x=\"247.432398\" xlink:href=\"#mdd288db542\" y=\"115.92\"/>\r\n     <use style=\"fill:#1f77b4;stroke:#1f77b4;\" x=\"226.019881\" xlink:href=\"#mdd288db542\" y=\"115.92\"/>\r\n     <use style=\"fill:#1f77b4;stroke:#1f77b4;\" x=\"172.488589\" xlink:href=\"#mdd288db542\" y=\"115.92\"/>\r\n     <use style=\"fill:#1f77b4;stroke:#1f77b4;\" x=\"284.139571\" xlink:href=\"#mdd288db542\" y=\"115.92\"/>\r\n     <use style=\"fill:#1f77b4;stroke:#1f77b4;\" x=\"238.255605\" xlink:href=\"#mdd288db542\" y=\"115.92\"/>\r\n     <use style=\"fill:#1f77b4;stroke:#1f77b4;\" x=\"264.256519\" xlink:href=\"#mdd288db542\" y=\"115.92\"/>\r\n     <use style=\"fill:#1f77b4;stroke:#1f77b4;\" x=\"177.076985\" xlink:href=\"#mdd288db542\" y=\"115.92\"/>\r\n     <use style=\"fill:#1f77b4;stroke:#1f77b4;\" x=\"216.843088\" xlink:href=\"#mdd288db542\" y=\"115.92\"/>\r\n     <use style=\"fill:#1f77b4;stroke:#1f77b4;\" x=\"227.549347\" xlink:href=\"#mdd288db542\" y=\"115.92\"/>\r\n     <use style=\"fill:#1f77b4;stroke:#1f77b4;\" x=\"226.019881\" xlink:href=\"#mdd288db542\" y=\"115.92\"/>\r\n     <use style=\"fill:#1f77b4;stroke:#1f77b4;\" x=\"206.13683\" xlink:href=\"#mdd288db542\" y=\"115.92\"/>\r\n     <use style=\"fill:#1f77b4;stroke:#1f77b4;\" x=\"230.608278\" xlink:href=\"#mdd288db542\" y=\"115.92\"/>\r\n     <use style=\"fill:#1f77b4;stroke:#1f77b4;\" x=\"252.020795\" xlink:href=\"#mdd288db542\" y=\"115.92\"/>\r\n     <use style=\"fill:#1f77b4;stroke:#1f77b4;\" x=\"226.019881\" xlink:href=\"#mdd288db542\" y=\"115.92\"/>\r\n     <use style=\"fill:#1f77b4;stroke:#1f77b4;\" x=\"294.845829\" xlink:href=\"#mdd288db542\" y=\"115.92\"/>\r\n     <use style=\"fill:#1f77b4;stroke:#1f77b4;\" x=\"328.49407\" xlink:href=\"#mdd288db542\" y=\"115.92\"/>\r\n     <use style=\"fill:#1f77b4;stroke:#1f77b4;\" x=\"215.313623\" xlink:href=\"#mdd288db542\" y=\"115.92\"/>\r\n     <use style=\"fill:#1f77b4;stroke:#1f77b4;\" x=\"235.196674\" xlink:href=\"#mdd288db542\" y=\"115.92\"/>\r\n     <use style=\"fill:#1f77b4;stroke:#1f77b4;\" x=\"187.783244\" xlink:href=\"#mdd288db542\" y=\"115.92\"/>\r\n     <use style=\"fill:#1f77b4;stroke:#1f77b4;\" x=\"216.843088\" xlink:href=\"#mdd288db542\" y=\"115.92\"/>\r\n     <use style=\"fill:#1f77b4;stroke:#1f77b4;\" x=\"200.018968\" xlink:href=\"#mdd288db542\" y=\"115.92\"/>\r\n     <use style=\"fill:#1f77b4;stroke:#1f77b4;\" x=\"307.081553\" xlink:href=\"#mdd288db542\" y=\"115.92\"/>\r\n     <use style=\"fill:#1f77b4;stroke:#1f77b4;\" x=\"233.667209\" xlink:href=\"#mdd288db542\" y=\"115.92\"/>\r\n     <use style=\"fill:#1f77b4;stroke:#1f77b4;\" x=\"253.550261\" xlink:href=\"#mdd288db542\" y=\"115.92\"/>\r\n     <use style=\"fill:#1f77b4;stroke:#1f77b4;\" x=\"200.018968\" xlink:href=\"#mdd288db542\" y=\"115.92\"/>\r\n     <use style=\"fill:#1f77b4;stroke:#1f77b4;\" x=\"54.719744\" xlink:href=\"#mdd288db542\" y=\"115.92\"/>\r\n     <use style=\"fill:#1f77b4;stroke:#1f77b4;\" x=\"241.314536\" xlink:href=\"#mdd288db542\" y=\"115.92\"/>\r\n     <use style=\"fill:#1f77b4;stroke:#1f77b4;\" x=\"200.018968\" xlink:href=\"#mdd288db542\" y=\"115.92\"/>\r\n     <use style=\"fill:#1f77b4;stroke:#1f77b4;\" x=\"247.432398\" xlink:href=\"#mdd288db542\" y=\"115.92\"/>\r\n     <use style=\"fill:#1f77b4;stroke:#1f77b4;\" x=\"267.31545\" xlink:href=\"#mdd288db542\" y=\"115.92\"/>\r\n     <use style=\"fill:#1f77b4;stroke:#1f77b4;\" x=\"232.137743\" xlink:href=\"#mdd288db542\" y=\"115.92\"/>\r\n     <use style=\"fill:#1f77b4;stroke:#1f77b4;\" x=\"206.13683\" xlink:href=\"#mdd288db542\" y=\"115.92\"/>\r\n     <use style=\"fill:#1f77b4;stroke:#1f77b4;\" x=\"195.430571\" xlink:href=\"#mdd288db542\" y=\"115.92\"/>\r\n     <use style=\"fill:#1f77b4;stroke:#1f77b4;\" x=\"264.256519\" xlink:href=\"#mdd288db542\" y=\"115.92\"/>\r\n     <use style=\"fill:#1f77b4;stroke:#1f77b4;\" x=\"148.01714\" xlink:href=\"#mdd288db542\" y=\"115.92\"/>\r\n     <use style=\"fill:#1f77b4;stroke:#1f77b4;\" x=\"192.37164\" xlink:href=\"#mdd288db542\" y=\"115.92\"/>\r\n     <use style=\"fill:#1f77b4;stroke:#1f77b4;\" x=\"192.37164\" xlink:href=\"#mdd288db542\" y=\"115.92\"/>\r\n     <use style=\"fill:#1f77b4;stroke:#1f77b4;\" x=\"189.312709\" xlink:href=\"#mdd288db542\" y=\"115.92\"/>\r\n     <use style=\"fill:#1f77b4;stroke:#1f77b4;\" x=\"296.375295\" xlink:href=\"#mdd288db542\" y=\"115.92\"/>\r\n     <use style=\"fill:#1f77b4;stroke:#1f77b4;\" x=\"212.254692\" xlink:href=\"#mdd288db542\" y=\"115.92\"/>\r\n     <use style=\"fill:#1f77b4;stroke:#1f77b4;\" x=\"279.551174\" xlink:href=\"#mdd288db542\" y=\"115.92\"/>\r\n     <use style=\"fill:#1f77b4;stroke:#1f77b4;\" x=\"206.13683\" xlink:href=\"#mdd288db542\" y=\"115.92\"/>\r\n     <use style=\"fill:#1f77b4;stroke:#1f77b4;\" x=\"209.195761\" xlink:href=\"#mdd288db542\" y=\"115.92\"/>\r\n     <use style=\"fill:#1f77b4;stroke:#1f77b4;\" x=\"178.606451\" xlink:href=\"#mdd288db542\" y=\"115.92\"/>\r\n     <use style=\"fill:#1f77b4;stroke:#1f77b4;\" x=\"235.196674\" xlink:href=\"#mdd288db542\" y=\"115.92\"/>\r\n     <use style=\"fill:#1f77b4;stroke:#1f77b4;\" x=\"183.194847\" xlink:href=\"#mdd288db542\" y=\"115.92\"/>\r\n     <use style=\"fill:#1f77b4;stroke:#1f77b4;\" x=\"215.313623\" xlink:href=\"#mdd288db542\" y=\"115.92\"/>\r\n     <use style=\"fill:#1f77b4;stroke:#1f77b4;\" x=\"241.314536\" xlink:href=\"#mdd288db542\" y=\"115.92\"/>\r\n     <use style=\"fill:#1f77b4;stroke:#1f77b4;\" x=\"204.607364\" xlink:href=\"#mdd288db542\" y=\"115.92\"/>\r\n     <use style=\"fill:#1f77b4;stroke:#1f77b4;\" x=\"187.783244\" xlink:href=\"#mdd288db542\" y=\"115.92\"/>\r\n     <use style=\"fill:#1f77b4;stroke:#1f77b4;\" x=\"196.960037\" xlink:href=\"#mdd288db542\" y=\"115.92\"/>\r\n     <use style=\"fill:#1f77b4;stroke:#1f77b4;\" x=\"218.372554\" xlink:href=\"#mdd288db542\" y=\"115.92\"/>\r\n     <use style=\"fill:#1f77b4;stroke:#1f77b4;\" x=\"215.313623\" xlink:href=\"#mdd288db542\" y=\"115.92\"/>\r\n     <use style=\"fill:#1f77b4;stroke:#1f77b4;\" x=\"221.431485\" xlink:href=\"#mdd288db542\" y=\"115.92\"/>\r\n     <use style=\"fill:#1f77b4;stroke:#1f77b4;\" x=\"192.37164\" xlink:href=\"#mdd288db542\" y=\"115.92\"/>\r\n     <use style=\"fill:#1f77b4;stroke:#1f77b4;\" x=\"245.902933\" xlink:href=\"#mdd288db542\" y=\"115.92\"/>\r\n     <use style=\"fill:#1f77b4;stroke:#1f77b4;\" x=\"236.72614\" xlink:href=\"#mdd288db542\" y=\"115.92\"/>\r\n     <use style=\"fill:#1f77b4;stroke:#1f77b4;\" x=\"207.666295\" xlink:href=\"#mdd288db542\" y=\"115.92\"/>\r\n     <use style=\"fill:#1f77b4;stroke:#1f77b4;\" x=\"207.666295\" xlink:href=\"#mdd288db542\" y=\"115.92\"/>\r\n     <use style=\"fill:#1f77b4;stroke:#1f77b4;\" x=\"255.079726\" xlink:href=\"#mdd288db542\" y=\"115.92\"/>\r\n     <use style=\"fill:#1f77b4;stroke:#1f77b4;\" x=\"232.137743\" xlink:href=\"#mdd288db542\" y=\"115.92\"/>\r\n     <use style=\"fill:#1f77b4;stroke:#1f77b4;\" x=\"248.961864\" xlink:href=\"#mdd288db542\" y=\"115.92\"/>\r\n     <use style=\"fill:#1f77b4;stroke:#1f77b4;\" x=\"201.548433\" xlink:href=\"#mdd288db542\" y=\"115.92\"/>\r\n     <use style=\"fill:#1f77b4;stroke:#1f77b4;\" x=\"180.135916\" xlink:href=\"#mdd288db542\" y=\"115.92\"/>\r\n     <use style=\"fill:#1f77b4;stroke:#1f77b4;\" x=\"264.256519\" xlink:href=\"#mdd288db542\" y=\"115.92\"/>\r\n     <use style=\"fill:#1f77b4;stroke:#1f77b4;\" x=\"164.841261\" xlink:href=\"#mdd288db542\" y=\"115.92\"/>\r\n     <use style=\"fill:#1f77b4;stroke:#1f77b4;\" x=\"242.844002\" xlink:href=\"#mdd288db542\" y=\"115.92\"/>\r\n     <use style=\"fill:#1f77b4;stroke:#1f77b4;\" x=\"209.195761\" xlink:href=\"#mdd288db542\" y=\"115.92\"/>\r\n     <use style=\"fill:#1f77b4;stroke:#1f77b4;\" x=\"210.725226\" xlink:href=\"#mdd288db542\" y=\"115.92\"/>\r\n     <use style=\"fill:#1f77b4;stroke:#1f77b4;\" x=\"226.019881\" xlink:href=\"#mdd288db542\" y=\"115.92\"/>\r\n     <use style=\"fill:#1f77b4;stroke:#1f77b4;\" x=\"273.433312\" xlink:href=\"#mdd288db542\" y=\"115.92\"/>\r\n     <use style=\"fill:#1f77b4;stroke:#1f77b4;\" x=\"273.433312\" xlink:href=\"#mdd288db542\" y=\"115.92\"/>\r\n     <use style=\"fill:#1f77b4;stroke:#1f77b4;\" x=\"203.077899\" xlink:href=\"#mdd288db542\" y=\"115.92\"/>\r\n     <use style=\"fill:#1f77b4;stroke:#1f77b4;\" x=\"181.665382\" xlink:href=\"#mdd288db542\" y=\"115.92\"/>\r\n     <use style=\"fill:#1f77b4;stroke:#1f77b4;\" x=\"236.72614\" xlink:href=\"#mdd288db542\" y=\"115.92\"/>\r\n     <use style=\"fill:#1f77b4;stroke:#1f77b4;\" x=\"198.489502\" xlink:href=\"#mdd288db542\" y=\"115.92\"/>\r\n     <use style=\"fill:#1f77b4;stroke:#1f77b4;\" x=\"210.725226\" xlink:href=\"#mdd288db542\" y=\"115.92\"/>\r\n     <use style=\"fill:#1f77b4;stroke:#1f77b4;\" x=\"230.608278\" xlink:href=\"#mdd288db542\" y=\"115.92\"/>\r\n     <use style=\"fill:#1f77b4;stroke:#1f77b4;\" x=\"198.489502\" xlink:href=\"#mdd288db542\" y=\"115.92\"/>\r\n     <use style=\"fill:#1f77b4;stroke:#1f77b4;\" x=\"261.197588\" xlink:href=\"#mdd288db542\" y=\"115.92\"/>\r\n     <use style=\"fill:#1f77b4;stroke:#1f77b4;\" x=\"206.13683\" xlink:href=\"#mdd288db542\" y=\"115.92\"/>\r\n     <use style=\"fill:#1f77b4;stroke:#1f77b4;\" x=\"190.842175\" xlink:href=\"#mdd288db542\" y=\"115.92\"/>\r\n     <use style=\"fill:#1f77b4;stroke:#1f77b4;\" x=\"177.076985\" xlink:href=\"#mdd288db542\" y=\"115.92\"/>\r\n     <use style=\"fill:#1f77b4;stroke:#1f77b4;\" x=\"267.31545\" xlink:href=\"#mdd288db542\" y=\"115.92\"/>\r\n     <use style=\"fill:#1f77b4;stroke:#1f77b4;\" x=\"192.37164\" xlink:href=\"#mdd288db542\" y=\"115.92\"/>\r\n     <use style=\"fill:#1f77b4;stroke:#1f77b4;\" x=\"268.844916\" xlink:href=\"#mdd288db542\" y=\"115.92\"/>\r\n     <use style=\"fill:#1f77b4;stroke:#1f77b4;\" x=\"279.551174\" xlink:href=\"#mdd288db542\" y=\"115.92\"/>\r\n     <use style=\"fill:#1f77b4;stroke:#1f77b4;\" x=\"203.077899\" xlink:href=\"#mdd288db542\" y=\"115.92\"/>\r\n     <use style=\"fill:#1f77b4;stroke:#1f77b4;\" x=\"218.372554\" xlink:href=\"#mdd288db542\" y=\"115.92\"/>\r\n     <use style=\"fill:#1f77b4;stroke:#1f77b4;\" x=\"181.665382\" xlink:href=\"#mdd288db542\" y=\"115.92\"/>\r\n     <use style=\"fill:#1f77b4;stroke:#1f77b4;\" x=\"233.667209\" xlink:href=\"#mdd288db542\" y=\"115.92\"/>\r\n     <use style=\"fill:#1f77b4;stroke:#1f77b4;\" x=\"207.666295\" xlink:href=\"#mdd288db542\" y=\"115.92\"/>\r\n     <use style=\"fill:#1f77b4;stroke:#1f77b4;\" x=\"200.018968\" xlink:href=\"#mdd288db542\" y=\"115.92\"/>\r\n     <use style=\"fill:#1f77b4;stroke:#1f77b4;\" x=\"238.255605\" xlink:href=\"#mdd288db542\" y=\"115.92\"/>\r\n     <use style=\"fill:#1f77b4;stroke:#1f77b4;\" x=\"180.135916\" xlink:href=\"#mdd288db542\" y=\"115.92\"/>\r\n     <use style=\"fill:#1f77b4;stroke:#1f77b4;\" x=\"193.901106\" xlink:href=\"#mdd288db542\" y=\"115.92\"/>\r\n     <use style=\"fill:#1f77b4;stroke:#1f77b4;\" x=\"236.72614\" xlink:href=\"#mdd288db542\" y=\"115.92\"/>\r\n     <use style=\"fill:#1f77b4;stroke:#1f77b4;\" x=\"207.666295\" xlink:href=\"#mdd288db542\" y=\"115.92\"/>\r\n     <use style=\"fill:#1f77b4;stroke:#1f77b4;\" x=\"261.197588\" xlink:href=\"#mdd288db542\" y=\"115.92\"/>\r\n     <use style=\"fill:#1f77b4;stroke:#1f77b4;\" x=\"186.253778\" xlink:href=\"#mdd288db542\" y=\"115.92\"/>\r\n     <use style=\"fill:#1f77b4;stroke:#1f77b4;\" x=\"259.668123\" xlink:href=\"#mdd288db542\" y=\"115.92\"/>\r\n     <use style=\"fill:#1f77b4;stroke:#1f77b4;\" x=\"238.255605\" xlink:href=\"#mdd288db542\" y=\"115.92\"/>\r\n     <use style=\"fill:#1f77b4;stroke:#1f77b4;\" x=\"163.311795\" xlink:href=\"#mdd288db542\" y=\"115.92\"/>\r\n     <use style=\"fill:#1f77b4;stroke:#1f77b4;\" x=\"167.900192\" xlink:href=\"#mdd288db542\" y=\"115.92\"/>\r\n     <use style=\"fill:#1f77b4;stroke:#1f77b4;\" x=\"189.312709\" xlink:href=\"#mdd288db542\" y=\"115.92\"/>\r\n     <use style=\"fill:#1f77b4;stroke:#1f77b4;\" x=\"230.608278\" xlink:href=\"#mdd288db542\" y=\"115.92\"/>\r\n     <use style=\"fill:#1f77b4;stroke:#1f77b4;\" x=\"244.373467\" xlink:href=\"#mdd288db542\" y=\"115.92\"/>\r\n     <use style=\"fill:#1f77b4;stroke:#1f77b4;\" x=\"167.900192\" xlink:href=\"#mdd288db542\" y=\"115.92\"/>\r\n     <use style=\"fill:#1f77b4;stroke:#1f77b4;\" x=\"203.077899\" xlink:href=\"#mdd288db542\" y=\"115.92\"/>\r\n     <use style=\"fill:#1f77b4;stroke:#1f77b4;\" x=\"290.257433\" xlink:href=\"#mdd288db542\" y=\"115.92\"/>\r\n     <use style=\"fill:#1f77b4;stroke:#1f77b4;\" x=\"274.962778\" xlink:href=\"#mdd288db542\" y=\"115.92\"/>\r\n     <use style=\"fill:#1f77b4;stroke:#1f77b4;\" x=\"264.256519\" xlink:href=\"#mdd288db542\" y=\"115.92\"/>\r\n     <use style=\"fill:#1f77b4;stroke:#1f77b4;\" x=\"236.72614\" xlink:href=\"#mdd288db542\" y=\"115.92\"/>\r\n     <use style=\"fill:#1f77b4;stroke:#1f77b4;\" x=\"262.727054\" xlink:href=\"#mdd288db542\" y=\"115.92\"/>\r\n     <use style=\"fill:#1f77b4;stroke:#1f77b4;\" x=\"229.078812\" xlink:href=\"#mdd288db542\" y=\"115.92\"/>\r\n     <use style=\"fill:#1f77b4;stroke:#1f77b4;\" x=\"264.256519\" xlink:href=\"#mdd288db542\" y=\"115.92\"/>\r\n     <use style=\"fill:#1f77b4;stroke:#1f77b4;\" x=\"229.078812\" xlink:href=\"#mdd288db542\" y=\"115.92\"/>\r\n     <use style=\"fill:#1f77b4;stroke:#1f77b4;\" x=\"247.432398\" xlink:href=\"#mdd288db542\" y=\"115.92\"/>\r\n     <use style=\"fill:#1f77b4;stroke:#1f77b4;\" x=\"256.609192\" xlink:href=\"#mdd288db542\" y=\"115.92\"/>\r\n     <use style=\"fill:#1f77b4;stroke:#1f77b4;\" x=\"242.844002\" xlink:href=\"#mdd288db542\" y=\"115.92\"/>\r\n     <use style=\"fill:#1f77b4;stroke:#1f77b4;\" x=\"184.724313\" xlink:href=\"#mdd288db542\" y=\"115.92\"/>\r\n     <use style=\"fill:#1f77b4;stroke:#1f77b4;\" x=\"183.194847\" xlink:href=\"#mdd288db542\" y=\"115.92\"/>\r\n     <use style=\"fill:#1f77b4;stroke:#1f77b4;\" x=\"267.31545\" xlink:href=\"#mdd288db542\" y=\"115.92\"/>\r\n     <use style=\"fill:#1f77b4;stroke:#1f77b4;\" x=\"319.317277\" xlink:href=\"#mdd288db542\" y=\"115.92\"/>\r\n     <use style=\"fill:#1f77b4;stroke:#1f77b4;\" x=\"206.13683\" xlink:href=\"#mdd288db542\" y=\"115.92\"/>\r\n     <use style=\"fill:#1f77b4;stroke:#1f77b4;\" x=\"351.436053\" xlink:href=\"#mdd288db542\" y=\"115.92\"/>\r\n     <use style=\"fill:#1f77b4;stroke:#1f77b4;\" x=\"181.665382\" xlink:href=\"#mdd288db542\" y=\"115.92\"/>\r\n     <use style=\"fill:#1f77b4;stroke:#1f77b4;\" x=\"190.842175\" xlink:href=\"#mdd288db542\" y=\"115.92\"/>\r\n     <use style=\"fill:#1f77b4;stroke:#1f77b4;\" x=\"206.13683\" xlink:href=\"#mdd288db542\" y=\"115.92\"/>\r\n     <use style=\"fill:#1f77b4;stroke:#1f77b4;\" x=\"177.076985\" xlink:href=\"#mdd288db542\" y=\"115.92\"/>\r\n     <use style=\"fill:#1f77b4;stroke:#1f77b4;\" x=\"308.611019\" xlink:href=\"#mdd288db542\" y=\"115.92\"/>\r\n     <use style=\"fill:#1f77b4;stroke:#1f77b4;\" x=\"222.96095\" xlink:href=\"#mdd288db542\" y=\"115.92\"/>\r\n     <use style=\"fill:#1f77b4;stroke:#1f77b4;\" x=\"178.606451\" xlink:href=\"#mdd288db542\" y=\"115.92\"/>\r\n     <use style=\"fill:#1f77b4;stroke:#1f77b4;\" x=\"290.257433\" xlink:href=\"#mdd288db542\" y=\"115.92\"/>\r\n     <use style=\"fill:#1f77b4;stroke:#1f77b4;\" x=\"233.667209\" xlink:href=\"#mdd288db542\" y=\"115.92\"/>\r\n     <use style=\"fill:#1f77b4;stroke:#1f77b4;\" x=\"183.194847\" xlink:href=\"#mdd288db542\" y=\"115.92\"/>\r\n     <use style=\"fill:#1f77b4;stroke:#1f77b4;\" x=\"198.489502\" xlink:href=\"#mdd288db542\" y=\"115.92\"/>\r\n     <use style=\"fill:#1f77b4;stroke:#1f77b4;\" x=\"201.548433\" xlink:href=\"#mdd288db542\" y=\"115.92\"/>\r\n     <use style=\"fill:#1f77b4;stroke:#1f77b4;\" x=\"169.429658\" xlink:href=\"#mdd288db542\" y=\"115.92\"/>\r\n     <use style=\"fill:#1f77b4;stroke:#1f77b4;\" x=\"253.550261\" xlink:href=\"#mdd288db542\" y=\"115.92\"/>\r\n     <use style=\"fill:#1f77b4;stroke:#1f77b4;\" x=\"183.194847\" xlink:href=\"#mdd288db542\" y=\"115.92\"/>\r\n     <use style=\"fill:#1f77b4;stroke:#1f77b4;\" x=\"238.255605\" xlink:href=\"#mdd288db542\" y=\"115.92\"/>\r\n     <use style=\"fill:#1f77b4;stroke:#1f77b4;\" x=\"267.31545\" xlink:href=\"#mdd288db542\" y=\"115.92\"/>\r\n     <use style=\"fill:#1f77b4;stroke:#1f77b4;\" x=\"193.901106\" xlink:href=\"#mdd288db542\" y=\"115.92\"/>\r\n     <use style=\"fill:#1f77b4;stroke:#1f77b4;\" x=\"193.901106\" xlink:href=\"#mdd288db542\" y=\"115.92\"/>\r\n     <use style=\"fill:#1f77b4;stroke:#1f77b4;\" x=\"206.13683\" xlink:href=\"#mdd288db542\" y=\"115.92\"/>\r\n     <use style=\"fill:#1f77b4;stroke:#1f77b4;\" x=\"245.902933\" xlink:href=\"#mdd288db542\" y=\"115.92\"/>\r\n     <use style=\"fill:#1f77b4;stroke:#1f77b4;\" x=\"170.959123\" xlink:href=\"#mdd288db542\" y=\"115.92\"/>\r\n     <use style=\"fill:#1f77b4;stroke:#1f77b4;\" x=\"252.020795\" xlink:href=\"#mdd288db542\" y=\"115.92\"/>\r\n     <use style=\"fill:#1f77b4;stroke:#1f77b4;\" x=\"158.723399\" xlink:href=\"#mdd288db542\" y=\"115.92\"/>\r\n     <use style=\"fill:#1f77b4;stroke:#1f77b4;\" x=\"244.373467\" xlink:href=\"#mdd288db542\" y=\"115.92\"/>\r\n     <use style=\"fill:#1f77b4;stroke:#1f77b4;\" x=\"229.078812\" xlink:href=\"#mdd288db542\" y=\"115.92\"/>\r\n     <use style=\"fill:#1f77b4;stroke:#1f77b4;\" x=\"245.902933\" xlink:href=\"#mdd288db542\" y=\"115.92\"/>\r\n     <use style=\"fill:#1f77b4;stroke:#1f77b4;\" x=\"187.783244\" xlink:href=\"#mdd288db542\" y=\"115.92\"/>\r\n     <use style=\"fill:#1f77b4;stroke:#1f77b4;\" x=\"203.077899\" xlink:href=\"#mdd288db542\" y=\"115.92\"/>\r\n     <use style=\"fill:#1f77b4;stroke:#1f77b4;\" x=\"232.137743\" xlink:href=\"#mdd288db542\" y=\"115.92\"/>\r\n     <use style=\"fill:#1f77b4;stroke:#1f77b4;\" x=\"233.667209\" xlink:href=\"#mdd288db542\" y=\"115.92\"/>\r\n     <use style=\"fill:#1f77b4;stroke:#1f77b4;\" x=\"224.490416\" xlink:href=\"#mdd288db542\" y=\"115.92\"/>\r\n     <use style=\"fill:#1f77b4;stroke:#1f77b4;\" x=\"241.314536\" xlink:href=\"#mdd288db542\" y=\"115.92\"/>\r\n     <use style=\"fill:#1f77b4;stroke:#1f77b4;\" x=\"218.372554\" xlink:href=\"#mdd288db542\" y=\"115.92\"/>\r\n     <use style=\"fill:#1f77b4;stroke:#1f77b4;\" x=\"186.253778\" xlink:href=\"#mdd288db542\" y=\"115.92\"/>\r\n     <use style=\"fill:#1f77b4;stroke:#1f77b4;\" x=\"193.901106\" xlink:href=\"#mdd288db542\" y=\"115.92\"/>\r\n     <use style=\"fill:#1f77b4;stroke:#1f77b4;\" x=\"172.488589\" xlink:href=\"#mdd288db542\" y=\"115.92\"/>\r\n     <use style=\"fill:#1f77b4;stroke:#1f77b4;\" x=\"215.313623\" xlink:href=\"#mdd288db542\" y=\"115.92\"/>\r\n     <use style=\"fill:#1f77b4;stroke:#1f77b4;\" x=\"141.899278\" xlink:href=\"#mdd288db542\" y=\"115.92\"/>\r\n     <use style=\"fill:#1f77b4;stroke:#1f77b4;\" x=\"248.961864\" xlink:href=\"#mdd288db542\" y=\"115.92\"/>\r\n     <use style=\"fill:#1f77b4;stroke:#1f77b4;\" x=\"183.194847\" xlink:href=\"#mdd288db542\" y=\"115.92\"/>\r\n     <use style=\"fill:#1f77b4;stroke:#1f77b4;\" x=\"189.312709\" xlink:href=\"#mdd288db542\" y=\"115.92\"/>\r\n     <use style=\"fill:#1f77b4;stroke:#1f77b4;\" x=\"255.079726\" xlink:href=\"#mdd288db542\" y=\"115.92\"/>\r\n     <use style=\"fill:#1f77b4;stroke:#1f77b4;\" x=\"305.552088\" xlink:href=\"#mdd288db542\" y=\"115.92\"/>\r\n     <use style=\"fill:#1f77b4;stroke:#1f77b4;\" x=\"343.788726\" xlink:href=\"#mdd288db542\" y=\"115.92\"/>\r\n     <use style=\"fill:#1f77b4;stroke:#1f77b4;\" x=\"232.137743\" xlink:href=\"#mdd288db542\" y=\"115.92\"/>\r\n     <use style=\"fill:#1f77b4;stroke:#1f77b4;\" x=\"183.194847\" xlink:href=\"#mdd288db542\" y=\"115.92\"/>\r\n     <use style=\"fill:#1f77b4;stroke:#1f77b4;\" x=\"229.078812\" xlink:href=\"#mdd288db542\" y=\"115.92\"/>\r\n     <use style=\"fill:#1f77b4;stroke:#1f77b4;\" x=\"189.312709\" xlink:href=\"#mdd288db542\" y=\"115.92\"/>\r\n     <use style=\"fill:#1f77b4;stroke:#1f77b4;\" x=\"183.194847\" xlink:href=\"#mdd288db542\" y=\"115.92\"/>\r\n     <use style=\"fill:#1f77b4;stroke:#1f77b4;\" x=\"244.373467\" xlink:href=\"#mdd288db542\" y=\"115.92\"/>\r\n     <use style=\"fill:#1f77b4;stroke:#1f77b4;\" x=\"203.077899\" xlink:href=\"#mdd288db542\" y=\"115.92\"/>\r\n     <use style=\"fill:#1f77b4;stroke:#1f77b4;\" x=\"222.96095\" xlink:href=\"#mdd288db542\" y=\"115.92\"/>\r\n     <use style=\"fill:#1f77b4;stroke:#1f77b4;\" x=\"212.254692\" xlink:href=\"#mdd288db542\" y=\"115.92\"/>\r\n     <use style=\"fill:#1f77b4;stroke:#1f77b4;\" x=\"184.724313\" xlink:href=\"#mdd288db542\" y=\"115.92\"/>\r\n     <use style=\"fill:#1f77b4;stroke:#1f77b4;\" x=\"187.783244\" xlink:href=\"#mdd288db542\" y=\"115.92\"/>\r\n     <use style=\"fill:#1f77b4;stroke:#1f77b4;\" x=\"206.13683\" xlink:href=\"#mdd288db542\" y=\"115.92\"/>\r\n     <use style=\"fill:#1f77b4;stroke:#1f77b4;\" x=\"193.901106\" xlink:href=\"#mdd288db542\" y=\"115.92\"/>\r\n     <use style=\"fill:#1f77b4;stroke:#1f77b4;\" x=\"200.018968\" xlink:href=\"#mdd288db542\" y=\"115.92\"/>\r\n     <use style=\"fill:#1f77b4;stroke:#1f77b4;\" x=\"206.13683\" xlink:href=\"#mdd288db542\" y=\"115.92\"/>\r\n     <use style=\"fill:#1f77b4;stroke:#1f77b4;\" x=\"195.430571\" xlink:href=\"#mdd288db542\" y=\"115.92\"/>\r\n     <use style=\"fill:#1f77b4;stroke:#1f77b4;\" x=\"290.257433\" xlink:href=\"#mdd288db542\" y=\"115.92\"/>\r\n     <use style=\"fill:#1f77b4;stroke:#1f77b4;\" x=\"174.018054\" xlink:href=\"#mdd288db542\" y=\"115.92\"/>\r\n     <use style=\"fill:#1f77b4;stroke:#1f77b4;\" x=\"253.550261\" xlink:href=\"#mdd288db542\" y=\"115.92\"/>\r\n     <use style=\"fill:#1f77b4;stroke:#1f77b4;\" x=\"224.490416\" xlink:href=\"#mdd288db542\" y=\"115.92\"/>\r\n     <use style=\"fill:#1f77b4;stroke:#1f77b4;\" x=\"204.607364\" xlink:href=\"#mdd288db542\" y=\"115.92\"/>\r\n     <use style=\"fill:#1f77b4;stroke:#1f77b4;\" x=\"273.433312\" xlink:href=\"#mdd288db542\" y=\"115.92\"/>\r\n     <use style=\"fill:#1f77b4;stroke:#1f77b4;\" x=\"236.72614\" xlink:href=\"#mdd288db542\" y=\"115.92\"/>\r\n     <use style=\"fill:#1f77b4;stroke:#1f77b4;\" x=\"219.902019\" xlink:href=\"#mdd288db542\" y=\"115.92\"/>\r\n     <use style=\"fill:#1f77b4;stroke:#1f77b4;\" x=\"258.138657\" xlink:href=\"#mdd288db542\" y=\"115.92\"/>\r\n     <use style=\"fill:#1f77b4;stroke:#1f77b4;\" x=\"221.431485\" xlink:href=\"#mdd288db542\" y=\"115.92\"/>\r\n     <use style=\"fill:#1f77b4;stroke:#1f77b4;\" x=\"239.785071\" xlink:href=\"#mdd288db542\" y=\"115.92\"/>\r\n     <use style=\"fill:#1f77b4;stroke:#1f77b4;\" x=\"207.666295\" xlink:href=\"#mdd288db542\" y=\"115.92\"/>\r\n     <use style=\"fill:#1f77b4;stroke:#1f77b4;\" x=\"196.960037\" xlink:href=\"#mdd288db542\" y=\"115.92\"/>\r\n     <use style=\"fill:#1f77b4;stroke:#1f77b4;\" x=\"212.254692\" xlink:href=\"#mdd288db542\" y=\"115.92\"/>\r\n     <use style=\"fill:#1f77b4;stroke:#1f77b4;\" x=\"166.370727\" xlink:href=\"#mdd288db542\" y=\"115.92\"/>\r\n     <use style=\"fill:#1f77b4;stroke:#1f77b4;\" x=\"226.019881\" xlink:href=\"#mdd288db542\" y=\"115.92\"/>\r\n     <use style=\"fill:#1f77b4;stroke:#1f77b4;\" x=\"180.135916\" xlink:href=\"#mdd288db542\" y=\"115.92\"/>\r\n     <use style=\"fill:#1f77b4;stroke:#1f77b4;\" x=\"242.844002\" xlink:href=\"#mdd288db542\" y=\"115.92\"/>\r\n     <use style=\"fill:#1f77b4;stroke:#1f77b4;\" x=\"157.193933\" xlink:href=\"#mdd288db542\" y=\"115.92\"/>\r\n     <use style=\"fill:#1f77b4;stroke:#1f77b4;\" x=\"190.842175\" xlink:href=\"#mdd288db542\" y=\"115.92\"/>\r\n     <use style=\"fill:#1f77b4;stroke:#1f77b4;\" x=\"221.431485\" xlink:href=\"#mdd288db542\" y=\"115.92\"/>\r\n     <use style=\"fill:#1f77b4;stroke:#1f77b4;\" x=\"219.902019\" xlink:href=\"#mdd288db542\" y=\"115.92\"/>\r\n     <use style=\"fill:#1f77b4;stroke:#1f77b4;\" x=\"201.548433\" xlink:href=\"#mdd288db542\" y=\"115.92\"/>\r\n     <use style=\"fill:#1f77b4;stroke:#1f77b4;\" x=\"244.373467\" xlink:href=\"#mdd288db542\" y=\"115.92\"/>\r\n     <use style=\"fill:#1f77b4;stroke:#1f77b4;\" x=\"244.373467\" xlink:href=\"#mdd288db542\" y=\"115.92\"/>\r\n     <use style=\"fill:#1f77b4;stroke:#1f77b4;\" x=\"195.430571\" xlink:href=\"#mdd288db542\" y=\"115.92\"/>\r\n     <use style=\"fill:#1f77b4;stroke:#1f77b4;\" x=\"287.198502\" xlink:href=\"#mdd288db542\" y=\"115.92\"/>\r\n     <use style=\"fill:#1f77b4;stroke:#1f77b4;\" x=\"224.490416\" xlink:href=\"#mdd288db542\" y=\"115.92\"/>\r\n     <use style=\"fill:#1f77b4;stroke:#1f77b4;\" x=\"216.843088\" xlink:href=\"#mdd288db542\" y=\"115.92\"/>\r\n     <use style=\"fill:#1f77b4;stroke:#1f77b4;\" x=\"215.313623\" xlink:href=\"#mdd288db542\" y=\"115.92\"/>\r\n     <use style=\"fill:#1f77b4;stroke:#1f77b4;\" x=\"216.843088\" xlink:href=\"#mdd288db542\" y=\"115.92\"/>\r\n     <use style=\"fill:#1f77b4;stroke:#1f77b4;\" x=\"233.667209\" xlink:href=\"#mdd288db542\" y=\"115.92\"/>\r\n     <use style=\"fill:#1f77b4;stroke:#1f77b4;\" x=\"158.723399\" xlink:href=\"#mdd288db542\" y=\"115.92\"/>\r\n     <use style=\"fill:#1f77b4;stroke:#1f77b4;\" x=\"226.019881\" xlink:href=\"#mdd288db542\" y=\"115.92\"/>\r\n     <use style=\"fill:#1f77b4;stroke:#1f77b4;\" x=\"195.430571\" xlink:href=\"#mdd288db542\" y=\"115.92\"/>\r\n     <use style=\"fill:#1f77b4;stroke:#1f77b4;\" x=\"334.611933\" xlink:href=\"#mdd288db542\" y=\"115.92\"/>\r\n     <use style=\"fill:#1f77b4;stroke:#1f77b4;\" x=\"198.489502\" xlink:href=\"#mdd288db542\" y=\"115.92\"/>\r\n     <use style=\"fill:#1f77b4;stroke:#1f77b4;\" x=\"219.902019\" xlink:href=\"#mdd288db542\" y=\"115.92\"/>\r\n     <use style=\"fill:#1f77b4;stroke:#1f77b4;\" x=\"192.37164\" xlink:href=\"#mdd288db542\" y=\"115.92\"/>\r\n     <use style=\"fill:#1f77b4;stroke:#1f77b4;\" x=\"245.902933\" xlink:href=\"#mdd288db542\" y=\"115.92\"/>\r\n     <use style=\"fill:#1f77b4;stroke:#1f77b4;\" x=\"256.609192\" xlink:href=\"#mdd288db542\" y=\"115.92\"/>\r\n     <use style=\"fill:#1f77b4;stroke:#1f77b4;\" x=\"250.49133\" xlink:href=\"#mdd288db542\" y=\"115.92\"/>\r\n     <use style=\"fill:#1f77b4;stroke:#1f77b4;\" x=\"198.489502\" xlink:href=\"#mdd288db542\" y=\"115.92\"/>\r\n     <use style=\"fill:#1f77b4;stroke:#1f77b4;\" x=\"210.725226\" xlink:href=\"#mdd288db542\" y=\"115.92\"/>\r\n     <use style=\"fill:#1f77b4;stroke:#1f77b4;\" x=\"224.490416\" xlink:href=\"#mdd288db542\" y=\"115.92\"/>\r\n     <use style=\"fill:#1f77b4;stroke:#1f77b4;\" x=\"250.49133\" xlink:href=\"#mdd288db542\" y=\"115.92\"/>\r\n     <use style=\"fill:#1f77b4;stroke:#1f77b4;\" x=\"195.430571\" xlink:href=\"#mdd288db542\" y=\"115.92\"/>\r\n     <use style=\"fill:#1f77b4;stroke:#1f77b4;\" x=\"213.784157\" xlink:href=\"#mdd288db542\" y=\"115.92\"/>\r\n     <use style=\"fill:#1f77b4;stroke:#1f77b4;\" x=\"198.489502\" xlink:href=\"#mdd288db542\" y=\"115.92\"/>\r\n     <use style=\"fill:#1f77b4;stroke:#1f77b4;\" x=\"207.666295\" xlink:href=\"#mdd288db542\" y=\"115.92\"/>\r\n     <use style=\"fill:#1f77b4;stroke:#1f77b4;\" x=\"210.725226\" xlink:href=\"#mdd288db542\" y=\"115.92\"/>\r\n     <use style=\"fill:#1f77b4;stroke:#1f77b4;\" x=\"250.49133\" xlink:href=\"#mdd288db542\" y=\"115.92\"/>\r\n     <use style=\"fill:#1f77b4;stroke:#1f77b4;\" x=\"192.37164\" xlink:href=\"#mdd288db542\" y=\"115.92\"/>\r\n     <use style=\"fill:#1f77b4;stroke:#1f77b4;\" x=\"212.254692\" xlink:href=\"#mdd288db542\" y=\"115.92\"/>\r\n     <use style=\"fill:#1f77b4;stroke:#1f77b4;\" x=\"294.845829\" xlink:href=\"#mdd288db542\" y=\"115.92\"/>\r\n     <use style=\"fill:#1f77b4;stroke:#1f77b4;\" x=\"218.372554\" xlink:href=\"#mdd288db542\" y=\"115.92\"/>\r\n     <use style=\"fill:#1f77b4;stroke:#1f77b4;\" x=\"193.901106\" xlink:href=\"#mdd288db542\" y=\"115.92\"/>\r\n     <use style=\"fill:#1f77b4;stroke:#1f77b4;\" x=\"233.667209\" xlink:href=\"#mdd288db542\" y=\"115.92\"/>\r\n     <use style=\"fill:#1f77b4;stroke:#1f77b4;\" x=\"242.844002\" xlink:href=\"#mdd288db542\" y=\"115.92\"/>\r\n     <use style=\"fill:#1f77b4;stroke:#1f77b4;\" x=\"238.255605\" xlink:href=\"#mdd288db542\" y=\"115.92\"/>\r\n     <use style=\"fill:#1f77b4;stroke:#1f77b4;\" x=\"216.843088\" xlink:href=\"#mdd288db542\" y=\"115.92\"/>\r\n     <use style=\"fill:#1f77b4;stroke:#1f77b4;\" x=\"209.195761\" xlink:href=\"#mdd288db542\" y=\"115.92\"/>\r\n     <use style=\"fill:#1f77b4;stroke:#1f77b4;\" x=\"238.255605\" xlink:href=\"#mdd288db542\" y=\"115.92\"/>\r\n     <use style=\"fill:#1f77b4;stroke:#1f77b4;\" x=\"248.961864\" xlink:href=\"#mdd288db542\" y=\"115.92\"/>\r\n     <use style=\"fill:#1f77b4;stroke:#1f77b4;\" x=\"302.493157\" xlink:href=\"#mdd288db542\" y=\"115.92\"/>\r\n     <use style=\"fill:#1f77b4;stroke:#1f77b4;\" x=\"226.019881\" xlink:href=\"#mdd288db542\" y=\"115.92\"/>\r\n     <use style=\"fill:#1f77b4;stroke:#1f77b4;\" x=\"204.607364\" xlink:href=\"#mdd288db542\" y=\"115.92\"/>\r\n     <use style=\"fill:#1f77b4;stroke:#1f77b4;\" x=\"290.257433\" xlink:href=\"#mdd288db542\" y=\"115.92\"/>\r\n     <use style=\"fill:#1f77b4;stroke:#1f77b4;\" x=\"307.081553\" xlink:href=\"#mdd288db542\" y=\"115.92\"/>\r\n     <use style=\"fill:#1f77b4;stroke:#1f77b4;\" x=\"206.13683\" xlink:href=\"#mdd288db542\" y=\"115.92\"/>\r\n     <use style=\"fill:#1f77b4;stroke:#1f77b4;\" x=\"158.723399\" xlink:href=\"#mdd288db542\" y=\"115.92\"/>\r\n     <use style=\"fill:#1f77b4;stroke:#1f77b4;\" x=\"242.844002\" xlink:href=\"#mdd288db542\" y=\"115.92\"/>\r\n     <use style=\"fill:#1f77b4;stroke:#1f77b4;\" x=\"193.901106\" xlink:href=\"#mdd288db542\" y=\"115.92\"/>\r\n     <use style=\"fill:#1f77b4;stroke:#1f77b4;\" x=\"196.960037\" xlink:href=\"#mdd288db542\" y=\"115.92\"/>\r\n     <use style=\"fill:#1f77b4;stroke:#1f77b4;\" x=\"209.195761\" xlink:href=\"#mdd288db542\" y=\"115.92\"/>\r\n     <use style=\"fill:#1f77b4;stroke:#1f77b4;\" x=\"140.369813\" xlink:href=\"#mdd288db542\" y=\"115.92\"/>\r\n     <use style=\"fill:#1f77b4;stroke:#1f77b4;\" x=\"200.018968\" xlink:href=\"#mdd288db542\" y=\"115.92\"/>\r\n     <use style=\"fill:#1f77b4;stroke:#1f77b4;\" x=\"262.727054\" xlink:href=\"#mdd288db542\" y=\"115.92\"/>\r\n     <use style=\"fill:#1f77b4;stroke:#1f77b4;\" x=\"252.020795\" xlink:href=\"#mdd288db542\" y=\"115.92\"/>\r\n     <use style=\"fill:#1f77b4;stroke:#1f77b4;\" x=\"253.550261\" xlink:href=\"#mdd288db542\" y=\"115.92\"/>\r\n     <use style=\"fill:#1f77b4;stroke:#1f77b4;\" x=\"218.372554\" xlink:href=\"#mdd288db542\" y=\"115.92\"/>\r\n     <use style=\"fill:#1f77b4;stroke:#1f77b4;\" x=\"268.844916\" xlink:href=\"#mdd288db542\" y=\"115.92\"/>\r\n     <use style=\"fill:#1f77b4;stroke:#1f77b4;\" x=\"218.372554\" xlink:href=\"#mdd288db542\" y=\"115.92\"/>\r\n     <use style=\"fill:#1f77b4;stroke:#1f77b4;\" x=\"239.785071\" xlink:href=\"#mdd288db542\" y=\"115.92\"/>\r\n     <use style=\"fill:#1f77b4;stroke:#1f77b4;\" x=\"192.37164\" xlink:href=\"#mdd288db542\" y=\"115.92\"/>\r\n     <use style=\"fill:#1f77b4;stroke:#1f77b4;\" x=\"206.13683\" xlink:href=\"#mdd288db542\" y=\"115.92\"/>\r\n     <use style=\"fill:#1f77b4;stroke:#1f77b4;\" x=\"248.961864\" xlink:href=\"#mdd288db542\" y=\"115.92\"/>\r\n     <use style=\"fill:#1f77b4;stroke:#1f77b4;\" x=\"235.196674\" xlink:href=\"#mdd288db542\" y=\"115.92\"/>\r\n     <use style=\"fill:#1f77b4;stroke:#1f77b4;\" x=\"241.314536\" xlink:href=\"#mdd288db542\" y=\"115.92\"/>\r\n     <use style=\"fill:#1f77b4;stroke:#1f77b4;\" x=\"252.020795\" xlink:href=\"#mdd288db542\" y=\"115.92\"/>\r\n     <use style=\"fill:#1f77b4;stroke:#1f77b4;\" x=\"222.96095\" xlink:href=\"#mdd288db542\" y=\"115.92\"/>\r\n     <use style=\"fill:#1f77b4;stroke:#1f77b4;\" x=\"177.076985\" xlink:href=\"#mdd288db542\" y=\"115.92\"/>\r\n     <use style=\"fill:#1f77b4;stroke:#1f77b4;\" x=\"248.961864\" xlink:href=\"#mdd288db542\" y=\"115.92\"/>\r\n     <use style=\"fill:#1f77b4;stroke:#1f77b4;\" x=\"296.375295\" xlink:href=\"#mdd288db542\" y=\"115.92\"/>\r\n     <use style=\"fill:#1f77b4;stroke:#1f77b4;\" x=\"247.432398\" xlink:href=\"#mdd288db542\" y=\"115.92\"/>\r\n     <use style=\"fill:#1f77b4;stroke:#1f77b4;\" x=\"259.668123\" xlink:href=\"#mdd288db542\" y=\"115.92\"/>\r\n     <use style=\"fill:#1f77b4;stroke:#1f77b4;\" x=\"210.725226\" xlink:href=\"#mdd288db542\" y=\"115.92\"/>\r\n     <use style=\"fill:#1f77b4;stroke:#1f77b4;\" x=\"198.489502\" xlink:href=\"#mdd288db542\" y=\"115.92\"/>\r\n     <use style=\"fill:#1f77b4;stroke:#1f77b4;\" x=\"219.902019\" xlink:href=\"#mdd288db542\" y=\"115.92\"/>\r\n     <use style=\"fill:#1f77b4;stroke:#1f77b4;\" x=\"181.665382\" xlink:href=\"#mdd288db542\" y=\"115.92\"/>\r\n     <use style=\"fill:#1f77b4;stroke:#1f77b4;\" x=\"229.078812\" xlink:href=\"#mdd288db542\" y=\"115.92\"/>\r\n     <use style=\"fill:#1f77b4;stroke:#1f77b4;\" x=\"233.667209\" xlink:href=\"#mdd288db542\" y=\"115.92\"/>\r\n     <use style=\"fill:#1f77b4;stroke:#1f77b4;\" x=\"224.490416\" xlink:href=\"#mdd288db542\" y=\"115.92\"/>\r\n     <use style=\"fill:#1f77b4;stroke:#1f77b4;\" x=\"226.019881\" xlink:href=\"#mdd288db542\" y=\"115.92\"/>\r\n     <use style=\"fill:#1f77b4;stroke:#1f77b4;\" x=\"232.137743\" xlink:href=\"#mdd288db542\" y=\"115.92\"/>\r\n     <use style=\"fill:#1f77b4;stroke:#1f77b4;\" x=\"270.374381\" xlink:href=\"#mdd288db542\" y=\"115.92\"/>\r\n     <use style=\"fill:#1f77b4;stroke:#1f77b4;\" x=\"322.376208\" xlink:href=\"#mdd288db542\" y=\"115.92\"/>\r\n     <use style=\"fill:#1f77b4;stroke:#1f77b4;\" x=\"195.430571\" xlink:href=\"#mdd288db542\" y=\"115.92\"/>\r\n     <use style=\"fill:#1f77b4;stroke:#1f77b4;\" x=\"216.843088\" xlink:href=\"#mdd288db542\" y=\"115.92\"/>\r\n     <use style=\"fill:#1f77b4;stroke:#1f77b4;\" x=\"215.313623\" xlink:href=\"#mdd288db542\" y=\"115.92\"/>\r\n     <use style=\"fill:#1f77b4;stroke:#1f77b4;\" x=\"200.018968\" xlink:href=\"#mdd288db542\" y=\"115.92\"/>\r\n     <use style=\"fill:#1f77b4;stroke:#1f77b4;\" x=\"247.432398\" xlink:href=\"#mdd288db542\" y=\"115.92\"/>\r\n     <use style=\"fill:#1f77b4;stroke:#1f77b4;\" x=\"154.135002\" xlink:href=\"#mdd288db542\" y=\"115.92\"/>\r\n     <use style=\"fill:#1f77b4;stroke:#1f77b4;\" x=\"206.13683\" xlink:href=\"#mdd288db542\" y=\"115.92\"/>\r\n     <use style=\"fill:#1f77b4;stroke:#1f77b4;\" x=\"210.725226\" xlink:href=\"#mdd288db542\" y=\"115.92\"/>\r\n     <use style=\"fill:#1f77b4;stroke:#1f77b4;\" x=\"221.431485\" xlink:href=\"#mdd288db542\" y=\"115.92\"/>\r\n     <use style=\"fill:#1f77b4;stroke:#1f77b4;\" x=\"288.727967\" xlink:href=\"#mdd288db542\" y=\"115.92\"/>\r\n     <use style=\"fill:#1f77b4;stroke:#1f77b4;\" x=\"207.666295\" xlink:href=\"#mdd288db542\" y=\"115.92\"/>\r\n     <use style=\"fill:#1f77b4;stroke:#1f77b4;\" x=\"178.606451\" xlink:href=\"#mdd288db542\" y=\"115.92\"/>\r\n     <use style=\"fill:#1f77b4;stroke:#1f77b4;\" x=\"239.785071\" xlink:href=\"#mdd288db542\" y=\"115.92\"/>\r\n     <use style=\"fill:#1f77b4;stroke:#1f77b4;\" x=\"219.902019\" xlink:href=\"#mdd288db542\" y=\"115.92\"/>\r\n     <use style=\"fill:#1f77b4;stroke:#1f77b4;\" x=\"264.256519\" xlink:href=\"#mdd288db542\" y=\"115.92\"/>\r\n     <use style=\"fill:#1f77b4;stroke:#1f77b4;\" x=\"216.843088\" xlink:href=\"#mdd288db542\" y=\"115.92\"/>\r\n     <use style=\"fill:#1f77b4;stroke:#1f77b4;\" x=\"189.312709\" xlink:href=\"#mdd288db542\" y=\"115.92\"/>\r\n     <use style=\"fill:#1f77b4;stroke:#1f77b4;\" x=\"190.842175\" xlink:href=\"#mdd288db542\" y=\"115.92\"/>\r\n     <use style=\"fill:#1f77b4;stroke:#1f77b4;\" x=\"209.195761\" xlink:href=\"#mdd288db542\" y=\"115.92\"/>\r\n     <use style=\"fill:#1f77b4;stroke:#1f77b4;\" x=\"241.314536\" xlink:href=\"#mdd288db542\" y=\"115.92\"/>\r\n     <use style=\"fill:#1f77b4;stroke:#1f77b4;\" x=\"239.785071\" xlink:href=\"#mdd288db542\" y=\"115.92\"/>\r\n     <use style=\"fill:#1f77b4;stroke:#1f77b4;\" x=\"196.960037\" xlink:href=\"#mdd288db542\" y=\"115.92\"/>\r\n    </g>\r\n   </g>\r\n   <g id=\"line2d_2\">\r\n    <defs>\r\n     <path d=\"M 0 3 \r\nC 0.795609 3 1.55874 2.683901 2.12132 2.12132 \r\nC 2.683901 1.55874 3 0.795609 3 0 \r\nC 3 -0.795609 2.683901 -1.55874 2.12132 -2.12132 \r\nC 1.55874 -2.683901 0.795609 -3 0 -3 \r\nC -0.795609 -3 -1.55874 -2.683901 -2.12132 -2.12132 \r\nC -2.683901 -1.55874 -3 -0.795609 -3 0 \r\nC -3 0.795609 -2.683901 1.55874 -2.12132 2.12132 \r\nC -1.55874 2.683901 -0.795609 3 0 3 \r\nz\r\n\" id=\"mb7e5bddbe5\" style=\"stroke:#ff7f0e;\"/>\r\n    </defs>\r\n    <g clip-path=\"url(#pd856596da4)\">\r\n     <use style=\"fill:#ff7f0e;stroke:#ff7f0e;\" x=\"281.08064\" xlink:href=\"#mb7e5bddbe5\" y=\"115.92\"/>\r\n     <use style=\"fill:#ff7f0e;stroke:#ff7f0e;\" x=\"334.611933\" xlink:href=\"#mb7e5bddbe5\" y=\"115.92\"/>\r\n     <use style=\"fill:#ff7f0e;stroke:#ff7f0e;\" x=\"264.256519\" xlink:href=\"#mb7e5bddbe5\" y=\"115.92\"/>\r\n     <use style=\"fill:#ff7f0e;stroke:#ff7f0e;\" x=\"174.018054\" xlink:href=\"#mb7e5bddbe5\" y=\"115.92\"/>\r\n     <use style=\"fill:#ff7f0e;stroke:#ff7f0e;\" x=\"356.02445\" xlink:href=\"#mb7e5bddbe5\" y=\"115.92\"/>\r\n     <use style=\"fill:#ff7f0e;stroke:#ff7f0e;\" x=\"245.902933\" xlink:href=\"#mb7e5bddbe5\" y=\"115.92\"/>\r\n     <use style=\"fill:#ff7f0e;stroke:#ff7f0e;\" x=\"311.66995\" xlink:href=\"#mb7e5bddbe5\" y=\"115.92\"/>\r\n     <use style=\"fill:#ff7f0e;stroke:#ff7f0e;\" x=\"343.788726\" xlink:href=\"#mb7e5bddbe5\" y=\"115.92\"/>\r\n     <use style=\"fill:#ff7f0e;stroke:#ff7f0e;\" x=\"308.611019\" xlink:href=\"#mb7e5bddbe5\" y=\"115.92\"/>\r\n     <use style=\"fill:#ff7f0e;stroke:#ff7f0e;\" x=\"207.666295\" xlink:href=\"#mb7e5bddbe5\" y=\"115.92\"/>\r\n     <use style=\"fill:#ff7f0e;stroke:#ff7f0e;\" x=\"235.196674\" xlink:href=\"#mb7e5bddbe5\" y=\"115.92\"/>\r\n     <use style=\"fill:#ff7f0e;stroke:#ff7f0e;\" x=\"218.372554\" xlink:href=\"#mb7e5bddbe5\" y=\"115.92\"/>\r\n     <use style=\"fill:#ff7f0e;stroke:#ff7f0e;\" x=\"230.608278\" xlink:href=\"#mb7e5bddbe5\" y=\"115.92\"/>\r\n     <use style=\"fill:#ff7f0e;stroke:#ff7f0e;\" x=\"354.494984\" xlink:href=\"#mb7e5bddbe5\" y=\"115.92\"/>\r\n     <use style=\"fill:#ff7f0e;stroke:#ff7f0e;\" x=\"236.72614\" xlink:href=\"#mb7e5bddbe5\" y=\"115.92\"/>\r\n     <use style=\"fill:#ff7f0e;stroke:#ff7f0e;\" x=\"273.433312\" xlink:href=\"#mb7e5bddbe5\" y=\"115.92\"/>\r\n     <use style=\"fill:#ff7f0e;stroke:#ff7f0e;\" x=\"245.902933\" xlink:href=\"#mb7e5bddbe5\" y=\"115.92\"/>\r\n     <use style=\"fill:#ff7f0e;stroke:#ff7f0e;\" x=\"279.551174\" xlink:href=\"#mb7e5bddbe5\" y=\"115.92\"/>\r\n     <use style=\"fill:#ff7f0e;stroke:#ff7f0e;\" x=\"296.375295\" xlink:href=\"#mb7e5bddbe5\" y=\"115.92\"/>\r\n     <use style=\"fill:#ff7f0e;stroke:#ff7f0e;\" x=\"210.725226\" xlink:href=\"#mb7e5bddbe5\" y=\"115.92\"/>\r\n     <use style=\"fill:#ff7f0e;stroke:#ff7f0e;\" x=\"192.37164\" xlink:href=\"#mb7e5bddbe5\" y=\"115.92\"/>\r\n     <use style=\"fill:#ff7f0e;stroke:#ff7f0e;\" x=\"224.490416\" xlink:href=\"#mb7e5bddbe5\" y=\"115.92\"/>\r\n     <use style=\"fill:#ff7f0e;stroke:#ff7f0e;\" x=\"316.258346\" xlink:href=\"#mb7e5bddbe5\" y=\"115.92\"/>\r\n     <use style=\"fill:#ff7f0e;stroke:#ff7f0e;\" x=\"330.023536\" xlink:href=\"#mb7e5bddbe5\" y=\"115.92\"/>\r\n     <use style=\"fill:#ff7f0e;stroke:#ff7f0e;\" x=\"212.254692\" xlink:href=\"#mb7e5bddbe5\" y=\"115.92\"/>\r\n     <use style=\"fill:#ff7f0e;stroke:#ff7f0e;\" x=\"323.905674\" xlink:href=\"#mb7e5bddbe5\" y=\"115.92\"/>\r\n     <use style=\"fill:#ff7f0e;stroke:#ff7f0e;\" x=\"340.729795\" xlink:href=\"#mb7e5bddbe5\" y=\"115.92\"/>\r\n     <use style=\"fill:#ff7f0e;stroke:#ff7f0e;\" x=\"258.138657\" xlink:href=\"#mb7e5bddbe5\" y=\"115.92\"/>\r\n     <use style=\"fill:#ff7f0e;stroke:#ff7f0e;\" x=\"229.078812\" xlink:href=\"#mb7e5bddbe5\" y=\"115.92\"/>\r\n     <use style=\"fill:#ff7f0e;stroke:#ff7f0e;\" x=\"221.431485\" xlink:href=\"#mb7e5bddbe5\" y=\"115.92\"/>\r\n     <use style=\"fill:#ff7f0e;stroke:#ff7f0e;\" x=\"207.666295\" xlink:href=\"#mb7e5bddbe5\" y=\"115.92\"/>\r\n     <use style=\"fill:#ff7f0e;stroke:#ff7f0e;\" x=\"247.432398\" xlink:href=\"#mb7e5bddbe5\" y=\"115.92\"/>\r\n     <use style=\"fill:#ff7f0e;stroke:#ff7f0e;\" x=\"255.079726\" xlink:href=\"#mb7e5bddbe5\" y=\"115.92\"/>\r\n     <use style=\"fill:#ff7f0e;stroke:#ff7f0e;\" x=\"264.256519\" xlink:href=\"#mb7e5bddbe5\" y=\"115.92\"/>\r\n     <use style=\"fill:#ff7f0e;stroke:#ff7f0e;\" x=\"262.727054\" xlink:href=\"#mb7e5bddbe5\" y=\"115.92\"/>\r\n     <use style=\"fill:#ff7f0e;stroke:#ff7f0e;\" x=\"259.668123\" xlink:href=\"#mb7e5bddbe5\" y=\"115.92\"/>\r\n     <use style=\"fill:#ff7f0e;stroke:#ff7f0e;\" x=\"241.314536\" xlink:href=\"#mb7e5bddbe5\" y=\"115.92\"/>\r\n     <use style=\"fill:#ff7f0e;stroke:#ff7f0e;\" x=\"304.022622\" xlink:href=\"#mb7e5bddbe5\" y=\"115.92\"/>\r\n     <use style=\"fill:#ff7f0e;stroke:#ff7f0e;\" x=\"200.018968\" xlink:href=\"#mb7e5bddbe5\" y=\"115.92\"/>\r\n     <use style=\"fill:#ff7f0e;stroke:#ff7f0e;\" x=\"316.258346\" xlink:href=\"#mb7e5bddbe5\" y=\"115.92\"/>\r\n     <use style=\"fill:#ff7f0e;stroke:#ff7f0e;\" x=\"291.786898\" xlink:href=\"#mb7e5bddbe5\" y=\"115.92\"/>\r\n     <use style=\"fill:#ff7f0e;stroke:#ff7f0e;\" x=\"299.434226\" xlink:href=\"#mb7e5bddbe5\" y=\"115.92\"/>\r\n     <use style=\"fill:#ff7f0e;stroke:#ff7f0e;\" x=\"278.021709\" xlink:href=\"#mb7e5bddbe5\" y=\"115.92\"/>\r\n     <use style=\"fill:#ff7f0e;stroke:#ff7f0e;\" x=\"244.373467\" xlink:href=\"#mb7e5bddbe5\" y=\"115.92\"/>\r\n     <use style=\"fill:#ff7f0e;stroke:#ff7f0e;\" x=\"302.493157\" xlink:href=\"#mb7e5bddbe5\" y=\"115.92\"/>\r\n     <use style=\"fill:#ff7f0e;stroke:#ff7f0e;\" x=\"227.549347\" xlink:href=\"#mb7e5bddbe5\" y=\"115.92\"/>\r\n     <use style=\"fill:#ff7f0e;stroke:#ff7f0e;\" x=\"189.312709\" xlink:href=\"#mb7e5bddbe5\" y=\"115.92\"/>\r\n     <use style=\"fill:#ff7f0e;stroke:#ff7f0e;\" x=\"233.667209\" xlink:href=\"#mb7e5bddbe5\" y=\"115.92\"/>\r\n     <use style=\"fill:#ff7f0e;stroke:#ff7f0e;\" x=\"215.313623\" xlink:href=\"#mb7e5bddbe5\" y=\"115.92\"/>\r\n     <use style=\"fill:#ff7f0e;stroke:#ff7f0e;\" x=\"319.317277\" xlink:href=\"#mb7e5bddbe5\" y=\"115.92\"/>\r\n     <use style=\"fill:#ff7f0e;stroke:#ff7f0e;\" x=\"241.314536\" xlink:href=\"#mb7e5bddbe5\" y=\"115.92\"/>\r\n     <use style=\"fill:#ff7f0e;stroke:#ff7f0e;\" x=\"314.728881\" xlink:href=\"#mb7e5bddbe5\" y=\"115.92\"/>\r\n     <use style=\"fill:#ff7f0e;stroke:#ff7f0e;\" x=\"219.902019\" xlink:href=\"#mb7e5bddbe5\" y=\"115.92\"/>\r\n     <use style=\"fill:#ff7f0e;stroke:#ff7f0e;\" x=\"293.316364\" xlink:href=\"#mb7e5bddbe5\" y=\"115.92\"/>\r\n     <use style=\"fill:#ff7f0e;stroke:#ff7f0e;\" x=\"342.25926\" xlink:href=\"#mb7e5bddbe5\" y=\"115.92\"/>\r\n     <use style=\"fill:#ff7f0e;stroke:#ff7f0e;\" x=\"287.198502\" xlink:href=\"#mb7e5bddbe5\" y=\"115.92\"/>\r\n     <use style=\"fill:#ff7f0e;stroke:#ff7f0e;\" x=\"304.022622\" xlink:href=\"#mb7e5bddbe5\" y=\"115.92\"/>\r\n     <use style=\"fill:#ff7f0e;stroke:#ff7f0e;\" x=\"255.079726\" xlink:href=\"#mb7e5bddbe5\" y=\"115.92\"/>\r\n     <use style=\"fill:#ff7f0e;stroke:#ff7f0e;\" x=\"213.784157\" xlink:href=\"#mb7e5bddbe5\" y=\"115.92\"/>\r\n     <use style=\"fill:#ff7f0e;stroke:#ff7f0e;\" x=\"210.725226\" xlink:href=\"#mb7e5bddbe5\" y=\"115.92\"/>\r\n     <use style=\"fill:#ff7f0e;stroke:#ff7f0e;\" x=\"259.668123\" xlink:href=\"#mb7e5bddbe5\" y=\"115.92\"/>\r\n     <use style=\"fill:#ff7f0e;stroke:#ff7f0e;\" x=\"328.49407\" xlink:href=\"#mb7e5bddbe5\" y=\"115.92\"/>\r\n     <use style=\"fill:#ff7f0e;stroke:#ff7f0e;\" x=\"252.020795\" xlink:href=\"#mb7e5bddbe5\" y=\"115.92\"/>\r\n     <use style=\"fill:#ff7f0e;stroke:#ff7f0e;\" x=\"253.550261\" xlink:href=\"#mb7e5bddbe5\" y=\"115.92\"/>\r\n     <use style=\"fill:#ff7f0e;stroke:#ff7f0e;\" x=\"351.436053\" xlink:href=\"#mb7e5bddbe5\" y=\"115.92\"/>\r\n     <use style=\"fill:#ff7f0e;stroke:#ff7f0e;\" x=\"331.553002\" xlink:href=\"#mb7e5bddbe5\" y=\"115.92\"/>\r\n     <use style=\"fill:#ff7f0e;stroke:#ff7f0e;\" x=\"250.49133\" xlink:href=\"#mb7e5bddbe5\" y=\"115.92\"/>\r\n     <use style=\"fill:#ff7f0e;stroke:#ff7f0e;\" x=\"221.431485\" xlink:href=\"#mb7e5bddbe5\" y=\"115.92\"/>\r\n     <use style=\"fill:#ff7f0e;stroke:#ff7f0e;\" x=\"267.31545\" xlink:href=\"#mb7e5bddbe5\" y=\"115.92\"/>\r\n     <use style=\"fill:#ff7f0e;stroke:#ff7f0e;\" x=\"297.90476\" xlink:href=\"#mb7e5bddbe5\" y=\"115.92\"/>\r\n     <use style=\"fill:#ff7f0e;stroke:#ff7f0e;\" x=\"261.197588\" xlink:href=\"#mb7e5bddbe5\" y=\"115.92\"/>\r\n     <use style=\"fill:#ff7f0e;stroke:#ff7f0e;\" x=\"296.375295\" xlink:href=\"#mb7e5bddbe5\" y=\"115.92\"/>\r\n     <use style=\"fill:#ff7f0e;stroke:#ff7f0e;\" x=\"218.372554\" xlink:href=\"#mb7e5bddbe5\" y=\"115.92\"/>\r\n     <use style=\"fill:#ff7f0e;stroke:#ff7f0e;\" x=\"221.431485\" xlink:href=\"#mb7e5bddbe5\" y=\"115.92\"/>\r\n     <use style=\"fill:#ff7f0e;stroke:#ff7f0e;\" x=\"281.08064\" xlink:href=\"#mb7e5bddbe5\" y=\"115.92\"/>\r\n     <use style=\"fill:#ff7f0e;stroke:#ff7f0e;\" x=\"354.494984\" xlink:href=\"#mb7e5bddbe5\" y=\"115.92\"/>\r\n     <use style=\"fill:#ff7f0e;stroke:#ff7f0e;\" x=\"302.493157\" xlink:href=\"#mb7e5bddbe5\" y=\"115.92\"/>\r\n     <use style=\"fill:#ff7f0e;stroke:#ff7f0e;\" x=\"336.141398\" xlink:href=\"#mb7e5bddbe5\" y=\"115.92\"/>\r\n     <use style=\"fill:#ff7f0e;stroke:#ff7f0e;\" x=\"268.844916\" xlink:href=\"#mb7e5bddbe5\" y=\"115.92\"/>\r\n     <use style=\"fill:#ff7f0e;stroke:#ff7f0e;\" x=\"226.019881\" xlink:href=\"#mb7e5bddbe5\" y=\"115.92\"/>\r\n     <use style=\"fill:#ff7f0e;stroke:#ff7f0e;\" x=\"285.669036\" xlink:href=\"#mb7e5bddbe5\" y=\"115.92\"/>\r\n     <use style=\"fill:#ff7f0e;stroke:#ff7f0e;\" x=\"221.431485\" xlink:href=\"#mb7e5bddbe5\" y=\"115.92\"/>\r\n     <use style=\"fill:#ff7f0e;stroke:#ff7f0e;\" x=\"184.724313\" xlink:href=\"#mb7e5bddbe5\" y=\"115.92\"/>\r\n     <use style=\"fill:#ff7f0e;stroke:#ff7f0e;\" x=\"226.019881\" xlink:href=\"#mb7e5bddbe5\" y=\"115.92\"/>\r\n     <use style=\"fill:#ff7f0e;stroke:#ff7f0e;\" x=\"325.435139\" xlink:href=\"#mb7e5bddbe5\" y=\"115.92\"/>\r\n     <use style=\"fill:#ff7f0e;stroke:#ff7f0e;\" x=\"296.375295\" xlink:href=\"#mb7e5bddbe5\" y=\"115.92\"/>\r\n     <use style=\"fill:#ff7f0e;stroke:#ff7f0e;\" x=\"302.493157\" xlink:href=\"#mb7e5bddbe5\" y=\"115.92\"/>\r\n     <use style=\"fill:#ff7f0e;stroke:#ff7f0e;\" x=\"271.903847\" xlink:href=\"#mb7e5bddbe5\" y=\"115.92\"/>\r\n     <use style=\"fill:#ff7f0e;stroke:#ff7f0e;\" x=\"259.668123\" xlink:href=\"#mb7e5bddbe5\" y=\"115.92\"/>\r\n     <use style=\"fill:#ff7f0e;stroke:#ff7f0e;\" x=\"316.258346\" xlink:href=\"#mb7e5bddbe5\" y=\"115.92\"/>\r\n     <use style=\"fill:#ff7f0e;stroke:#ff7f0e;\" x=\"331.553002\" xlink:href=\"#mb7e5bddbe5\" y=\"115.92\"/>\r\n     <use style=\"fill:#ff7f0e;stroke:#ff7f0e;\" x=\"328.49407\" xlink:href=\"#mb7e5bddbe5\" y=\"115.92\"/>\r\n     <use style=\"fill:#ff7f0e;stroke:#ff7f0e;\" x=\"305.552088\" xlink:href=\"#mb7e5bddbe5\" y=\"115.92\"/>\r\n     <use style=\"fill:#ff7f0e;stroke:#ff7f0e;\" x=\"267.31545\" xlink:href=\"#mb7e5bddbe5\" y=\"115.92\"/>\r\n     <use style=\"fill:#ff7f0e;stroke:#ff7f0e;\" x=\"236.72614\" xlink:href=\"#mb7e5bddbe5\" y=\"115.92\"/>\r\n     <use style=\"fill:#ff7f0e;stroke:#ff7f0e;\" x=\"336.141398\" xlink:href=\"#mb7e5bddbe5\" y=\"115.92\"/>\r\n     <use style=\"fill:#ff7f0e;stroke:#ff7f0e;\" x=\"195.430571\" xlink:href=\"#mb7e5bddbe5\" y=\"115.92\"/>\r\n     <use style=\"fill:#ff7f0e;stroke:#ff7f0e;\" x=\"227.549347\" xlink:href=\"#mb7e5bddbe5\" y=\"115.92\"/>\r\n     <use style=\"fill:#ff7f0e;stroke:#ff7f0e;\" x=\"291.786898\" xlink:href=\"#mb7e5bddbe5\" y=\"115.92\"/>\r\n     <use style=\"fill:#ff7f0e;stroke:#ff7f0e;\" x=\"270.374381\" xlink:href=\"#mb7e5bddbe5\" y=\"115.92\"/>\r\n     <use style=\"fill:#ff7f0e;stroke:#ff7f0e;\" x=\"242.844002\" xlink:href=\"#mb7e5bddbe5\" y=\"115.92\"/>\r\n     <use style=\"fill:#ff7f0e;stroke:#ff7f0e;\" x=\"265.785985\" xlink:href=\"#mb7e5bddbe5\" y=\"115.92\"/>\r\n     <use style=\"fill:#ff7f0e;stroke:#ff7f0e;\" x=\"278.021709\" xlink:href=\"#mb7e5bddbe5\" y=\"115.92\"/>\r\n     <use style=\"fill:#ff7f0e;stroke:#ff7f0e;\" x=\"209.195761\" xlink:href=\"#mb7e5bddbe5\" y=\"115.92\"/>\r\n     <use style=\"fill:#ff7f0e;stroke:#ff7f0e;\" x=\"216.843088\" xlink:href=\"#mb7e5bddbe5\" y=\"115.92\"/>\r\n     <use style=\"fill:#ff7f0e;stroke:#ff7f0e;\" x=\"278.021709\" xlink:href=\"#mb7e5bddbe5\" y=\"115.92\"/>\r\n     <use style=\"fill:#ff7f0e;stroke:#ff7f0e;\" x=\"300.963691\" xlink:href=\"#mb7e5bddbe5\" y=\"115.92\"/>\r\n     <use style=\"fill:#ff7f0e;stroke:#ff7f0e;\" x=\"219.902019\" xlink:href=\"#mb7e5bddbe5\" y=\"115.92\"/>\r\n     <use style=\"fill:#ff7f0e;stroke:#ff7f0e;\" x=\"236.72614\" xlink:href=\"#mb7e5bddbe5\" y=\"115.92\"/>\r\n     <use style=\"fill:#ff7f0e;stroke:#ff7f0e;\" x=\"218.372554\" xlink:href=\"#mb7e5bddbe5\" y=\"115.92\"/>\r\n     <use style=\"fill:#ff7f0e;stroke:#ff7f0e;\" x=\"250.49133\" xlink:href=\"#mb7e5bddbe5\" y=\"115.92\"/>\r\n     <use style=\"fill:#ff7f0e;stroke:#ff7f0e;\" x=\"250.49133\" xlink:href=\"#mb7e5bddbe5\" y=\"115.92\"/>\r\n     <use style=\"fill:#ff7f0e;stroke:#ff7f0e;\" x=\"278.021709\" xlink:href=\"#mb7e5bddbe5\" y=\"115.92\"/>\r\n     <use style=\"fill:#ff7f0e;stroke:#ff7f0e;\" x=\"207.666295\" xlink:href=\"#mb7e5bddbe5\" y=\"115.92\"/>\r\n     <use style=\"fill:#ff7f0e;stroke:#ff7f0e;\" x=\"310.140484\" xlink:href=\"#mb7e5bddbe5\" y=\"115.92\"/>\r\n     <use style=\"fill:#ff7f0e;stroke:#ff7f0e;\" x=\"274.962778\" xlink:href=\"#mb7e5bddbe5\" y=\"115.92\"/>\r\n     <use style=\"fill:#ff7f0e;stroke:#ff7f0e;\" x=\"230.608278\" xlink:href=\"#mb7e5bddbe5\" y=\"115.92\"/>\r\n     <use style=\"fill:#ff7f0e;stroke:#ff7f0e;\" x=\"300.963691\" xlink:href=\"#mb7e5bddbe5\" y=\"115.92\"/>\r\n     <use style=\"fill:#ff7f0e;stroke:#ff7f0e;\" x=\"250.49133\" xlink:href=\"#mb7e5bddbe5\" y=\"115.92\"/>\r\n     <use style=\"fill:#ff7f0e;stroke:#ff7f0e;\" x=\"244.373467\" xlink:href=\"#mb7e5bddbe5\" y=\"115.92\"/>\r\n     <use style=\"fill:#ff7f0e;stroke:#ff7f0e;\" x=\"291.786898\" xlink:href=\"#mb7e5bddbe5\" y=\"115.92\"/>\r\n     <use style=\"fill:#ff7f0e;stroke:#ff7f0e;\" x=\"221.431485\" xlink:href=\"#mb7e5bddbe5\" y=\"115.92\"/>\r\n     <use style=\"fill:#ff7f0e;stroke:#ff7f0e;\" x=\"333.082467\" xlink:href=\"#mb7e5bddbe5\" y=\"115.92\"/>\r\n     <use style=\"fill:#ff7f0e;stroke:#ff7f0e;\" x=\"351.436053\" xlink:href=\"#mb7e5bddbe5\" y=\"115.92\"/>\r\n     <use style=\"fill:#ff7f0e;stroke:#ff7f0e;\" x=\"226.019881\" xlink:href=\"#mb7e5bddbe5\" y=\"115.92\"/>\r\n     <use style=\"fill:#ff7f0e;stroke:#ff7f0e;\" x=\"244.373467\" xlink:href=\"#mb7e5bddbe5\" y=\"115.92\"/>\r\n     <use style=\"fill:#ff7f0e;stroke:#ff7f0e;\" x=\"287.198502\" xlink:href=\"#mb7e5bddbe5\" y=\"115.92\"/>\r\n     <use style=\"fill:#ff7f0e;stroke:#ff7f0e;\" x=\"241.314536\" xlink:href=\"#mb7e5bddbe5\" y=\"115.92\"/>\r\n     <use style=\"fill:#ff7f0e;stroke:#ff7f0e;\" x=\"210.725226\" xlink:href=\"#mb7e5bddbe5\" y=\"115.92\"/>\r\n     <use style=\"fill:#ff7f0e;stroke:#ff7f0e;\" x=\"330.023536\" xlink:href=\"#mb7e5bddbe5\" y=\"115.92\"/>\r\n     <use style=\"fill:#ff7f0e;stroke:#ff7f0e;\" x=\"230.608278\" xlink:href=\"#mb7e5bddbe5\" y=\"115.92\"/>\r\n     <use style=\"fill:#ff7f0e;stroke:#ff7f0e;\" x=\"287.198502\" xlink:href=\"#mb7e5bddbe5\" y=\"115.92\"/>\r\n     <use style=\"fill:#ff7f0e;stroke:#ff7f0e;\" x=\"326.964605\" xlink:href=\"#mb7e5bddbe5\" y=\"115.92\"/>\r\n     <use style=\"fill:#ff7f0e;stroke:#ff7f0e;\" x=\"54.719744\" xlink:href=\"#mb7e5bddbe5\" y=\"115.92\"/>\r\n     <use style=\"fill:#ff7f0e;stroke:#ff7f0e;\" x=\"307.081553\" xlink:href=\"#mb7e5bddbe5\" y=\"115.92\"/>\r\n     <use style=\"fill:#ff7f0e;stroke:#ff7f0e;\" x=\"245.902933\" xlink:href=\"#mb7e5bddbe5\" y=\"115.92\"/>\r\n     <use style=\"fill:#ff7f0e;stroke:#ff7f0e;\" x=\"252.020795\" xlink:href=\"#mb7e5bddbe5\" y=\"115.92\"/>\r\n     <use style=\"fill:#ff7f0e;stroke:#ff7f0e;\" x=\"354.494984\" xlink:href=\"#mb7e5bddbe5\" y=\"115.92\"/>\r\n     <use style=\"fill:#ff7f0e;stroke:#ff7f0e;\" x=\"343.788726\" xlink:href=\"#mb7e5bddbe5\" y=\"115.92\"/>\r\n     <use style=\"fill:#ff7f0e;stroke:#ff7f0e;\" x=\"278.021709\" xlink:href=\"#mb7e5bddbe5\" y=\"115.92\"/>\r\n     <use style=\"fill:#ff7f0e;stroke:#ff7f0e;\" x=\"244.373467\" xlink:href=\"#mb7e5bddbe5\" y=\"115.92\"/>\r\n     <use style=\"fill:#ff7f0e;stroke:#ff7f0e;\" x=\"258.138657\" xlink:href=\"#mb7e5bddbe5\" y=\"115.92\"/>\r\n     <use style=\"fill:#ff7f0e;stroke:#ff7f0e;\" x=\"319.317277\" xlink:href=\"#mb7e5bddbe5\" y=\"115.92\"/>\r\n     <use style=\"fill:#ff7f0e;stroke:#ff7f0e;\" x=\"268.844916\" xlink:href=\"#mb7e5bddbe5\" y=\"115.92\"/>\r\n     <use style=\"fill:#ff7f0e;stroke:#ff7f0e;\" x=\"293.316364\" xlink:href=\"#mb7e5bddbe5\" y=\"115.92\"/>\r\n     <use style=\"fill:#ff7f0e;stroke:#ff7f0e;\" x=\"232.137743\" xlink:href=\"#mb7e5bddbe5\" y=\"115.92\"/>\r\n     <use style=\"fill:#ff7f0e;stroke:#ff7f0e;\" x=\"215.313623\" xlink:href=\"#mb7e5bddbe5\" y=\"115.92\"/>\r\n     <use style=\"fill:#ff7f0e;stroke:#ff7f0e;\" x=\"274.962778\" xlink:href=\"#mb7e5bddbe5\" y=\"115.92\"/>\r\n     <use style=\"fill:#ff7f0e;stroke:#ff7f0e;\" x=\"308.611019\" xlink:href=\"#mb7e5bddbe5\" y=\"115.92\"/>\r\n     <use style=\"fill:#ff7f0e;stroke:#ff7f0e;\" x=\"296.375295\" xlink:href=\"#mb7e5bddbe5\" y=\"115.92\"/>\r\n     <use style=\"fill:#ff7f0e;stroke:#ff7f0e;\" x=\"255.079726\" xlink:href=\"#mb7e5bddbe5\" y=\"115.92\"/>\r\n     <use style=\"fill:#ff7f0e;stroke:#ff7f0e;\" x=\"349.906588\" xlink:href=\"#mb7e5bddbe5\" y=\"115.92\"/>\r\n     <use style=\"fill:#ff7f0e;stroke:#ff7f0e;\" x=\"200.018968\" xlink:href=\"#mb7e5bddbe5\" y=\"115.92\"/>\r\n     <use style=\"fill:#ff7f0e;stroke:#ff7f0e;\" x=\"262.727054\" xlink:href=\"#mb7e5bddbe5\" y=\"115.92\"/>\r\n     <use style=\"fill:#ff7f0e;stroke:#ff7f0e;\" x=\"311.66995\" xlink:href=\"#mb7e5bddbe5\" y=\"115.92\"/>\r\n     <use style=\"fill:#ff7f0e;stroke:#ff7f0e;\" x=\"230.608278\" xlink:href=\"#mb7e5bddbe5\" y=\"115.92\"/>\r\n     <use style=\"fill:#ff7f0e;stroke:#ff7f0e;\" x=\"356.02445\" xlink:href=\"#mb7e5bddbe5\" y=\"115.92\"/>\r\n     <use style=\"fill:#ff7f0e;stroke:#ff7f0e;\" x=\"317.787812\" xlink:href=\"#mb7e5bddbe5\" y=\"115.92\"/>\r\n     <use style=\"fill:#ff7f0e;stroke:#ff7f0e;\" x=\"265.785985\" xlink:href=\"#mb7e5bddbe5\" y=\"115.92\"/>\r\n     <use style=\"fill:#ff7f0e;stroke:#ff7f0e;\" x=\"319.317277\" xlink:href=\"#mb7e5bddbe5\" y=\"115.92\"/>\r\n     <use style=\"fill:#ff7f0e;stroke:#ff7f0e;\" x=\"274.962778\" xlink:href=\"#mb7e5bddbe5\" y=\"115.92\"/>\r\n     <use style=\"fill:#ff7f0e;stroke:#ff7f0e;\" x=\"252.020795\" xlink:href=\"#mb7e5bddbe5\" y=\"115.92\"/>\r\n     <use style=\"fill:#ff7f0e;stroke:#ff7f0e;\" x=\"285.669036\" xlink:href=\"#mb7e5bddbe5\" y=\"115.92\"/>\r\n     <use style=\"fill:#ff7f0e;stroke:#ff7f0e;\" x=\"336.141398\" xlink:href=\"#mb7e5bddbe5\" y=\"115.92\"/>\r\n     <use style=\"fill:#ff7f0e;stroke:#ff7f0e;\" x=\"331.553002\" xlink:href=\"#mb7e5bddbe5\" y=\"115.92\"/>\r\n     <use style=\"fill:#ff7f0e;stroke:#ff7f0e;\" x=\"200.018968\" xlink:href=\"#mb7e5bddbe5\" y=\"115.92\"/>\r\n     <use style=\"fill:#ff7f0e;stroke:#ff7f0e;\" x=\"270.374381\" xlink:href=\"#mb7e5bddbe5\" y=\"115.92\"/>\r\n     <use style=\"fill:#ff7f0e;stroke:#ff7f0e;\" x=\"343.788726\" xlink:href=\"#mb7e5bddbe5\" y=\"115.92\"/>\r\n     <use style=\"fill:#ff7f0e;stroke:#ff7f0e;\" x=\"219.902019\" xlink:href=\"#mb7e5bddbe5\" y=\"115.92\"/>\r\n     <use style=\"fill:#ff7f0e;stroke:#ff7f0e;\" x=\"233.667209\" xlink:href=\"#mb7e5bddbe5\" y=\"115.92\"/>\r\n     <use style=\"fill:#ff7f0e;stroke:#ff7f0e;\" x=\"330.023536\" xlink:href=\"#mb7e5bddbe5\" y=\"115.92\"/>\r\n     <use style=\"fill:#ff7f0e;stroke:#ff7f0e;\" x=\"213.784157\" xlink:href=\"#mb7e5bddbe5\" y=\"115.92\"/>\r\n     <use style=\"fill:#ff7f0e;stroke:#ff7f0e;\" x=\"259.668123\" xlink:href=\"#mb7e5bddbe5\" y=\"115.92\"/>\r\n     <use style=\"fill:#ff7f0e;stroke:#ff7f0e;\" x=\"322.376208\" xlink:href=\"#mb7e5bddbe5\" y=\"115.92\"/>\r\n     <use style=\"fill:#ff7f0e;stroke:#ff7f0e;\" x=\"281.08064\" xlink:href=\"#mb7e5bddbe5\" y=\"115.92\"/>\r\n     <use style=\"fill:#ff7f0e;stroke:#ff7f0e;\" x=\"238.255605\" xlink:href=\"#mb7e5bddbe5\" y=\"115.92\"/>\r\n     <use style=\"fill:#ff7f0e;stroke:#ff7f0e;\" x=\"215.313623\" xlink:href=\"#mb7e5bddbe5\" y=\"115.92\"/>\r\n     <use style=\"fill:#ff7f0e;stroke:#ff7f0e;\" x=\"296.375295\" xlink:href=\"#mb7e5bddbe5\" y=\"115.92\"/>\r\n     <use style=\"fill:#ff7f0e;stroke:#ff7f0e;\" x=\"276.492243\" xlink:href=\"#mb7e5bddbe5\" y=\"115.92\"/>\r\n     <use style=\"fill:#ff7f0e;stroke:#ff7f0e;\" x=\"261.197588\" xlink:href=\"#mb7e5bddbe5\" y=\"115.92\"/>\r\n     <use style=\"fill:#ff7f0e;stroke:#ff7f0e;\" x=\"245.902933\" xlink:href=\"#mb7e5bddbe5\" y=\"115.92\"/>\r\n     <use style=\"fill:#ff7f0e;stroke:#ff7f0e;\" x=\"352.965519\" xlink:href=\"#mb7e5bddbe5\" y=\"115.92\"/>\r\n     <use style=\"fill:#ff7f0e;stroke:#ff7f0e;\" x=\"54.719744\" xlink:href=\"#mb7e5bddbe5\" y=\"115.92\"/>\r\n     <use style=\"fill:#ff7f0e;stroke:#ff7f0e;\" x=\"330.023536\" xlink:href=\"#mb7e5bddbe5\" y=\"115.92\"/>\r\n     <use style=\"fill:#ff7f0e;stroke:#ff7f0e;\" x=\"183.194847\" xlink:href=\"#mb7e5bddbe5\" y=\"115.92\"/>\r\n     <use style=\"fill:#ff7f0e;stroke:#ff7f0e;\" x=\"304.022622\" xlink:href=\"#mb7e5bddbe5\" y=\"115.92\"/>\r\n     <use style=\"fill:#ff7f0e;stroke:#ff7f0e;\" x=\"276.492243\" xlink:href=\"#mb7e5bddbe5\" y=\"115.92\"/>\r\n     <use style=\"fill:#ff7f0e;stroke:#ff7f0e;\" x=\"253.550261\" xlink:href=\"#mb7e5bddbe5\" y=\"115.92\"/>\r\n     <use style=\"fill:#ff7f0e;stroke:#ff7f0e;\" x=\"256.609192\" xlink:href=\"#mb7e5bddbe5\" y=\"115.92\"/>\r\n     <use style=\"fill:#ff7f0e;stroke:#ff7f0e;\" x=\"252.020795\" xlink:href=\"#mb7e5bddbe5\" y=\"115.92\"/>\r\n     <use style=\"fill:#ff7f0e;stroke:#ff7f0e;\" x=\"207.666295\" xlink:href=\"#mb7e5bddbe5\" y=\"115.92\"/>\r\n     <use style=\"fill:#ff7f0e;stroke:#ff7f0e;\" x=\"250.49133\" xlink:href=\"#mb7e5bddbe5\" y=\"115.92\"/>\r\n     <use style=\"fill:#ff7f0e;stroke:#ff7f0e;\" x=\"192.37164\" xlink:href=\"#mb7e5bddbe5\" y=\"115.92\"/>\r\n     <use style=\"fill:#ff7f0e;stroke:#ff7f0e;\" x=\"339.200329\" xlink:href=\"#mb7e5bddbe5\" y=\"115.92\"/>\r\n     <use style=\"fill:#ff7f0e;stroke:#ff7f0e;\" x=\"340.729795\" xlink:href=\"#mb7e5bddbe5\" y=\"115.92\"/>\r\n     <use style=\"fill:#ff7f0e;stroke:#ff7f0e;\" x=\"245.902933\" xlink:href=\"#mb7e5bddbe5\" y=\"115.92\"/>\r\n     <use style=\"fill:#ff7f0e;stroke:#ff7f0e;\" x=\"357.553915\" xlink:href=\"#mb7e5bddbe5\" y=\"115.92\"/>\r\n     <use style=\"fill:#ff7f0e;stroke:#ff7f0e;\" x=\"239.785071\" xlink:href=\"#mb7e5bddbe5\" y=\"115.92\"/>\r\n     <use style=\"fill:#ff7f0e;stroke:#ff7f0e;\" x=\"235.196674\" xlink:href=\"#mb7e5bddbe5\" y=\"115.92\"/>\r\n     <use style=\"fill:#ff7f0e;stroke:#ff7f0e;\" x=\"356.02445\" xlink:href=\"#mb7e5bddbe5\" y=\"115.92\"/>\r\n     <use style=\"fill:#ff7f0e;stroke:#ff7f0e;\" x=\"285.669036\" xlink:href=\"#mb7e5bddbe5\" y=\"115.92\"/>\r\n     <use style=\"fill:#ff7f0e;stroke:#ff7f0e;\" x=\"244.373467\" xlink:href=\"#mb7e5bddbe5\" y=\"115.92\"/>\r\n     <use style=\"fill:#ff7f0e;stroke:#ff7f0e;\" x=\"273.433312\" xlink:href=\"#mb7e5bddbe5\" y=\"115.92\"/>\r\n     <use style=\"fill:#ff7f0e;stroke:#ff7f0e;\" x=\"323.905674\" xlink:href=\"#mb7e5bddbe5\" y=\"115.92\"/>\r\n     <use style=\"fill:#ff7f0e;stroke:#ff7f0e;\" x=\"224.490416\" xlink:href=\"#mb7e5bddbe5\" y=\"115.92\"/>\r\n     <use style=\"fill:#ff7f0e;stroke:#ff7f0e;\" x=\"256.609192\" xlink:href=\"#mb7e5bddbe5\" y=\"115.92\"/>\r\n     <use style=\"fill:#ff7f0e;stroke:#ff7f0e;\" x=\"342.25926\" xlink:href=\"#mb7e5bddbe5\" y=\"115.92\"/>\r\n     <use style=\"fill:#ff7f0e;stroke:#ff7f0e;\" x=\"319.317277\" xlink:href=\"#mb7e5bddbe5\" y=\"115.92\"/>\r\n     <use style=\"fill:#ff7f0e;stroke:#ff7f0e;\" x=\"284.139571\" xlink:href=\"#mb7e5bddbe5\" y=\"115.92\"/>\r\n     <use style=\"fill:#ff7f0e;stroke:#ff7f0e;\" x=\"334.611933\" xlink:href=\"#mb7e5bddbe5\" y=\"115.92\"/>\r\n     <use style=\"fill:#ff7f0e;stroke:#ff7f0e;\" x=\"331.553002\" xlink:href=\"#mb7e5bddbe5\" y=\"115.92\"/>\r\n     <use style=\"fill:#ff7f0e;stroke:#ff7f0e;\" x=\"320.846743\" xlink:href=\"#mb7e5bddbe5\" y=\"115.92\"/>\r\n     <use style=\"fill:#ff7f0e;stroke:#ff7f0e;\" x=\"311.66995\" xlink:href=\"#mb7e5bddbe5\" y=\"115.92\"/>\r\n     <use style=\"fill:#ff7f0e;stroke:#ff7f0e;\" x=\"265.785985\" xlink:href=\"#mb7e5bddbe5\" y=\"115.92\"/>\r\n     <use style=\"fill:#ff7f0e;stroke:#ff7f0e;\" x=\"226.019881\" xlink:href=\"#mb7e5bddbe5\" y=\"115.92\"/>\r\n     <use style=\"fill:#ff7f0e;stroke:#ff7f0e;\" x=\"236.72614\" xlink:href=\"#mb7e5bddbe5\" y=\"115.92\"/>\r\n     <use style=\"fill:#ff7f0e;stroke:#ff7f0e;\" x=\"229.078812\" xlink:href=\"#mb7e5bddbe5\" y=\"115.92\"/>\r\n     <use style=\"fill:#ff7f0e;stroke:#ff7f0e;\" x=\"213.784157\" xlink:href=\"#mb7e5bddbe5\" y=\"115.92\"/>\r\n     <use style=\"fill:#ff7f0e;stroke:#ff7f0e;\" x=\"203.077899\" xlink:href=\"#mb7e5bddbe5\" y=\"115.92\"/>\r\n     <use style=\"fill:#ff7f0e;stroke:#ff7f0e;\" x=\"279.551174\" xlink:href=\"#mb7e5bddbe5\" y=\"115.92\"/>\r\n     <use style=\"fill:#ff7f0e;stroke:#ff7f0e;\" x=\"310.140484\" xlink:href=\"#mb7e5bddbe5\" y=\"115.92\"/>\r\n     <use style=\"fill:#ff7f0e;stroke:#ff7f0e;\" x=\"328.49407\" xlink:href=\"#mb7e5bddbe5\" y=\"115.92\"/>\r\n     <use style=\"fill:#ff7f0e;stroke:#ff7f0e;\" x=\"262.727054\" xlink:href=\"#mb7e5bddbe5\" y=\"115.92\"/>\r\n     <use style=\"fill:#ff7f0e;stroke:#ff7f0e;\" x=\"291.786898\" xlink:href=\"#mb7e5bddbe5\" y=\"115.92\"/>\r\n     <use style=\"fill:#ff7f0e;stroke:#ff7f0e;\" x=\"177.076985\" xlink:href=\"#mb7e5bddbe5\" y=\"115.92\"/>\r\n     <use style=\"fill:#ff7f0e;stroke:#ff7f0e;\" x=\"359.083381\" xlink:href=\"#mb7e5bddbe5\" y=\"115.92\"/>\r\n     <use style=\"fill:#ff7f0e;stroke:#ff7f0e;\" x=\"310.140484\" xlink:href=\"#mb7e5bddbe5\" y=\"115.92\"/>\r\n     <use style=\"fill:#ff7f0e;stroke:#ff7f0e;\" x=\"276.492243\" xlink:href=\"#mb7e5bddbe5\" y=\"115.92\"/>\r\n     <use style=\"fill:#ff7f0e;stroke:#ff7f0e;\" x=\"230.608278\" xlink:href=\"#mb7e5bddbe5\" y=\"115.92\"/>\r\n     <use style=\"fill:#ff7f0e;stroke:#ff7f0e;\" x=\"276.492243\" xlink:href=\"#mb7e5bddbe5\" y=\"115.92\"/>\r\n     <use style=\"fill:#ff7f0e;stroke:#ff7f0e;\" x=\"224.490416\" xlink:href=\"#mb7e5bddbe5\" y=\"115.92\"/>\r\n     <use style=\"fill:#ff7f0e;stroke:#ff7f0e;\" x=\"352.965519\" xlink:href=\"#mb7e5bddbe5\" y=\"115.92\"/>\r\n     <use style=\"fill:#ff7f0e;stroke:#ff7f0e;\" x=\"293.316364\" xlink:href=\"#mb7e5bddbe5\" y=\"115.92\"/>\r\n     <use style=\"fill:#ff7f0e;stroke:#ff7f0e;\" x=\"239.785071\" xlink:href=\"#mb7e5bddbe5\" y=\"115.92\"/>\r\n     <use style=\"fill:#ff7f0e;stroke:#ff7f0e;\" x=\"302.493157\" xlink:href=\"#mb7e5bddbe5\" y=\"115.92\"/>\r\n     <use style=\"fill:#ff7f0e;stroke:#ff7f0e;\" x=\"245.902933\" xlink:href=\"#mb7e5bddbe5\" y=\"115.92\"/>\r\n     <use style=\"fill:#ff7f0e;stroke:#ff7f0e;\" x=\"274.962778\" xlink:href=\"#mb7e5bddbe5\" y=\"115.92\"/>\r\n     <use style=\"fill:#ff7f0e;stroke:#ff7f0e;\" x=\"296.375295\" xlink:href=\"#mb7e5bddbe5\" y=\"115.92\"/>\r\n     <use style=\"fill:#ff7f0e;stroke:#ff7f0e;\" x=\"252.020795\" xlink:href=\"#mb7e5bddbe5\" y=\"115.92\"/>\r\n     <use style=\"fill:#ff7f0e;stroke:#ff7f0e;\" x=\"271.903847\" xlink:href=\"#mb7e5bddbe5\" y=\"115.92\"/>\r\n     <use style=\"fill:#ff7f0e;stroke:#ff7f0e;\" x=\"313.199415\" xlink:href=\"#mb7e5bddbe5\" y=\"115.92\"/>\r\n     <use style=\"fill:#ff7f0e;stroke:#ff7f0e;\" x=\"245.902933\" xlink:href=\"#mb7e5bddbe5\" y=\"115.92\"/>\r\n     <use style=\"fill:#ff7f0e;stroke:#ff7f0e;\" x=\"311.66995\" xlink:href=\"#mb7e5bddbe5\" y=\"115.92\"/>\r\n     <use style=\"fill:#ff7f0e;stroke:#ff7f0e;\" x=\"230.608278\" xlink:href=\"#mb7e5bddbe5\" y=\"115.92\"/>\r\n     <use style=\"fill:#ff7f0e;stroke:#ff7f0e;\" x=\"305.552088\" xlink:href=\"#mb7e5bddbe5\" y=\"115.92\"/>\r\n     <use style=\"fill:#ff7f0e;stroke:#ff7f0e;\" x=\"196.960037\" xlink:href=\"#mb7e5bddbe5\" y=\"115.92\"/>\r\n     <use style=\"fill:#ff7f0e;stroke:#ff7f0e;\" x=\"252.020795\" xlink:href=\"#mb7e5bddbe5\" y=\"115.92\"/>\r\n     <use style=\"fill:#ff7f0e;stroke:#ff7f0e;\" x=\"340.729795\" xlink:href=\"#mb7e5bddbe5\" y=\"115.92\"/>\r\n     <use style=\"fill:#ff7f0e;stroke:#ff7f0e;\" x=\"319.317277\" xlink:href=\"#mb7e5bddbe5\" y=\"115.92\"/>\r\n     <use style=\"fill:#ff7f0e;stroke:#ff7f0e;\" x=\"203.077899\" xlink:href=\"#mb7e5bddbe5\" y=\"115.92\"/>\r\n     <use style=\"fill:#ff7f0e;stroke:#ff7f0e;\" x=\"282.610105\" xlink:href=\"#mb7e5bddbe5\" y=\"115.92\"/>\r\n     <use style=\"fill:#ff7f0e;stroke:#ff7f0e;\" x=\"253.550261\" xlink:href=\"#mb7e5bddbe5\" y=\"115.92\"/>\r\n     <use style=\"fill:#ff7f0e;stroke:#ff7f0e;\" x=\"238.255605\" xlink:href=\"#mb7e5bddbe5\" y=\"115.92\"/>\r\n     <use style=\"fill:#ff7f0e;stroke:#ff7f0e;\" x=\"320.846743\" xlink:href=\"#mb7e5bddbe5\" y=\"115.92\"/>\r\n     <use style=\"fill:#ff7f0e;stroke:#ff7f0e;\" x=\"210.725226\" xlink:href=\"#mb7e5bddbe5\" y=\"115.92\"/>\r\n     <use style=\"fill:#ff7f0e;stroke:#ff7f0e;\" x=\"238.255605\" xlink:href=\"#mb7e5bddbe5\" y=\"115.92\"/>\r\n     <use style=\"fill:#ff7f0e;stroke:#ff7f0e;\" x=\"268.844916\" xlink:href=\"#mb7e5bddbe5\" y=\"115.92\"/>\r\n     <use style=\"fill:#ff7f0e;stroke:#ff7f0e;\" x=\"279.551174\" xlink:href=\"#mb7e5bddbe5\" y=\"115.92\"/>\r\n     <use style=\"fill:#ff7f0e;stroke:#ff7f0e;\" x=\"340.729795\" xlink:href=\"#mb7e5bddbe5\" y=\"115.92\"/>\r\n     <use style=\"fill:#ff7f0e;stroke:#ff7f0e;\" x=\"302.493157\" xlink:href=\"#mb7e5bddbe5\" y=\"115.92\"/>\r\n     <use style=\"fill:#ff7f0e;stroke:#ff7f0e;\" x=\"262.727054\" xlink:href=\"#mb7e5bddbe5\" y=\"115.92\"/>\r\n     <use style=\"fill:#ff7f0e;stroke:#ff7f0e;\" x=\"331.553002\" xlink:href=\"#mb7e5bddbe5\" y=\"115.92\"/>\r\n     <use style=\"fill:#ff7f0e;stroke:#ff7f0e;\" x=\"290.257433\" xlink:href=\"#mb7e5bddbe5\" y=\"115.92\"/>\r\n     <use style=\"fill:#ff7f0e;stroke:#ff7f0e;\" x=\"250.49133\" xlink:href=\"#mb7e5bddbe5\" y=\"115.92\"/>\r\n     <use style=\"fill:#ff7f0e;stroke:#ff7f0e;\" x=\"242.844002\" xlink:href=\"#mb7e5bddbe5\" y=\"115.92\"/>\r\n     <use style=\"fill:#ff7f0e;stroke:#ff7f0e;\" x=\"345.318191\" xlink:href=\"#mb7e5bddbe5\" y=\"115.92\"/>\r\n     <use style=\"fill:#ff7f0e;stroke:#ff7f0e;\" x=\"314.728881\" xlink:href=\"#mb7e5bddbe5\" y=\"115.92\"/>\r\n     <use style=\"fill:#ff7f0e;stroke:#ff7f0e;\" x=\"247.432398\" xlink:href=\"#mb7e5bddbe5\" y=\"115.92\"/>\r\n    </g>\r\n   </g>\r\n   <g id=\"patch_3\">\r\n    <path d=\"M 39.501563 224.64 \r\nL 39.501563 7.2 \r\n\" style=\"fill:none;stroke:#cccccc;stroke-linecap:square;stroke-linejoin:miter;stroke-width:0.8;\"/>\r\n   </g>\r\n   <g id=\"patch_4\">\r\n    <path d=\"M 374.301562 224.64 \r\nL 374.301562 7.2 \r\n\" style=\"fill:none;stroke:#cccccc;stroke-linecap:square;stroke-linejoin:miter;stroke-width:0.8;\"/>\r\n   </g>\r\n   <g id=\"patch_5\">\r\n    <path d=\"M 39.501563 224.64 \r\nL 374.301562 224.64 \r\n\" style=\"fill:none;stroke:#cccccc;stroke-linecap:square;stroke-linejoin:miter;stroke-width:0.8;\"/>\r\n   </g>\r\n   <g id=\"patch_6\">\r\n    <path d=\"M 39.501563 7.2 \r\nL 374.301562 7.2 \r\n\" style=\"fill:none;stroke:#cccccc;stroke-linecap:square;stroke-linejoin:miter;stroke-width:0.8;\"/>\r\n   </g>\r\n  </g>\r\n </g>\r\n <defs>\r\n  <clipPath id=\"pd856596da4\">\r\n   <rect height=\"217.44\" width=\"334.8\" x=\"39.501563\" y=\"7.2\"/>\r\n  </clipPath>\r\n </defs>\r\n</svg>\r\n",
            "image/png": "[encoded data removed]"
          },
          "metadata": {
            "tags": []
          }
        }
      ]
    },
    {
      "cell_type": "code",
      "metadata": {
        "id": "uqimaTt38nw7"
      },
      "source": [
        "# sb.set_style(\"whitegrid\");\n",
        "# sb.pairplot(dataset, hue=\"Outcome\", size=3);\n",
        "# plt.show()"
      ],
      "execution_count": null,
      "outputs": []
    },
    {
      "cell_type": "code",
      "metadata": {
        "tags": [],
        "id": "maNaXnAk8nw9",
        "outputId": "104df319-f40d-4b86-e1cc-72abc2258e24"
      },
      "source": [
        "# Mengecek apa ada data yang kosong \n",
        "for i in dataset.columns:\n",
        "    print(i, ': ', len(dataset[dataset[i].isnull()][i]))"
      ],
      "execution_count": null,
      "outputs": [
        {
          "output_type": "stream",
          "text": [
            "Pregnancies :  0\n",
            "Glucose :  0\n",
            "BloodPressure :  0\n",
            "SkinThickness :  0\n",
            "Insulin :  0\n",
            "BMI :  0\n",
            "DiabetesPedigreeFunction :  0\n",
            "Age :  0\n",
            "Outcome :  0\n"
          ],
          "name": "stdout"
        }
      ]
    },
    {
      "cell_type": "code",
      "metadata": {
        "tags": [],
        "id": "rjX8AnRL8nxA",
        "outputId": "2f133bf1-f52e-4cf0-9fae-84515c0b1fec"
      },
      "source": [
        "for i in dataset.columns:\n",
        "    if i == 'SkinThickness':\n",
        "        y = np.array(dataset[i])\n",
        "        zero = np.count_nonzero( y == 0)\n",
        "        print(zero)"
      ],
      "execution_count": null,
      "outputs": [
        {
          "output_type": "stream",
          "text": [
            "227\n"
          ],
          "name": "stdout"
        }
      ]
    },
    {
      "cell_type": "code",
      "metadata": {
        "id": "OI7aVKB-8nxC",
        "outputId": "40788c32-8fd4-44cb-e356-2037aea194b7"
      },
      "source": [
        "dataset_filtered = dataset[dataset['BloodPressure'] != 0]\n",
        "dataset_filtered_bmi = dataset_filtered[dataset_filtered['BMI'] == 0]\n",
        "dataset_filtered_glu = dataset_filtered[dataset_filtered['Glucose'] != 0]\n",
        "\n",
        "dataset_filtered_bmi"
      ],
      "execution_count": null,
      "outputs": [
        {
          "output_type": "execute_result",
          "data": {
            "text/plain": [
              "     Pregnancies  Glucose  BloodPressure  SkinThickness  Insulin  BMI  \\\n",
              "9              8      125             96              0        0  0.0   \n",
              "145            0      102             75             23        0  0.0   \n",
              "371            0      118             64             23       89  0.0   \n",
              "684            5      136             82              0        0  0.0   \n",
              "\n",
              "     DiabetesPedigreeFunction  Age  Outcome  \n",
              "9                       0.232   54        1  \n",
              "145                     0.572   21        0  \n",
              "371                     1.731   21        0  \n",
              "684                     0.640   69        0  "
            ],
            "text/html": [
              "<div>\n",
              "<style scoped>\n",
              "    .dataframe tbody tr th:only-of-type {\n",
              "        vertical-align: middle;\n",
              "    }\n",
              "\n",
              "    .dataframe tbody tr th {\n",
              "        vertical-align: top;\n",
              "    }\n",
              "\n",
              "    .dataframe thead th {\n",
              "        text-align: right;\n",
              "    }\n",
              "</style>\n",
              "<table border=\"1\" class=\"dataframe\">\n",
              "  <thead>\n",
              "    <tr style=\"text-align: right;\">\n",
              "      <th></th>\n",
              "      <th>Pregnancies</th>\n",
              "      <th>Glucose</th>\n",
              "      <th>BloodPressure</th>\n",
              "      <th>SkinThickness</th>\n",
              "      <th>Insulin</th>\n",
              "      <th>BMI</th>\n",
              "      <th>DiabetesPedigreeFunction</th>\n",
              "      <th>Age</th>\n",
              "      <th>Outcome</th>\n",
              "    </tr>\n",
              "  </thead>\n",
              "  <tbody>\n",
              "    <tr>\n",
              "      <th>9</th>\n",
              "      <td>8</td>\n",
              "      <td>125</td>\n",
              "      <td>96</td>\n",
              "      <td>0</td>\n",
              "      <td>0</td>\n",
              "      <td>0.0</td>\n",
              "      <td>0.232</td>\n",
              "      <td>54</td>\n",
              "      <td>1</td>\n",
              "    </tr>\n",
              "    <tr>\n",
              "      <th>145</th>\n",
              "      <td>0</td>\n",
              "      <td>102</td>\n",
              "      <td>75</td>\n",
              "      <td>23</td>\n",
              "      <td>0</td>\n",
              "      <td>0.0</td>\n",
              "      <td>0.572</td>\n",
              "      <td>21</td>\n",
              "      <td>0</td>\n",
              "    </tr>\n",
              "    <tr>\n",
              "      <th>371</th>\n",
              "      <td>0</td>\n",
              "      <td>118</td>\n",
              "      <td>64</td>\n",
              "      <td>23</td>\n",
              "      <td>89</td>\n",
              "      <td>0.0</td>\n",
              "      <td>1.731</td>\n",
              "      <td>21</td>\n",
              "      <td>0</td>\n",
              "    </tr>\n",
              "    <tr>\n",
              "      <th>684</th>\n",
              "      <td>5</td>\n",
              "      <td>136</td>\n",
              "      <td>82</td>\n",
              "      <td>0</td>\n",
              "      <td>0</td>\n",
              "      <td>0.0</td>\n",
              "      <td>0.640</td>\n",
              "      <td>69</td>\n",
              "      <td>0</td>\n",
              "    </tr>\n",
              "  </tbody>\n",
              "</table>\n",
              "</div>"
            ]
          },
          "metadata": {
            "tags": []
          },
          "execution_count": 39
        }
      ]
    },
    {
      "cell_type": "code",
      "metadata": {
        "id": "09g8IS7l8nxF"
      },
      "source": [
        "from sklearn.preprocessing import StandardScaler\n",
        "scaler = StandardScaler()\n",
        "\n",
        "feature = dataset.drop(['Outcome'], axis=1)\n",
        "label = dataset['Outcome']\n",
        "\n",
        "feature_scaled = scaler.fit_transform(feature.values)"
      ],
      "execution_count": null,
      "outputs": []
    },
    {
      "cell_type": "code",
      "metadata": {
        "id": "ZRI8_tkq8nxH"
      },
      "source": [
        "from sklearn.model_selection import train_test_split\n",
        "\n",
        "feature_train, feature_test, label_train, label_test = train_test_split(feature_scaled, label, test_size=0.25, random_state=4)"
      ],
      "execution_count": null,
      "outputs": []
    },
    {
      "cell_type": "code",
      "metadata": {
        "id": "JnT5iLio8nxK",
        "outputId": "00d9feb6-3060-4975-8ca2-2904d4c12928"
      },
      "source": [
        "from imblearn.over_sampling import SMOTE\n",
        "smt = SMOTE()\n",
        "feature_train, label_train = smt.fit_sample(feature_train, label_train)\n",
        "np.bincount(label_train)"
      ],
      "execution_count": null,
      "outputs": [
        {
          "output_type": "execute_result",
          "data": {
            "text/plain": [
              "array([374, 374], dtype=int64)"
            ]
          },
          "metadata": {
            "tags": []
          },
          "execution_count": 27
        }
      ]
    },
    {
      "cell_type": "code",
      "metadata": {
        "id": "Fd5fxbF-8nxM"
      },
      "source": [
        "from sklearn.metrics import f1_score, precision_score, recall_score\n",
        "from sklearn.ensemble import RandomForestClassifier\n",
        "from sklearn.svm import SVC\n",
        "from sklearn.svm import LinearSVC\n",
        "from sklearn.neighbors import KNeighborsClassifier\n",
        "from sklearn.tree import DecisionTreeClassifier\n",
        "from sklearn.neural_network import MLPClassifier\n",
        "from sklearn.ensemble import AdaBoostClassifier\n",
        "from sklearn.naive_bayes import GaussianNB\n",
        "from sklearn.discriminant_analysis import QuadraticDiscriminantAnalysis\n",
        "import xgboost"
      ],
      "execution_count": null,
      "outputs": []
    },
    {
      "cell_type": "code",
      "metadata": {
        "id": "tAH4UQxZ8nxO"
      },
      "source": [
        "names = [\"Random Forest Classifier estimator 20\", \"Random Forest Classifier estimator 40\",\"Random Forest Classifier estimator 60\",\"Random Forest Classifier estimator 80\",\"SVM RBF\",\"SVM Linear\",\"SVM Polynomial\", \"Linear SVC\", \"K-Nearest Neighbors k=1\", \"K-Nearest Neighbors k=3\", \"K-Nearest Neighbors k=5\", \"K-Nearest Neighbors k=7\", \"K-Nearest Neighbors k=9\", \"K-Nearest Neighbors k=11\", \"K-Nearest Neighbors k=13\", \"K-Nearest Neighbors k=15\", \"Decision Tree Classifier\", \"Neural Network Classifier\", \"Ada Boost Classifier\", \"Naive Bayes\", \"QDA\"]\n",
        "\n",
        "classifiers = [RandomForestClassifier(n_estimators=20 , bootstrap=True, max_features=\"sqrt\"),\n",
        "RandomForestClassifier(n_estimators =40 , bootstrap=True, max_features=\"sqrt\"),\n",
        "RandomForestClassifier(n_estimators =60 , bootstrap=True, max_features=\"sqrt\"),\n",
        "RandomForestClassifier(n_estimators =80 , bootstrap=True, max_features=\"sqrt\"),\n",
        "SVC(kernel='rbf'),\n",
        "SVC(kernel='linear'),\n",
        "SVC(kernel='poly'),\n",
        "LinearSVC(),\n",
        "KNeighborsClassifier(n_neighbors=1),\n",
        "KNeighborsClassifier(n_neighbors=3),\n",
        "KNeighborsClassifier(n_neighbors=5),\n",
        "KNeighborsClassifier(n_neighbors=7),\n",
        "KNeighborsClassifier(n_neighbors=9),\n",
        "KNeighborsClassifier(n_neighbors=11),\n",
        "KNeighborsClassifier(n_neighbors=13),\n",
        "KNeighborsClassifier(n_neighbors=15),\n",
        "DecisionTreeClassifier(max_depth=5),\n",
        "MLPClassifier(alpha=1, max_iter=1000),\n",
        "AdaBoostClassifier(n_estimators=50, learning_rate=1),\n",
        "GaussianNB(),\n",
        "QuadraticDiscriminantAnalysis()\n",
        " ]"
      ],
      "execution_count": null,
      "outputs": []
    },
    {
      "cell_type": "code",
      "metadata": {
        "id": "xl086bsD8nxQ"
      },
      "source": [
        "def nClassifier(name, classifier):\n",
        "    for n in range(len(name)):\n",
        "        classifier[n].fit(feature_train, label_train)\n",
        "        label_pred = classifier[n].predict(feature_test)\n",
        "        print('Accuracy of', name[n], 'on test set: {:.3f}'.format(classifier[n].score(feature_test, label_test)))\n",
        "        print('F1 Score: {:.3f}'.format(f1_score(label_test, label_pred, average=\"macro\")))\n",
        "        print('Precision Score: {:.3f}'.format(precision_score(label_test, label_pred, average=\"macro\")))\n",
        "        print('Recall Score: {:.3f}'.format(recall_score(label_test, label_pred, average=\"macro\")))\n",
        "        print(\" \")\n",
        "    return"
      ],
      "execution_count": null,
      "outputs": []
    },
    {
      "cell_type": "code",
      "metadata": {
        "tags": [],
        "id": "1WpqFi6Y8nxS",
        "outputId": "de3133d0-f9eb-482c-c98f-90ca907f550e"
      },
      "source": [
        "nClassifier(names, classifiers)"
      ],
      "execution_count": null,
      "outputs": [
        {
          "output_type": "stream",
          "text": [
            "Accuracy of Random Forest Classifier estimator 20 on test set: 0.750\n",
            "F1 Score: 0.732\n",
            "Precision Score: 0.727\n",
            "Recall Score: 0.741\n",
            " \n",
            "Accuracy of Random Forest Classifier estimator 40 on test set: 0.755\n",
            "F1 Score: 0.738\n",
            "Precision Score: 0.733\n",
            "Recall Score: 0.749\n",
            " \n",
            "Accuracy of Random Forest Classifier estimator 60 on test set: 0.760\n",
            "F1 Score: 0.744\n",
            "Precision Score: 0.740\n",
            "Recall Score: 0.756\n",
            " \n",
            "Accuracy of Random Forest Classifier estimator 80 on test set: 0.781\n",
            "F1 Score: 0.770\n",
            "Precision Score: 0.766\n",
            "Recall Score: 0.790\n",
            " \n",
            "Accuracy of SVM RBF on test set: 0.724\n",
            "F1 Score: 0.713\n",
            "Precision Score: 0.714\n",
            "Recall Score: 0.736\n",
            " \n",
            "Accuracy of SVM Linear on test set: 0.745\n",
            "F1 Score: 0.729\n",
            "Precision Score: 0.724\n",
            "Recall Score: 0.741\n",
            " \n",
            "Accuracy of SVM Polynomial on test set: 0.755\n",
            "F1 Score: 0.724\n",
            "Precision Score: 0.729\n",
            "Recall Score: 0.720\n",
            " \n",
            "Accuracy of Linear SVC on test set: 0.766\n",
            "F1 Score: 0.749\n",
            "Precision Score: 0.744\n",
            "Recall Score: 0.760\n",
            " \n",
            "Accuracy of K-Nearest Neighbors k=1 on test set: 0.693\n",
            "F1 Score: 0.665\n",
            "Precision Score: 0.663\n",
            "Recall Score: 0.668\n",
            " \n",
            "Accuracy of K-Nearest Neighbors k=3 on test set: 0.682\n",
            "F1 Score: 0.666\n",
            "Precision Score: 0.664\n",
            "Recall Score: 0.679\n",
            " \n",
            "Accuracy of K-Nearest Neighbors k=5 on test set: 0.672\n",
            "F1 Score: 0.662\n",
            "Precision Score: 0.667\n",
            "Recall Score: 0.685\n",
            " \n",
            "Accuracy of K-Nearest Neighbors k=7 on test set: 0.688\n",
            "F1 Score: 0.677\n",
            "Precision Score: 0.681\n",
            "Recall Score: 0.701\n",
            " \n",
            "Accuracy of K-Nearest Neighbors k=9 on test set: 0.688\n",
            "F1 Score: 0.676\n",
            "Precision Score: 0.678\n",
            "Recall Score: 0.697\n",
            " \n",
            "Accuracy of K-Nearest Neighbors k=11 on test set: 0.703\n",
            "F1 Score: 0.693\n",
            "Precision Score: 0.696\n",
            "Recall Score: 0.716\n",
            " \n",
            "Accuracy of K-Nearest Neighbors k=13 on test set: 0.693\n",
            "F1 Score: 0.686\n",
            "Precision Score: 0.694\n",
            "Recall Score: 0.715\n",
            " \n",
            "Accuracy of K-Nearest Neighbors k=15 on test set: 0.688\n",
            "F1 Score: 0.681\n",
            "Precision Score: 0.691\n",
            "Recall Score: 0.711\n",
            " \n",
            "Accuracy of Decision Tree Classifier on test set: 0.760\n",
            "F1 Score: 0.747\n",
            "Precision Score: 0.743\n",
            "Recall Score: 0.763\n",
            " \n",
            "Accuracy of Neural Network Classifier on test set: 0.708\n",
            "F1 Score: 0.698\n",
            "Precision Score: 0.699\n",
            "Recall Score: 0.720\n",
            " \n",
            "Accuracy of Ada Boost Classifier on test set: 0.771\n",
            "F1 Score: 0.751\n",
            "Precision Score: 0.747\n",
            "Recall Score: 0.757\n",
            " \n",
            "Accuracy of Naive Bayes on test set: 0.766\n",
            "F1 Score: 0.748\n",
            "Precision Score: 0.743\n",
            "Recall Score: 0.756\n",
            " \n",
            "Accuracy of QDA on test set: 0.745\n",
            "F1 Score: 0.730\n",
            "Precision Score: 0.726\n",
            "Recall Score: 0.744\n",
            " \n"
          ],
          "name": "stdout"
        }
      ]
    },
    {
      "cell_type": "markdown",
      "metadata": {
        "id": "FWBw5mwN8nxV"
      },
      "source": [
        "Akurasi tertinggi ditemukan pada andom Forest Classifier estimator 80 sebesar: 0.781"
      ]
    }
  ]
}